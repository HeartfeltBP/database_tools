{
 "cells": [
  {
   "cell_type": "code",
   "execution_count": null,
   "metadata": {},
   "outputs": [],
   "source": [
    "from extract import ExtractData\n",
    "\n",
    "worker = ExtractData(records_path='/home/cam/Documents/data-profiling/data-profiling/RECORDS-adults',\n",
    "                     last_record=0,\n",
    "                     max_records=0)\n",
    "worker.run()"
   ]
  },
  {
   "cell_type": "code",
   "execution_count": 4,
   "metadata": {},
   "outputs": [],
   "source": [
    "# TODO: validating a single pleth and abp window\n",
    "\n",
    "import numpy as np\n",
    "from wfdb import rdrecord\n",
    "from preprocess import SignalProcessor\n",
    "\n",
    "rec = rdrecord('physionet.org/files/mimic3wdb/1.0/30/3000063/3000063_0007')\n",
    "signals = rec.sig_name\n",
    "pleth = rec.p_signal[:, signals.index('PLETH')].astype(np.float64)\n",
    "abp = rec.p_signal[:, signals.index('ABP')].astype(np.float64)"
   ]
  },
  {
   "cell_type": "code",
   "execution_count": null,
   "metadata": {},
   "outputs": [],
   "source": [
    "from shutil import rmtree\n",
    "\n",
    "rmtree('physionet.org/files/mimic3wdb/1.0/')"
   ]
  },
  {
   "cell_type": "code",
   "execution_count": null,
   "metadata": {},
   "outputs": [],
   "source": [
    "import numpy as np\n",
    "\n",
    "# return window from valid indices prototype\n",
    "X = np.array([[0, 1], [2, 3], [4, 5]])\n",
    "X[[0, 1, 2], 0]"
   ]
  }
 ],
 "metadata": {
  "kernelspec": {
   "display_name": "Python 3.8.10 ('DeepLearning')",
   "language": "python",
   "name": "python3"
  },
  "language_info": {
   "codemirror_mode": {
    "name": "ipython",
    "version": 3
   },
   "file_extension": ".py",
   "mimetype": "text/x-python",
   "name": "python",
   "nbconvert_exporter": "python",
   "pygments_lexer": "ipython3",
   "version": "3.8.10"
  },
  "orig_nbformat": 4,
  "vscode": {
   "interpreter": {
    "hash": "246749377ead2fdda3952347e30ec15afb602bbe25c9b1f20f37c715b8d2d303"
   }
  }
 },
 "nbformat": 4,
 "nbformat_minor": 2
}
