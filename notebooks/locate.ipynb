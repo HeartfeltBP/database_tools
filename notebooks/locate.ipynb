{
 "cells": [
  {
   "cell_type": "code",
   "execution_count": null,
   "metadata": {},
   "outputs": [],
   "source": [
    "import numpy as np\n",
    "import pandas as pd\n",
    "from database_tools.io.wfdb import locate_valid_records\n",
    "\n",
    "pd.options.plotting.backend = 'plotly'"
   ]
  },
  {
   "cell_type": "code",
   "execution_count": null,
   "metadata": {},
   "outputs": [],
   "source": [
    "signals = ['PLETH', 'ABP']\n",
    "min_length = 75000  # 10 min in samples (125 Hz)\n",
    "n_segments = 50\n",
    "\n",
    "valid_segs = locate_valid_records(signals, min_length, n_segments)"
   ]
  }
 ],
 "metadata": {
  "kernelspec": {
   "display_name": "heartfelt-tools-Qo_l_FwJ-py3.9",
   "language": "python",
   "name": "python3"
  },
  "language_info": {
   "codemirror_mode": {
    "name": "ipython",
    "version": 3
   },
   "file_extension": ".py",
   "mimetype": "text/x-python",
   "name": "python",
   "nbconvert_exporter": "python",
   "pygments_lexer": "ipython3",
   "version": "3.9.16"
  },
  "orig_nbformat": 4,
  "vscode": {
   "interpreter": {
    "hash": "11be1819121c33cfc84416af11ffbdbeaf074b50fda951b7acc91346a1aaeb2e"
   }
  }
 },
 "nbformat": 4,
 "nbformat_minor": 2
}
