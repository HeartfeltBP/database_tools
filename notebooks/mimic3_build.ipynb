{
 "cells": [
  {
   "cell_type": "code",
   "execution_count": null,
   "metadata": {},
   "outputs": [],
   "source": [
    "import os\n",
    "import numpy as np\n",
    "import pandas as pd\n",
    "import plotly.graph_objects as go\n",
    "from database_tools.tools import BuildDatabase\n",
    "from database_tools.preprocessing.utils import ConfigMapper\n",
    "\n",
    "data_dir = '/home/cam/Documents/database_tools/data/mimic3-data-20230205/'"
   ]
  },
  {
   "cell_type": "code",
   "execution_count": null,
   "metadata": {},
   "outputs": [],
   "source": [
    "config = dict(\n",
    "    checks=['snr', 'hr', 'beat'],\n",
    "    fs=125,                                 # sampling frequency\n",
    "    win_len=256,                            # window length\n",
    "    freq_band=[0.5, 8.0],                   # bandpass frequencies\n",
    "    sim=0.6,                                # similarity threshold\n",
    "    snr=2.0,                                # SNR threshold\n",
    "    hr_freq_band=[0.667, 3.0],              # valid heartrate frequency band in Hz\n",
    "    hr_delta=1/6,                           # maximum heart rate difference between ppg, abp\n",
    "    dbp_bounds=[20, 130],                   # upper and lower threshold for DBP\n",
    "    sbp_bounds=[50, 225],                   # upper and lower threshold for SBP\n",
    "    windowsize=1,                           # windowsize for rolling mean\n",
    "    ma_perc=20,                             # multiplier for peak detection\n",
    "    beat_sim=0.2,                           # lower threshold for beat similarity\n",
    ")\n",
    "\n",
    "cm = ConfigMapper(config=config)\n",
    "\n",
    "bd = BuildDatabase(\n",
    "    data_dir=data_dir,\n",
    "    samples_per_file=2500,\n",
    "    samples_per_patient=500,\n",
    "    max_samples=200000,\n",
    ")\n",
    "\n",
    "bd.run(cm)"
   ]
  },
  {
   "cell_type": "code",
   "execution_count": null,
   "metadata": {},
   "outputs": [],
   "source": [
    "pd.options.display.max_rows = 100\n",
    "\n",
    "stats = pd.read_csv(data_dir + 'mimic3_stats.csv')"
   ]
  },
  {
   "cell_type": "code",
   "execution_count": null,
   "metadata": {},
   "outputs": [],
   "source": [
    "data = pd.read_json(data_dir + 'data/lines/mimic3_000.jsonlines', lines=True)\n",
    "\n",
    "ppg = np.array(data['ppg'].to_list())\n",
    "abp = np.array(data['abp'].to_list())"
   ]
  },
  {
   "cell_type": "code",
   "execution_count": null,
   "metadata": {},
   "outputs": [],
   "source": [
    "fig = go.FigureWidget()\n",
    "\n",
    "fig.add_scatter(\n",
    "    y=ppg[0, :]\n",
    ")"
   ]
  },
  {
   "cell_type": "code",
   "execution_count": 1,
   "metadata": {},
   "outputs": [
    {
     "name": "stderr",
     "output_type": "stream",
     "text": [
      "INFO:root:Data was extracted from 80 JSONLINES files.\n",
      "INFO:root:The total number of windows is 200000.\n"
     ]
    }
   ],
   "source": [
    "from database_tools.tools.records import Dataset, generate_records\n",
    "\n",
    "data_dir = '/home/cam/Documents/database_tools/data/mimic3-data-20230205/data/'\n",
    "ds = Dataset(data_dir=data_dir)\n",
    "# data, scalers = generate_records(\n",
    "#     ds=ds,\n",
    "#     data_dir=data_dir,\n",
    "#     scaler_path='/home/cam/Documents/database_tools/data/data-2022-11-08/mimic3/scalers_MinMax.pkl',\n",
    "# )"
   ]
  },
  {
   "cell_type": "code",
   "execution_count": 3,
   "metadata": {},
   "outputs": [
    {
     "name": "stderr",
     "output_type": "stream",
     "text": [
      "INFO:root:Data was extracted from 80 JSONLINES files.\n",
      "INFO:root:The total number of windows is 200000.\n"
     ]
    }
   ],
   "source": [
    "data_dir_old = '/home/cam/Documents/database_tools/data/data-2022-11-08/mimic3/'\n",
    "ds_old = Dataset(data_dir=data_dir_old)"
   ]
  },
  {
   "cell_type": "code",
   "execution_count": 2,
   "metadata": {},
   "outputs": [],
   "source": [
    "import pandas as pd\n",
    "\n",
    "pd.Series(ds.ppg.flatten()).plot.hist(nbins=50)"
   ]
  }
 ],
 "metadata": {
  "kernelspec": {
   "display_name": "database-tools-Qo_l_FwJ-py3.9",
   "language": "python",
   "name": "python3"
  },
  "language_info": {
   "codemirror_mode": {
    "name": "ipython",
    "version": 3
   },
   "file_extension": ".py",
   "mimetype": "text/x-python",
   "name": "python",
   "nbconvert_exporter": "python",
   "pygments_lexer": "ipython3",
   "version": "3.9.12"
  },
  "orig_nbformat": 4,
  "vscode": {
   "interpreter": {
    "hash": "114bae941a3f7811b2bbaf94e7986841e3e231b79fd4a0400432a0b4534f7ce6"
   }
  }
 },
 "nbformat": 4,
 "nbformat_minor": 2
}
