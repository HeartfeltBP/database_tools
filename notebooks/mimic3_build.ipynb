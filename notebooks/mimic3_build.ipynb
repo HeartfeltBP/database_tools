{
 "cells": [
  {
   "attachments": {},
   "cell_type": "markdown",
   "metadata": {},
   "source": [
    "# Imports and Setup"
   ]
  },
  {
   "cell_type": "code",
   "execution_count": null,
   "metadata": {},
   "outputs": [],
   "source": [
    "import numpy as np\n",
    "import pandas as pd\n",
    "import plotly.graph_objects as go\n",
    "from plotly.subplots import make_subplots\n",
    "from database_tools.tools.dataset import DatasetFactory\n",
    "from database_tools.tools import DataEvaluator, records\n",
    "from database_tools.processing.utils import build_data_directory\n",
    "\n",
    "repo_dir = '/home/cam/Documents/database_tools/'\n",
    "data_dir = build_data_directory(repo_dir + 'data/', 'mimic3', date='20230408')"
   ]
  },
  {
   "attachments": {},
   "cell_type": "markdown",
   "metadata": {},
   "source": [
    "# Build Database"
   ]
  },
  {
   "cell_type": "code",
   "execution_count": null,
   "metadata": {},
   "outputs": [],
   "source": [
    "bd = DatasetFactory(\n",
    "    data_dir=data_dir,\n",
    ")\n",
    "bd.run()"
   ]
  },
  {
   "attachments": {},
   "cell_type": "markdown",
   "metadata": {},
   "source": [
    "# Evaluate Dataset"
   ]
  },
  {
   "cell_type": "code",
   "execution_count": null,
   "metadata": {},
   "outputs": [],
   "source": [
    "pd.options.display.max_rows = 200\n",
    "\n",
    "stats = pd.read_csv(data_dir + 'mimic3_stats.csv')\n",
    "de = DataEvaluator(stats[stats['valid']])\n",
    "plots = de.run()\n",
    "plots.keys()"
   ]
  },
  {
   "cell_type": "code",
   "execution_count": null,
   "metadata": {},
   "outputs": [],
   "source": [
    "i = 0\n",
    "data = pd.read_json(data_dir + f'data/lines/mimic3_{str(i).zfill(3)}.jsonlines', lines=True)\n",
    "\n",
    "ppg = np.array(data['ppg'].to_list())\n",
    "abp = np.array(data['abp'].to_list())"
   ]
  },
  {
   "cell_type": "code",
   "execution_count": null,
   "metadata": {},
   "outputs": [],
   "source": [
    "fig = make_subplots(rows=2, cols=1)\n",
    "\n",
    "j = 0\n",
    "fig.add_scatter(y=ppg[j, :], row=1, col=1)\n",
    "fig.add_scatter(y=abp[j, :], row=2, col=1)\n",
    "fig.update_layout(width=700)"
   ]
  },
  {
   "cell_type": "code",
   "execution_count": null,
   "metadata": {},
   "outputs": [],
   "source": [
    "from database_tools.tools.dataset import Window, ConfigMapper\n",
    "from database_tools.processing.detect import detect_notches, detect_peaks\n",
    "\n",
    "x = ppg[j, :]\n",
    "\n",
    "cm = ConfigMapper(data_dir + 'config.ini')\n",
    "win = Window(x, cm, checks=cm.data.checks)\n",
    "win.get_peaks()\n",
    "win.valid"
   ]
  },
  {
   "cell_type": "code",
   "execution_count": null,
   "metadata": {},
   "outputs": [],
   "source": [
    "import glob\n",
    "from alive_progress import alive_bar\n",
    "\n",
    "min_ = []\n",
    "max_ = []\n",
    "with alive_bar(total=200000, force_tty=True) as bar:\n",
    "    for path in glob.glob(data_dir + 'data/lines/mimic3_*.jsonlines'):\n",
    "        data = pd.read_json(path, lines=True)\n",
    "        ppg = np.array(data['ppg'].to_list())\n",
    "        for x in ppg:\n",
    "            min_.append(np.min(x))\n",
    "            max_.append(np.max(x))\n",
    "            bar()"
   ]
  },
  {
   "attachments": {},
   "cell_type": "markdown",
   "metadata": {},
   "source": [
    "# Generate TFRecords"
   ]
  },
  {
   "cell_type": "code",
   "execution_count": null,
   "metadata": {},
   "outputs": [],
   "source": [
    "ds = records.Dataset(data_dir)\n",
    "data_unscaled, data_scaled, scaler_dict = records.generate_records(\n",
    "    ds,\n",
    "    data_dir=data_dir,\n",
    "    split_strategy=(0.7, 0.15, 0.15),\n",
    "    samples_per_file=10000,\n",
    "    scaler_path=None,\n",
    ")"
   ]
  }
 ],
 "metadata": {
  "kernelspec": {
   "display_name": "heartfelt-tools-Qo_l_FwJ-py3.9",
   "language": "python",
   "name": "python3"
  },
  "language_info": {
   "codemirror_mode": {
    "name": "ipython",
    "version": 3
   },
   "file_extension": ".py",
   "mimetype": "text/x-python",
   "name": "python",
   "nbconvert_exporter": "python",
   "pygments_lexer": "ipython3",
   "version": "3.9.16"
  },
  "orig_nbformat": 4,
  "vscode": {
   "interpreter": {
    "hash": "11be1819121c33cfc84416af11ffbdbeaf074b50fda951b7acc91346a1aaeb2e"
   }
  }
 },
 "nbformat": 4,
 "nbformat_minor": 2
}
