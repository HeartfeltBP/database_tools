{
 "cells": [
  {
   "cell_type": "code",
   "execution_count": 1,
   "metadata": {},
   "outputs": [],
   "source": [
    "import numpy as np\n",
    "import pandas as pd\n",
    "import plotly.graph_objects as go\n",
    "from database_tools.tools import BuildDatabase\n",
    "from database_tools.preprocessing.utils import build_data_directory, ConfigMapper\n",
    "\n",
    "repo_dir = '/home/cam/Documents/database_tools/'\n",
    "data_dir = build_data_directory(repo_dir + 'data/', 'mimic3')"
   ]
  },
  {
   "cell_type": "code",
   "execution_count": 3,
   "metadata": {},
   "outputs": [],
   "source": [
    "if -2:\n",
    "    print(1)"
   ]
  },
  {
   "cell_type": "code",
   "execution_count": 2,
   "metadata": {},
   "outputs": [
    {
     "name": "stdout",
     "output_type": "stream",
     "text": [
      "Gettings valid segments...\n",
      "Collecting samples...\n",
      "Rejected samples: 0 --- Samples collected: 0\n"
     ]
    },
    {
     "data": {
      "application/vnd.jupyter.widget-view+json": {
       "model_id": "74112b2165f043119e5b6c9ccc2d1277",
       "version_major": 2,
       "version_minor": 0
      },
      "text/plain": [
       "  0%|          | 0/3627 [00:00<?, ?it/s]"
      ]
     },
     "metadata": {},
     "output_type": "display_data"
    },
    {
     "name": "stdout",
     "output_type": "stream",
     "text": [
      "Rejected samples: 3623 --- Samples collected: 4\n"
     ]
    },
    {
     "data": {
      "application/vnd.jupyter.widget-view+json": {
       "model_id": "1b0162aa91ea4310a1184ad38a08bc0c",
       "version_major": 2,
       "version_minor": 0
      },
      "text/plain": [
       "  0%|          | 0/350 [00:00<?, ?it/s]"
      ]
     },
     "metadata": {},
     "output_type": "display_data"
    },
    {
     "ename": "IndexError",
     "evalue": "list index out of range",
     "output_type": "error",
     "traceback": [
      "\u001b[0;31m---------------------------------------------------------------------------\u001b[0m",
      "\u001b[0;31mIndexError\u001b[0m                                Traceback (most recent call last)",
      "Cell \u001b[0;32mIn[2], line 28\u001b[0m\n\u001b[1;32m     19\u001b[0m cm \u001b[39m=\u001b[39m ConfigMapper(config\u001b[39m=\u001b[39mconfig)\n\u001b[1;32m     21\u001b[0m bd \u001b[39m=\u001b[39m BuildDatabase(\n\u001b[1;32m     22\u001b[0m     data_dir\u001b[39m=\u001b[39mdata_dir,\n\u001b[1;32m     23\u001b[0m     samples_per_file\u001b[39m=\u001b[39m\u001b[39m2500\u001b[39m,\n\u001b[1;32m     24\u001b[0m     samples_per_patient\u001b[39m=\u001b[39m\u001b[39m500\u001b[39m,\n\u001b[1;32m     25\u001b[0m     max_samples\u001b[39m=\u001b[39m\u001b[39m200000\u001b[39m,\n\u001b[1;32m     26\u001b[0m )\n\u001b[0;32m---> 28\u001b[0m bd\u001b[39m.\u001b[39;49mrun(cm)\n",
      "File \u001b[0;32m~/Documents/database_tools/database_tools/tools/BuildDatabase.py:61\u001b[0m, in \u001b[0;36mBuildDatabase.run\u001b[0;34m(self, cm)\u001b[0m\n\u001b[1;32m     59\u001b[0m p_win \u001b[39m=\u001b[39m Window(p, cm, cm\u001b[39m.\u001b[39mchecks)\n\u001b[1;32m     60\u001b[0m p_win\u001b[39m.\u001b[39mget_peaks()\n\u001b[0;32m---> 61\u001b[0m p_valid \u001b[39m=\u001b[39m p_win\u001b[39m.\u001b[39;49mvalid\n\u001b[1;32m     63\u001b[0m \u001b[39m# Evaluate abp\u001b[39;00m\n\u001b[1;32m     64\u001b[0m a_win \u001b[39m=\u001b[39m Window(a, cm, cm\u001b[39m.\u001b[39mchecks \u001b[39m+\u001b[39m [\u001b[39m'\u001b[39m\u001b[39mbp\u001b[39m\u001b[39m'\u001b[39m])\n",
      "File \u001b[0;32m~/Documents/database_tools/database_tools/preprocessing/datastores.py:61\u001b[0m, in \u001b[0;36mWindow.valid\u001b[0;34m(self)\u001b[0m\n\u001b[1;32m     59\u001b[0m \u001b[39m@property\u001b[39m\n\u001b[1;32m     60\u001b[0m \u001b[39mdef\u001b[39;00m \u001b[39mvalid\u001b[39m(\u001b[39mself\u001b[39m) \u001b[39m-\u001b[39m\u001b[39m>\u001b[39m \u001b[39mbool\u001b[39m:\n\u001b[0;32m---> 61\u001b[0m     v \u001b[39m=\u001b[39m [\u001b[39mobject\u001b[39m\u001b[39m.\u001b[39m\u001b[39m__getattribute__\u001b[39m(\u001b[39mself\u001b[39m, \u001b[39m'\u001b[39m\u001b[39m_\u001b[39m\u001b[39m'\u001b[39m \u001b[39m+\u001b[39m c \u001b[39m+\u001b[39m \u001b[39m'\u001b[39m\u001b[39m_check\u001b[39m\u001b[39m'\u001b[39m) \u001b[39mfor\u001b[39;00m c \u001b[39min\u001b[39;00m \u001b[39mself\u001b[39m\u001b[39m.\u001b[39mchecks]\n\u001b[1;32m     62\u001b[0m     \u001b[39mreturn\u001b[39;00m np\u001b[39m.\u001b[39marray(v)\u001b[39m.\u001b[39mall()\n",
      "File \u001b[0;32m~/Documents/database_tools/database_tools/preprocessing/datastores.py:61\u001b[0m, in \u001b[0;36m<listcomp>\u001b[0;34m(.0)\u001b[0m\n\u001b[1;32m     59\u001b[0m \u001b[39m@property\u001b[39m\n\u001b[1;32m     60\u001b[0m \u001b[39mdef\u001b[39;00m \u001b[39mvalid\u001b[39m(\u001b[39mself\u001b[39m) \u001b[39m-\u001b[39m\u001b[39m>\u001b[39m \u001b[39mbool\u001b[39m:\n\u001b[0;32m---> 61\u001b[0m     v \u001b[39m=\u001b[39m [\u001b[39mobject\u001b[39;49m\u001b[39m.\u001b[39;49m\u001b[39m__getattribute__\u001b[39;49m(\u001b[39mself\u001b[39;49m, \u001b[39m'\u001b[39;49m\u001b[39m_\u001b[39;49m\u001b[39m'\u001b[39;49m \u001b[39m+\u001b[39;49m c \u001b[39m+\u001b[39;49m \u001b[39m'\u001b[39;49m\u001b[39m_check\u001b[39;49m\u001b[39m'\u001b[39;49m) \u001b[39mfor\u001b[39;00m c \u001b[39min\u001b[39;00m \u001b[39mself\u001b[39m\u001b[39m.\u001b[39mchecks]\n\u001b[1;32m     62\u001b[0m     \u001b[39mreturn\u001b[39;00m np\u001b[39m.\u001b[39marray(v)\u001b[39m.\u001b[39mall()\n",
      "File \u001b[0;32m~/Documents/database_tools/database_tools/preprocessing/datastores.py:43\u001b[0m, in \u001b[0;36mWindow._notch_check\u001b[0;34m(self)\u001b[0m\n\u001b[1;32m     41\u001b[0m \u001b[39m@property\u001b[39m\n\u001b[1;32m     42\u001b[0m \u001b[39mdef\u001b[39;00m \u001b[39m_notch_check\u001b[39m(\u001b[39mself\u001b[39m) \u001b[39m-\u001b[39m\u001b[39m>\u001b[39m \u001b[39mbool\u001b[39m:\n\u001b[0;32m---> 43\u001b[0m     notches \u001b[39m=\u001b[39m detect_notches(\n\u001b[1;32m     44\u001b[0m         \u001b[39mself\u001b[39;49m\u001b[39m.\u001b[39;49msig,\n\u001b[1;32m     45\u001b[0m         peaks\u001b[39m=\u001b[39;49m\u001b[39mself\u001b[39;49m\u001b[39m.\u001b[39;49mpeaks,\n\u001b[1;32m     46\u001b[0m         troughs\u001b[39m=\u001b[39;49m\u001b[39mself\u001b[39;49m\u001b[39m.\u001b[39;49mtroughs,\n\u001b[1;32m     47\u001b[0m     )\n\u001b[1;32m     48\u001b[0m     \u001b[39mif\u001b[39;00m notches \u001b[39min\u001b[39;00m [\u001b[39m-\u001b[39m\u001b[39m1\u001b[39m, \u001b[39m-\u001b[39m\u001b[39m2\u001b[39m]:\n\u001b[1;32m     49\u001b[0m         \u001b[39mreturn\u001b[39;00m \u001b[39mFalse\u001b[39;00m\n",
      "File \u001b[0;32m~/Documents/database_tools/database_tools/preprocessing/functions.py:250\u001b[0m, in \u001b[0;36mdetect_notches\u001b[0;34m(sig, peaks, troughs, dx)\u001b[0m\n\u001b[1;32m    247\u001b[0m \u001b[39mif\u001b[39;00m ( \u001b[39mlen\u001b[39m(peaks) \u001b[39m|\u001b[39m \u001b[39mlen\u001b[39m(troughs) ) \u001b[39m<\u001b[39m \u001b[39m2\u001b[39m:\n\u001b[1;32m    248\u001b[0m     \u001b[39mreturn\u001b[39;00m \u001b[39m-\u001b[39m\u001b[39m1\u001b[39m\n\u001b[0;32m--> 250\u001b[0m peaks, troughs \u001b[39m=\u001b[39m repair_peaks_troughs_idx(peaks, troughs)\n\u001b[1;32m    252\u001b[0m \u001b[39mif\u001b[39;00m ( \u001b[39mlen\u001b[39m(peaks) \u001b[39m|\u001b[39m \u001b[39mlen\u001b[39m(troughs) ) \u001b[39m<\u001b[39m \u001b[39m2\u001b[39m:\n\u001b[1;32m    253\u001b[0m     \u001b[39mreturn\u001b[39;00m \u001b[39m-\u001b[39m\u001b[39m2\u001b[39m\n",
      "File \u001b[0;32m~/Documents/database_tools/database_tools/preprocessing/utils.py:138\u001b[0m, in \u001b[0;36mrepair_peaks_troughs_idx\u001b[0;34m(peaks, troughs)\u001b[0m\n\u001b[1;32m    122\u001b[0m \u001b[39m\u001b[39m\u001b[39m\"\"\"Takes a list of peaks and troughs and removes\u001b[39;00m\n\u001b[1;32m    123\u001b[0m \u001b[39m   out of order elements. Regardless of which occurs first,\u001b[39;00m\n\u001b[1;32m    124\u001b[0m \u001b[39m   a peak or a trough, a peak must be followed by a trough\u001b[39;00m\n\u001b[0;32m   (...)\u001b[0m\n\u001b[1;32m    135\u001b[0m \u001b[39m    Items are always returned with peaks idx as first tuple item.\u001b[39;00m\n\u001b[1;32m    136\u001b[0m \u001b[39m\"\"\"\u001b[39;00m\n\u001b[1;32m    137\u001b[0m \u001b[39m# Configure algorithm to start with lowest index.\u001b[39;00m\n\u001b[0;32m--> 138\u001b[0m \u001b[39mif\u001b[39;00m peaks[\u001b[39m0\u001b[39m] \u001b[39m<\u001b[39m troughs[\u001b[39m0\u001b[39;49m]:\n\u001b[1;32m    139\u001b[0m     first \u001b[39m=\u001b[39m peaks\n\u001b[1;32m    140\u001b[0m     second \u001b[39m=\u001b[39m troughs\n",
      "\u001b[0;31mIndexError\u001b[0m: list index out of range"
     ]
    }
   ],
   "source": [
    "config = dict(\n",
    "    checks=['snr', 'hr', 'beat', 'notch'],\n",
    "    fs=125,                                 # sampling frequency\n",
    "    win_len=256,                            # window length\n",
    "    freq_band=[0.5, 8.0],                   # bandpass frequencies\n",
    "    sim=0.6,                                # similarity threshold\n",
    "    snr=2.0,                                # SNR threshold\n",
    "    hr_freq_band=[0.667, 3.0],              # valid heartrate frequency band in Hz\n",
    "    hr_delta=1/6,                           # maximum heart rate difference between ppg, abp\n",
    "    dbp_bounds=[20, 130],                   # upper and lower threshold for DBP\n",
    "    sbp_bounds=[50, 225],                   # upper and lower threshold for SBP\n",
    "    flat_line_length=10,                    # max length of flat lines\n",
    "    windowsize=1,                           # windowsize for rolling mean\n",
    "    ma_perc=20,                             # multiplier for peak detection\n",
    "    beat_sim=0.2,                           # lower threshold for beat similarity\n",
    "    min_notches=1,                          # minimum number of dichrotic notches in a window\n",
    ")\n",
    "\n",
    "cm = ConfigMapper(config=config)\n",
    "\n",
    "bd = BuildDatabase(\n",
    "    data_dir=data_dir,\n",
    "    samples_per_file=10,\n",
    "    samples_per_patient=500,\n",
    "    max_samples=10,\n",
    ")\n",
    "\n",
    "bd.run(cm)"
   ]
  },
  {
   "cell_type": "code",
   "execution_count": null,
   "metadata": {},
   "outputs": [],
   "source": [
    "pd.options.display.max_rows = 100\n",
    "\n",
    "stats = pd.read_csv(data_dir + 'mimic3_stats.csv')"
   ]
  },
  {
   "cell_type": "code",
   "execution_count": null,
   "metadata": {},
   "outputs": [],
   "source": [
    "stats"
   ]
  },
  {
   "cell_type": "code",
   "execution_count": null,
   "metadata": {},
   "outputs": [],
   "source": [
    "data = pd.read_json(data_dir + 'data/lines/mimic3_000.jsonlines', lines=True)\n",
    "\n",
    "ppg = np.array(data['ppg'].to_list())\n",
    "abp = np.array(data['abp'].to_list())\n",
    "\n",
    "fig = go.FigureWidget()"
   ]
  },
  {
   "cell_type": "code",
   "execution_count": null,
   "metadata": {},
   "outputs": [],
   "source": [
    "fig.add_scatter(y=ppg[0, :])"
   ]
  },
  {
   "cell_type": "code",
   "execution_count": null,
   "metadata": {},
   "outputs": [],
   "source": [
    "fig.data[0].y = ppg[12, :]"
   ]
  },
  {
   "cell_type": "code",
   "execution_count": 33,
   "metadata": {},
   "outputs": [
    {
     "name": "stderr",
     "output_type": "stream",
     "text": [
      "INFO:root:Data was extracted from 80 JSONLINES files.\n",
      "INFO:root:The total number of windows is 200000.\n"
     ]
    }
   ],
   "source": [
    "import numpy as np\n",
    "from database_tools.tools.records import Dataset, get_split_idx, split_data\n",
    "\n",
    "dt = 20230220\n",
    "data_dir = f'/home/cam/Documents/database_tools/data/mimic3-data-{dt}/data/'\n",
    "\n",
    "ds = Dataset(data_dir=data_dir)\n",
    "idx = get_split_idx(n=ds.ppg.shape[0], split_strategy=(0.7, 0.15, 0.15))\n",
    "data_unscaled = split_data(ds, idx)\n",
    "\n",
    "data_scaled = {'ppg': {}, 'vpg': {}, 'apg': {}, 'abp': {}}\n",
    "train_scaler = {}\n",
    "test_scaler = {}\n",
    "\n",
    "for key in ['ppg', 'vpg', 'apg', 'abp']:\n",
    "    min_ = np.min(data_unscaled[key]['train'])\n",
    "    max_ = np.max(data_unscaled[key]['train'])\n",
    "\n",
    "    train_scaler[key] = [min_, max_]\n",
    "\n",
    "    for split in ['train', 'val']:\n",
    "        tmp = data_unscaled[key][split]\n",
    "        tmp_scaled = np.divide(tmp - min_, max_ - min_)\n",
    "        data_scaled[key][split] = tmp_scaled\n",
    "\n",
    "for key in ['ppg', 'vpg', 'apg', 'abp']:\n",
    "    min_ = np.min(data_unscaled[key]['test'])\n",
    "    max_ = np.max(data_unscaled[key]['test'])\n",
    "\n",
    "    test_scaler[key] = [min_, max_]\n",
    "\n",
    "    for split in ['test']:\n",
    "        tmp = data_unscaled[key][split]\n",
    "        tmp_scaled = np.divide(tmp - min_, max_ - min_)\n",
    "        data_scaled[key][split] = tmp_scaled"
   ]
  },
  {
   "cell_type": "code",
   "execution_count": 35,
   "metadata": {},
   "outputs": [
    {
     "data": {
      "application/vnd.jupyter.widget-view+json": {
       "model_id": "17957f6e3e6a408281644ae51911ce5b",
       "version_major": 2,
       "version_minor": 0
      },
      "text/plain": [
       "FigureWidget({\n",
       "    'data': [{'type': 'scatter',\n",
       "              'uid': 'b61ea74e-78b1-484f-b443-73c82dba30c9',\n",
       "              'y': array([0.32469035, 0.32213725, 0.32080178, ..., 0.65249943, 0.64635662,\n",
       "                          0.64006747])}],\n",
       "    'layout': {'template': '...'}\n",
       "})"
      ]
     },
     "execution_count": 35,
     "metadata": {},
     "output_type": "execute_result"
    }
   ],
   "source": [
    "import plotly.graph_objects as go\n",
    "\n",
    "fig = go.FigureWidget()\n",
    "fig.add_scatter(y=data_scaled['ppg']['train'][0, :])"
   ]
  }
 ],
 "metadata": {
  "kernelspec": {
   "display_name": "heartfelt-tools-Qo_l_FwJ-py3.9",
   "language": "python",
   "name": "python3"
  },
  "language_info": {
   "codemirror_mode": {
    "name": "ipython",
    "version": 3
   },
   "file_extension": ".py",
   "mimetype": "text/x-python",
   "name": "python",
   "nbconvert_exporter": "python",
   "pygments_lexer": "ipython3",
   "version": "3.9.16"
  },
  "orig_nbformat": 4,
  "vscode": {
   "interpreter": {
    "hash": "11be1819121c33cfc84416af11ffbdbeaf074b50fda951b7acc91346a1aaeb2e"
   }
  }
 },
 "nbformat": 4,
 "nbformat_minor": 2
}
