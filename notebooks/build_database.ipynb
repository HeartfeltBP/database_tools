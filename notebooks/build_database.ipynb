{
 "cells": [
  {
   "cell_type": "code",
   "execution_count": null,
   "metadata": {},
   "outputs": [],
   "source": [
    "import os\n",
    "from database_tools.tools import BuildDatabase\n",
    "from database_tools.utils import build_empty_database, CompileDatabase, GenerateTFRecords, ReadTFRecords\n",
    "\n",
    "repo_dir = '/home/cam/Documents/database_tools/'\n",
    "os.chdir(repo_dir)\n",
    "\n",
    "output_dir = build_empty_database(records_path='https://physionet.org/files/mimic3wdb/1.0/RECORDS-adults')\n",
    "\n",
    "BuildDatabase(output_dir=output_dir,\n",
    "              samples_per_file=1000,\n",
    "              max_samples=10000,\n",
    "              data_dir='physionet.org/files/mimic3wdb/1.0/').run()\n",
    "\n",
    "# max_samples must be multiple of total number of samples\n",
    "GenerateTFRecords(data_dir=f'{output_dir}mimic3/',\n",
    "                  output_dir=f'{output_dir}records/',\n",
    "                  method='PLETH, ABP Values',\n",
    "                  split_strategy=(.7, .15, .15),\n",
    "                  max_samples=4000).run()\n",
    "\n",
    "data_splits = ReadTFRecords(data_dir=f'{output_dir}records/',\n",
    "                            method='PLETH, ABP Values',\n",
    "                            n_cores=10).run()\n",
    "train = data_splits['train']\n",
    "val = data_splits['val']\n",
    "test = data_splits['test']"
   ]
  },
  {
   "cell_type": "code",
   "execution_count": null,
   "metadata": {},
   "outputs": [],
   "source": [
    "for record in val.take(10):\n",
    "    print(record)"
   ]
  },
  {
   "cell_type": "code",
   "execution_count": null,
   "metadata": {},
   "outputs": [],
   "source": [
    "import pandas as pd\n",
    "\n",
    "df = pd.read_csv('data-2022-09-18/records/mimic3.csv')"
   ]
  }
 ],
 "metadata": {
  "kernelspec": {
   "display_name": "Python (DeepLearning)",
   "language": "python",
   "name": "deeplearning"
  },
  "language_info": {
   "codemirror_mode": {
    "name": "ipython",
    "version": 3
   },
   "file_extension": ".py",
   "mimetype": "text/x-python",
   "name": "python",
   "nbconvert_exporter": "python",
   "pygments_lexer": "ipython3",
   "version": "3.8.10"
  },
  "vscode": {
   "interpreter": {
    "hash": "6260f58c11287286df5f9d02dfa410d3de0ac782705a55dbe46b1570f8ff9e3e"
   }
  }
 },
 "nbformat": 4,
 "nbformat_minor": 2
}
