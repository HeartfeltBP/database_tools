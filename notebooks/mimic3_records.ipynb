{
 "cells": [
  {
   "cell_type": "code",
   "execution_count": null,
   "metadata": {},
   "outputs": [],
   "source": [
    "import os\n",
    "import numpy as np\n",
    "import pandas as pd\n",
    "import plotly.graph_objects as go\n",
    "from database_tools.tools.records import Dataset, generate_records, read_records\n",
    "\n",
    "data_dir='/home/cam/Documents/database_tools/data/data-2022-11-08-dev/mimic3/'"
   ]
  },
  {
   "cell_type": "code",
   "execution_count": null,
   "metadata": {},
   "outputs": [],
   "source": [
    "ds = Dataset(data_dir)\n",
    "data, scalers = generate_records(\n",
    "    ds=ds,\n",
    "    data_dir=data_dir,\n",
    "    split_strategy=(0.70, 0.15, 0.15), \n",
    "    samples_per_file=10000,\n",
    ")"
   ]
  },
  {
   "cell_type": "code",
   "execution_count": null,
   "metadata": {},
   "outputs": [],
   "source": [
    "data = read_records(\n",
    "    data_dir=data_dir,\n",
    ")"
   ]
  }
 ],
 "metadata": {
  "kernelspec": {
   "display_name": "database-tools-Qo_l_FwJ-py3.9",
   "language": "python",
   "name": "python3"
  },
  "language_info": {
   "codemirror_mode": {
    "name": "ipython",
    "version": 3
   },
   "file_extension": ".py",
   "mimetype": "text/x-python",
   "name": "python",
   "nbconvert_exporter": "python",
   "pygments_lexer": "ipython3",
   "version": "3.9.12"
  },
  "orig_nbformat": 4,
  "vscode": {
   "interpreter": {
    "hash": "114bae941a3f7811b2bbaf94e7986841e3e231b79fd4a0400432a0b4534f7ce6"
   }
  }
 },
 "nbformat": 4,
 "nbformat_minor": 2
}
