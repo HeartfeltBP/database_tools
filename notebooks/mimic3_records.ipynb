{
 "cells": [
  {
   "cell_type": "code",
   "execution_count": null,
   "metadata": {},
   "outputs": [],
   "source": [
    "import os\n",
    "import numpy as np\n",
    "import pandas as pd\n",
    "import plotly.graph_objects as go\n",
    "from database_tools.tools.records import Dataset, generate_records, read_records\n",
    "\n",
    "data_dir = '/home/data/'"
   ]
  },
  {
   "cell_type": "code",
   "execution_count": null,
   "metadata": {},
   "outputs": [],
   "source": [
    "ds = Dataset(data_dir)\n",
    "data_unscaled, data_scaled, scaler_dict = generate_records(\n",
    "    ds=ds,\n",
    "    data_dir=data_dir,\n",
    "    split_strategy=(0.70, 0.15, 0.15), \n",
    "    samples_per_file=10000,\n",
    "    scaler_path=None,\n",
    ")"
   ]
  },
  {
   "cell_type": "code",
   "execution_count": null,
   "metadata": {},
   "outputs": [],
   "source": [
    "data = read_records(\n",
    "    data_dir=data_dir,\n",
    ")"
   ]
  },
  {
   "cell_type": "code",
   "execution_count": null,
   "metadata": {},
   "outputs": [],
   "source": [
    "for i in data['train'].take(1):\n",
    "    print(i)"
   ]
  }
 ],
 "metadata": {
  "kernelspec": {
   "display_name": "heartfelt-tools-XGwLC-Rn-py3.9",
   "language": "python",
   "name": "python3"
  },
  "language_info": {
   "codemirror_mode": {
    "name": "ipython",
    "version": 3
   },
   "file_extension": ".py",
   "mimetype": "text/x-python",
   "name": "python",
   "nbconvert_exporter": "python",
   "pygments_lexer": "ipython3",
   "version": "3.9.16"
  },
  "orig_nbformat": 4,
  "vscode": {
   "interpreter": {
    "hash": "73f9859f368da2076f776ea6344db4ce8c9faa027be696bc3ce3602dbf82dc70"
   }
  }
 },
 "nbformat": 4,
 "nbformat_minor": 2
}
