{
 "cells": [
  {
   "cell_type": "code",
   "execution_count": null,
   "metadata": {},
   "outputs": [],
   "source": [
    "import json\n",
    "import vitaldb\n",
    "from tqdm.notebook import tqdm\n",
    "\n",
    "fs = 125 \n",
    "data_dir = '/home/cam/Documents/database_tools/vitaldb/lines/'\n",
    "\n",
    "sig_names = ['ART', 'PLETH']\n",
    "case_ids = vitaldb.find_cases(sig_names)\n",
    "\n",
    "print(f'Found {len(case_ids)} cases containing {sig_names}.')\n",
    "\n",
    "n = 0\n",
    "samples = ''\n",
    "for case in tqdm(case_ids, total=len(case_ids)):\n",
    "    data = vitaldb.load_case(case, sig_names, 1 / fs)\n",
    "    abp, ppg = data[:, 0], data[:, 1]\n",
    "\n",
    "    if len(ppg) != len(abp):\n",
    "        print(f'The signal arrays for case {case} are different lengths.')\n",
    "    else:\n",
    "        if len(ppg) > 75000:  # 10 min minimum length\n",
    "            print(f'Appending data from case {case}.')\n",
    "            samples += json.dumps(dict(case_id=case, ppg=ppg.tolist(), abp=abp.tolist())) + '\\n'\n",
    "            n += 1\n",
    "        else:\n",
    "            print(f'Case {case} was less than 10 minutes.')\n",
    "    if n == 10:\n",
    "        break\n",
    "\n",
    "with open(data_dir + 'vitaldb.jsonlines', 'w') as f:\n",
    "    f.write(samples)"
   ]
  },
  {
   "cell_type": "code",
   "execution_count": null,
   "metadata": {},
   "outputs": [],
   "source": [
    "import os\n",
    "import ast\n",
    "import json\n",
    "import numpy as np\n",
    "import pandas as pd\n",
    "from tqdm.notebook import tqdm\n",
    "from database_tools.preprocessing import VitalSignalProcessor\n",
    "\n",
    "repo_dir = '/home/cam/Documents/database_tools/'\n",
    "os.chdir(repo_dir)\n",
    "\n",
    "config = dict(\n",
    "    low=0.5,                    # low bandpass frequency\n",
    "    high=8.0,                   # high bandpass frequency\n",
    "    sim=0.6,                    # similarity threshold\n",
    "    df=0.2,                     # one sided frequency delta for SNR calculation\n",
    "    snr_t=2.0,                  # SNR threshold\n",
    "    hr_diff=1/6,                # maximum heart rate difference between ppg, abp\n",
    "    f0_low=0.667,               # minimum valid HR in Hz\n",
    "    f0_high=3.0,                # maximum valid HR in Hz\n",
    "    abp_min_bounds=[20, 130],   # upper and lower threshold for DBP\n",
    "    abp_max_bounds=[50, 225],   # upper and lower threshold for SBP\n",
    "    windowsize=1,               # windowsize for rolling mean\n",
    "    ma_perc=20,                 # multiplier for peak detection\n",
    "    beat_sim=0.2,               # lower threshold for beat similarity\n",
    ")\n",
    "\n",
    "processor = VitalSignalProcessor(\n",
    "    data_dir='/home/cam/Documents/database_tools/vitaldb/vitaldb.jsonlines',\n",
    "    win_len=256,\n",
    "    fs=125,\n",
    ")\n",
    "\n",
    "samples = ''\n",
    "for i, (case, ppg, abp) in enumerate(processor.run(config)):\n",
    "    samples += json.dumps(dict(case=int(case), ppg=ppg.tolist(), abp=abp.tolist())) + '\\n'\n",
    "processor.save_stats(path='/home/cam/Documents/database_tools/vitaldb/vitaldb_stats.csv')\n",
    "\n",
    "outfile = '/home/cam/Documents/database_tools/vitaldb/lines/vitaldb_processed.jsonlines'\n",
    "with open(outfile, 'w') as f:\n",
    "    f.write(samples)"
   ]
  },
  {
   "cell_type": "code",
   "execution_count": null,
   "metadata": {},
   "outputs": [],
   "source": [
    "import pandas as pd\n",
    "\n",
    "df = pd.read_csv('../vitaldb/vitaldb_stats.csv')\n",
    "\n",
    "df[df['valid']]"
   ]
  },
  {
   "cell_type": "code",
   "execution_count": null,
   "metadata": {},
   "outputs": [],
   "source": [
    "import os\n",
    "from database_tools.tools import RecordsHandler\n",
    "\n",
    "repo_dir = '/home/cam/Documents/database_tools/'\n",
    "os.chdir(repo_dir)\n",
    "\n",
    "worker = RecordsHandler(data_dir='vitaldb/')\n",
    "worker.generate_records(split_strategy=(0.05, 0.05, .9), max_samples=1326, scaler='MinMax')"
   ]
  }
 ],
 "metadata": {
  "kernelspec": {
   "display_name": "database-tools-Qo_l_FwJ-py3.8",
   "language": "python",
   "name": "python3"
  },
  "language_info": {
   "codemirror_mode": {
    "name": "ipython",
    "version": 3
   },
   "file_extension": ".py",
   "mimetype": "text/x-python",
   "name": "python",
   "nbconvert_exporter": "python",
   "pygments_lexer": "ipython3",
   "version": "3.8.13 (default, Mar 28 2022, 11:38:47) \n[GCC 7.5.0]"
  },
  "orig_nbformat": 4,
  "vscode": {
   "interpreter": {
    "hash": "c826fe4c3072c6c8679b0c2c5bfc4e59fc902350ea20ac6cce5df13884cb183b"
   }
  }
 },
 "nbformat": 4,
 "nbformat_minor": 2
}
