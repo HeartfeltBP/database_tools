{
 "cells": [
  {
   "cell_type": "code",
   "execution_count": null,
   "metadata": {},
   "outputs": [],
   "source": [
    "import numpy as np\n",
    "import pandas as pd\n",
    "from scipy import signal\n",
    "import plotly.graph_objects as go\n",
    "from database_tools.preprocessing.functions import bandpass, find_peaks, beat_similarity\n",
    "from database_tools.preprocessing.utils import resample_signal\n",
    "\n",
    "pd.options.plotting.backend = 'plotly'\n",
    "\n",
    "x = 37\n",
    "\n",
    "with open(f'data/TX{x}DATAPPG0.txt', 'r') as f:\n",
    "    ppg_i_data = [l.strip('\\n') for l in f.readlines()]\n",
    "\n",
    "with open(f'data/TX{x}DATAPPG1.txt', 'r') as f:\n",
    "    ppg_r_data = [l.strip('\\n') for l in f.readlines()]\n",
    "\n",
    "ppg_i = np.array(ppg_i_data[4::]).astype(int)\n",
    "ppg_i_filt = bandpass(ppg_i, low=0.5, high=8.0, fs=200)\n",
    "ppg_i_flip = np.max(ppg_i_filt) - ppg_i_filt\n",
    "\n",
    "ppg_r = np.array(ppg_r_data[4::]).astype(int)\n",
    "ppg_r_filt = bandpass(ppg_r, low=0.5, high=8.0, fs=200)\n",
    "ppg_r_flip = np.max(ppg_r_filt) - ppg_r_filt\n",
    "\n",
    "combined = (ppg_r_flip + ppg_i_flip) / 2\n",
    "\n",
    "fig = go.Figure()\n",
    "\n",
    "fig.add_scatter(y=combined, name='combined')"
   ]
  },
  {
   "cell_type": "code",
   "execution_count": null,
   "metadata": {},
   "outputs": [],
   "source": [
    "x = resample_signal(combined, fs_old=200, fs_new=125)\n",
    "xx = x[0:256]\n",
    "xxx = np.pad(xx, 40, constant_values=np.mean(xx))\n",
    "peaks, troughs = find_peaks(xxx).values()\n",
    "\n",
    "fig = go.Figure()\n",
    "\n",
    "fig.add_scatter(y=xxx)\n",
    "fig.add_scatter(x=peaks, y=xxx[peaks], mode='markers')\n",
    "fig.add_scatter(x=troughs, y=xxx[troughs], mode='markers')"
   ]
  },
  {
   "cell_type": "code",
   "execution_count": null,
   "metadata": {},
   "outputs": [],
   "source": [
    "xx = x[256:512]\n",
    "beats = beat_similarity(xx, fs=125, return_beats=False)\n",
    "beats"
   ]
  },
  {
   "cell_type": "code",
   "execution_count": null,
   "metadata": {},
   "outputs": [],
   "source": [
    "fig = go.Figure()\n",
    "\n",
    "for b in beats:\n",
    "    fig.add_scatter(y=b)\n",
    "fig.show()"
   ]
  },
  {
   "cell_type": "code",
   "execution_count": null,
   "metadata": {},
   "outputs": [],
   "source": [
    "peaks"
   ]
  },
  {
   "cell_type": "code",
   "execution_count": null,
   "metadata": {},
   "outputs": [],
   "source": [
    "import os\n",
    "import time\n",
    "import numpy as np\n",
    "import plotly.graph_objects as go\n",
    "from database_tools.preprocessing.spo2 import calc_spo2, find_peaks\n",
    "from database_tools.preprocessing.functions import bandpass\n",
    "\n",
    "i = 34\n",
    "ppg0 = f'data/TX{i}DATAPPG0.txt'\n",
    "ppg1 = f'data/TX{i}DATAPPG1.txt'\n",
    "while True:\n",
    "    if os.path.exists(ppg1):\n",
    "        with open(f'data/TX{i}DATAPPG0.txt', 'r') as f:\n",
    "            ppg_i_data = [l.strip('\\n') for l in f.readlines()]\n",
    "        with open(f'data/TX{i}DATAPPG1.txt', 'r') as f:\n",
    "            ppg_r_data = [l.strip('\\n') for l in f.readlines()]\n",
    "        i += 1\n",
    "        ppg0 = f'data/TX{i}DATAPPG0.txt'\n",
    "        ppg1 = f'data/TX{i}DATAPPG1.txt'\n",
    "\n",
    "        ppg_i = np.array(ppg_i_data[4::]).astype(int)\n",
    "        ppg_r = np.array(ppg_r_data[4::]).astype(int)\n",
    "\n",
    "        fig = go.Figure()\n",
    "        fig.add_scatter(y=ppg_i, name='IR Filtered')\n",
    "        fig.add_scatter(y=ppg_r, name='Red Filtered')\n",
    "        fig.show()\n",
    "\n",
    "        results = {'spo2': [], 'r': []}\n",
    "        for j in range(4):\n",
    "            idx = (j*1025, (j+1)*1025)\n",
    "            spo2, r = calc_spo2(ppg_r[idx[0]:idx[1]], ppg_i[idx[0]:idx[1]], return_peaks=False)\n",
    "            results['spo2'].append(spo2)\n",
    "            results['r'].append(r)\n",
    "\n",
    "        ppg_i_flip = np.max(ppg_i) - ppg_i\n",
    "        ppg_i_filt = bandpass(ppg_i_flip, low=0.5, high=8.0, fs=200)\n",
    "\n",
    "        ppg_r_flip = np.max(ppg_r) - ppg_r\n",
    "        ppg_r_filt = bandpass(ppg_r_flip, low=0.5, high=8.0, fs=200)\n",
    "        combined = (ppg_i_filt + ppg_r_filt) / 2\n",
    "\n",
    "        peaks = find_peaks(combined)\n",
    "        heart_rate = int(round(len(peaks['peaks']) * 2.926829268292683, 0))\n",
    "        print(results, heart_rate)\n",
    "    else:\n",
    "        time.sleep(5)"
   ]
  },
  {
   "cell_type": "code",
   "execution_count": null,
   "metadata": {},
   "outputs": [],
   "source": [
    "fig = go.Figure()\n",
    "\n",
    "ir_peaks = peaks['ir_peaks']\n",
    "ir_troughs = peaks['ir_troughs']\n",
    "\n",
    "fig.add_scatter(y=ppg_i[i[0]:i[1]])\n",
    "fig.add_scatter(x=ir_peaks, y=ppg_i[i[0]:i[1]][ir_peaks], mode='markers')\n",
    "fig.add_scatter(x=ir_troughs, y=ppg_i[i[0]:i[1]][ir_troughs], mode='markers')"
   ]
  },
  {
   "cell_type": "code",
   "execution_count": null,
   "metadata": {},
   "outputs": [],
   "source": [
    "import pickle as pkl\n",
    "from scipy import signal\n",
    "from database_tools.preprocessing.utils import window\n",
    "\n",
    "x = 41\n",
    "\n",
    "with open(f'data/TX{x}DATAPPG0.txt', 'r') as f:\n",
    "    ppg_i_data = [l.strip('\\n') for l in f.readlines()]\n",
    "\n",
    "with open(f'data/TX{x}DATAPPG1.txt', 'r') as f:\n",
    "    ppg_r_data = [l.strip('\\n') for l in f.readlines()]\n",
    "\n",
    "ppg_i = np.array(ppg_i_data[4::]).astype(int)\n",
    "ppg_i_flip = np.max(ppg_i) - ppg_i\n",
    "ppg_i_filt = bandpass(ppg_i_flip, low=0.5, high=8.0, fs=200)\n",
    "\n",
    "ppg_r = np.array(ppg_r_data[4::]).astype(int)\n",
    "ppg_r_flip = np.max(ppg_r) - ppg_r\n",
    "ppg_r_filt = bandpass(ppg_r_flip, low=0.5, high=8.0, fs=200)\n",
    "\n",
    "combined = (ppg_i_filt + ppg_r_filt) / 2\n",
    "\n",
    "fig = go.Figure()\n",
    "\n",
    "fig.add_scatter(y=ppg_i_filt, name='IR Filtered')\n",
    "fig.add_scatter(y=ppg_r_filt, name='Red Filtered')\n",
    "fig.add_scatter(y=combined, name='combined')\n",
    "fig.show()\n",
    "\n",
    "print(np.min(combined), np.max(combined))\n",
    "combined = np.divide(combined - np.min(combined), np.max(combined) - np.min(combined))\n",
    "combined = signal.resample(combined, 2562)\n",
    "\n",
    "idx = window(combined, win_len=256, overlap=0)"
   ]
  },
  {
   "cell_type": "code",
   "execution_count": null,
   "metadata": {},
   "outputs": [],
   "source": [
    "idx_0 = idx[1]\n",
    "\n",
    "ppg = combined[idx_0[0]:idx_0[1]].reshape(1, -1)\n",
    "vpg = np.gradient(ppg, axis=1)  # 1st derivative of ppg\n",
    "apg = np.gradient(vpg, axis=1) # 2nd derivative of vpg\n",
    "\n",
    "with open('test-data.pkl', 'wb') as f:\n",
    "    pkl.dump((ppg, vpg, apg), f)"
   ]
  },
  {
   "cell_type": "code",
   "execution_count": null,
   "metadata": {},
   "outputs": [],
   "source": [
    "import pandas as pd\n",
    "\n",
    "pd.Series(ppg.reshape(-1)).plot()"
   ]
  },
  {
   "cell_type": "code",
   "execution_count": null,
   "metadata": {},
   "outputs": [],
   "source": [
    "round(0.98765 * 100, 1)"
   ]
  }
 ],
 "metadata": {
  "kernelspec": {
   "display_name": "heartfelt-tools-Qo_l_FwJ-py3.9",
   "language": "python",
   "name": "python3"
  },
  "language_info": {
   "codemirror_mode": {
    "name": "ipython",
    "version": 3
   },
   "file_extension": ".py",
   "mimetype": "text/x-python",
   "name": "python",
   "nbconvert_exporter": "python",
   "pygments_lexer": "ipython3",
   "version": "3.9.16"
  },
  "orig_nbformat": 4,
  "vscode": {
   "interpreter": {
    "hash": "11be1819121c33cfc84416af11ffbdbeaf074b50fda951b7acc91346a1aaeb2e"
   }
  }
 },
 "nbformat": 4,
 "nbformat_minor": 2
}
