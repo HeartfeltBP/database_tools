{
 "cells": [
  {
   "cell_type": "code",
   "execution_count": null,
   "metadata": {},
   "outputs": [],
   "source": [
    "import numpy as np\n",
    "import pandas as pd\n",
    "import plotly.graph_objects as go\n",
    "from database_tools.io.wfdb import locate_valid_records, get_data_record, get_signal\n",
    "from database_tools.filtering.functions import align_signals, bandpass\n",
    "from database_tools.filtering.utils import window\n",
    "\n",
    "pd.options.plotting.backend = 'plotly'"
   ]
  },
  {
   "cell_type": "code",
   "execution_count": null,
   "metadata": {},
   "outputs": [],
   "source": [
    "valid_segs = locate_valid_records(['PLETH', 'ABP'], min_length=75000, n_segments=10)\n",
    "\n",
    "rec = get_data_record(path=valid_segs[0], record_type='waveforms')\n",
    "ppg = get_signal(rec, sig='PLETH')\n",
    "abp = get_signal(rec, sig='ABP')"
   ]
  },
  {
   "cell_type": "code",
   "execution_count": null,
   "metadata": {},
   "outputs": [],
   "source": [
    "pd.Series(valid_segs).to_csv('segs.csv', index=False, header=None)"
   ]
  },
  {
   "cell_type": "code",
   "execution_count": null,
   "metadata": {},
   "outputs": [],
   "source": [
    "with open('segs.csv', 'r') as f:\n",
    "    segs = [line.strip('\\n') for line in f]"
   ]
  },
  {
   "cell_type": "code",
   "execution_count": null,
   "metadata": {},
   "outputs": [],
   "source": [
    "segs[0].split('/')[1]"
   ]
  },
  {
   "cell_type": "code",
   "execution_count": null,
   "metadata": {},
   "outputs": [],
   "source": [
    "fig = go.Figure()\n",
    "\n",
    "fig.add_scatter(y=ppg, name='ppg')\n",
    "fig.add_scatter(y=abp, name='abp')"
   ]
  },
  {
   "cell_type": "code",
   "execution_count": null,
   "metadata": {},
   "outputs": [],
   "source": [
    "low = 0.5\n",
    "high = 8.0\n",
    "fs = 125\n",
    "win_len = 256\n",
    "\n",
    "ppg = bandpass(ppg, low=low, high=high, fs=fs)\n",
    "\n",
    "overlap = int(fs / 2)\n",
    "l = win_len + overlap\n",
    "idx = window(ppg, l, overlap)"
   ]
  },
  {
   "cell_type": "code",
   "execution_count": null,
   "metadata": {},
   "outputs": [],
   "source": [
    "i, j = idx[0]\n",
    "\n",
    "p = ppg[i:j]\n",
    "a = abp[i:j]\n",
    "\n",
    "p_aligned, a_aligned = align_signals(p, a, win_len=win_len, fs=fs)"
   ]
  },
  {
   "cell_type": "code",
   "execution_count": null,
   "metadata": {},
   "outputs": [],
   "source": [
    "fig = go.Figure()\n",
    "\n",
    "fig.add_scatter(y=p*1000, name='ppg')\n",
    "fig.add_scatter(y=a, name='abp')"
   ]
  },
  {
   "cell_type": "code",
   "execution_count": null,
   "metadata": {},
   "outputs": [],
   "source": [
    "fig = go.Figure()\n",
    "\n",
    "fig.add_scatter(y=p_aligned*1000, name='ppg')\n",
    "fig.add_scatter(y=a_aligned, name='abp')"
   ]
  }
 ],
 "metadata": {
  "kernelspec": {
   "display_name": "heartfelt-tools-Qo_l_FwJ-py3.9",
   "language": "python",
   "name": "python3"
  },
  "language_info": {
   "codemirror_mode": {
    "name": "ipython",
    "version": 3
   },
   "file_extension": ".py",
   "mimetype": "text/x-python",
   "name": "python",
   "nbconvert_exporter": "python",
   "pygments_lexer": "ipython3",
   "version": "3.9.16"
  },
  "orig_nbformat": 4,
  "vscode": {
   "interpreter": {
    "hash": "11be1819121c33cfc84416af11ffbdbeaf074b50fda951b7acc91346a1aaeb2e"
   }
  }
 },
 "nbformat": 4,
 "nbformat_minor": 2
}
