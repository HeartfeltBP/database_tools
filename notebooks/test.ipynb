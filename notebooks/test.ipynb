{
 "cells": [
  {
   "cell_type": "code",
   "execution_count": null,
   "metadata": {},
   "outputs": [],
   "source": [
    "import os\n",
    "import heartpy as hp\n",
    "import numpy as np\n",
    "import pandas as pd\n",
    "from scipy import signal, integrate\n",
    "from sklearn.preprocessing import StandardScaler, MinMaxScaler\n",
    "from wfdb import rdheader, rdrecord\n",
    "from neurokit2.ppg import ppg_findpeaks\n",
    "\n",
    "pd.options.plotting.backend = 'plotly'\n",
    "os.chdir('/home/camhpj/database_tools/')\n",
    "\n",
    "def download(path):\n",
    "    response = os.system(f'wget -q -r -np {path}')\n",
    "    return response\n",
    "\n",
    "def get_sigs(folder, seg):\n",
    "    path = 'physionet.org/files/mimic3wdb/1.0/' + folder + seg\n",
    "    response = download(path + '.hea')\n",
    "    response = download(path + '.dat')\n",
    "    if response == 0:\n",
    "        rec = rdrecord(path)\n",
    "        signals = rec.sig_name\n",
    "        pleth = rec.p_signal[:, signals.index('PLETH')].astype(np.float64)\n",
    "        abp = rec.p_signal[:, signals.index('ABP')].astype(np.float64)\n",
    "        return pleth, abp\n",
    "    return None, None\n",
    "\n",
    "def time_similarity(x, y):\n",
    "    x_bar = np.mean(x)\n",
    "    y_bar = np.mean(y)\n",
    "    y_temp = y - y_bar\n",
    "    top = np.sum( ((x - x_bar) * y_temp) )\n",
    "    bot = np.sqrt( np.sum( ((x - y_bar) ** 2) ) * np.sum( ((y_temp) ** 2) ) )\n",
    "    coef = top / bot\n",
    "    return coef\n",
    "\n",
    "def hr_conflict(x, y, fs=125):\n",
    "    t = len(x) / fs  # length of data in sec\n",
    "    x_peaks = len(ppg_findpeaks(x, fs)['PPG_Peaks'])\n",
    "    y_peaks = len(ppg_findpeaks(y, fs)['PPG_Peaks'])\n",
    "    print(x_peaks, y_peaks)\n",
    "    if np.abs((x_peaks / t) - (y_peaks / t)) > 10:\n",
    "        return True\n",
    "    return False\n",
    "\n",
    "def bandpass(x, band=(0.5, 8), fs=125):\n",
    "    low, high = band[0], band[1]\n",
    "    btr = signal.butter(4, [low, high], btype='bandpass', output='sos', fs=fs)\n",
    "    x = signal.sosfiltfilt(btr, x, padtype=None)\n",
    "    return x\n",
    "\n",
    "def calculate_snr(x, band, fs=125):\n",
    "    low, high = band[0], band[1]\n",
    "    win = fs * 5\n",
    "\n",
    "    # Signal power\n",
    "    freqs, psd = signal.welch(x, fs, nperseg=win)\n",
    "    freq_res = freqs[1] - freqs[0]\n",
    "    idx_delta = np.logical_and(freqs >= low, freqs <= high)\n",
    "    p_sig = integrate.simps(psd[idx_delta], dx=freq_res)\n",
    "\n",
    "    freqs, psd = signal.welch(pleth, fs, nperseg=win)\n",
    "    freq_res = freqs[1] - freqs[0]\n",
    "    idx_delta = freqs < low\n",
    "    p1 = integrate.simps(psd[idx_delta], dx=freq_res)\n",
    "    idx_delta = freqs > high\n",
    "    p2 = integrate.simps(psd[idx_delta], dx=freq_res)\n",
    "    p_noise = p1 + p2\n",
    "\n",
    "    snr = 10 * np.log10(p_sig / p_noise)\n",
    "    return snr\n",
    "\n",
    "pleth, abp = get_sigs('30/3000480/', '3000480_0018')\n",
    "pleth[np.isnan(pleth)] = 0\n",
    "abp[np.isnan(abp)] = 0"
   ]
  },
  {
   "cell_type": "code",
   "execution_count": null,
   "metadata": {},
   "outputs": [],
   "source": [
    "i = 1024\n",
    "\n",
    "aligned = []\n",
    "for j in range(1, 100):\n",
    "    x = pleth[i*j:i*(j+1)]\n",
    "    y = abp[i*j:i*(j+1)]\n",
    "\n",
    "    sim = -1\n",
    "    sim_last = -2\n",
    "    offset = 0\n",
    "    while sim > sim_last:\n",
    "        sim_last = sim\n",
    "        x = pleth[i*j-offset:i*(j+1)-offset]\n",
    "        sim = np.sum(x * y)\n",
    "        offset += 1\n",
    "    aligned.append([x, y])"
   ]
  },
  {
   "cell_type": "code",
   "execution_count": null,
   "metadata": {},
   "outputs": [],
   "source": [
    "i = 0\n",
    "x, y = aligned[i][0], aligned[i][1]\n",
    "\n",
    "scaler = MinMaxScaler(feature_range=(60, 120))\n",
    "x = scaler.fit_transform(x.reshape(-1, 1)).reshape(-1,)\n",
    "\n",
    "df = pd.DataFrame(dict(pleth=x,\n",
    "                        abp=y))\n",
    "df.plot()"
   ]
  },
  {
   "cell_type": "code",
   "execution_count": null,
   "metadata": {},
   "outputs": [],
   "source": [
    "i = 1024\n",
    "j = 3\n",
    "offset = 0\n",
    "x = pleth[i*j-offset:i*(j+1)-offset]\n",
    "y = abp[i*j:i*(j+1)]"
   ]
  },
  {
   "cell_type": "code",
   "execution_count": null,
   "metadata": {},
   "outputs": [],
   "source": [
    "# scaler = MinMaxScaler(feature_range=(np.min(y), np.max(y)))\n",
    "# x = scaler.fit_transform(x.reshape(-1, 1)).reshape(-1,)"
   ]
  },
  {
   "cell_type": "code",
   "execution_count": null,
   "metadata": {},
   "outputs": [],
   "source": [
    "time_similarity(pleth, abp)"
   ]
  },
  {
   "cell_type": "code",
   "execution_count": null,
   "metadata": {},
   "outputs": [],
   "source": [
    "pleth = bandpass(pleth)\n",
    "calculate_snr(pleth, (0.5, 8), 125)"
   ]
  },
  {
   "cell_type": "code",
   "execution_count": null,
   "metadata": {},
   "outputs": [],
   "source": [
    "calculate_snr(abp, (0.5, 2.5), 125)"
   ]
  },
  {
   "cell_type": "code",
   "execution_count": null,
   "metadata": {},
   "outputs": [],
   "source": [
    "for i in [2, 4, 8, 16, 32, 64, 128]:\n",
    "    print( (100 / i) + 4)"
   ]
  },
  {
   "cell_type": "code",
   "execution_count": null,
   "metadata": {},
   "outputs": [],
   "source": [
    "def parabolic(f, x):\n",
    "    xv = 1/2. * (f[x-1] - f[x+1]) / (f[x-1] - 2 * f[x] + f[x+1]) + x\n",
    "    yv = f[x] - 1/4. * (f[x-1] - f[x+1]) * (xv - x)\n",
    "    return (xv, yv)\n",
    "\n",
    "def freq_from_crossings(sig, fs):\n",
    "    \"\"\"\n",
    "    Estimate frequency by counting zero crossings\n",
    "    \"\"\"\n",
    "    # Find all indices right before a rising-edge zero crossing\n",
    "    indices = np.nonzero((sig[1:] >= 0) & (sig[:-1] < 0))[0]\n",
    "\n",
    "    # Naive (Measures 1000.185 Hz for 1000 Hz, for instance)\n",
    "    # crossings = indices\n",
    "\n",
    "    # More accurate, using linear interpolation to find intersample\n",
    "    # zero-crossings (Measures 1000.000129 Hz for 1000 Hz, for instance)\n",
    "    crossings = [i - sig[i] / (sig[i+1] - sig[i]) for i in indices]\n",
    "\n",
    "    # Some other interpolation based on neighboring points might be better.\n",
    "    # Spline, cubic, whatever\n",
    "\n",
    "    return fs / np.mean(np.diff(crossings))\n",
    "\n",
    "def freq_from_autocorr(sig, fs):\n",
    "    \"\"\"\n",
    "    Estimate frequency using autocorrelation\n",
    "    \"\"\"\n",
    "    # Calculate autocorrelation and throw away the negative lags\n",
    "    corr = np.correlate(sig, sig, mode='full')\n",
    "    corr = corr[len(corr)//2:]\n",
    "\n",
    "    # Find the first low point\n",
    "    d = np.diff(corr)\n",
    "    start = np.nonzero(d > 0)[0][0]\n",
    "\n",
    "    # Find the next peak after the low point (other than 0 lag).  This bit is\n",
    "    # not reliable for long signals, due to the desired peak occurring between\n",
    "    # samples, and other peaks appearing higher.\n",
    "    # Should use a weighting function to de-emphasize the peaks at longer lags.\n",
    "    peak = np.argmax(corr[start:]) + start\n",
    "    px, py = parabolic(corr, peak)\n",
    "\n",
    "    return fs / px\n",
    "\n",
    "def freq_from_fft(sig, fs):\n",
    "    \"\"\"\n",
    "    Estimate frequency from peak of FFT\n",
    "    \"\"\"\n",
    "    # Compute Fourier transform of windowed signal\n",
    "    windowed = sig * signal.blackmanharris(len(sig))\n",
    "    f = np.fft.rfft(windowed)\n",
    "\n",
    "    # Find the peak and interpolate to get a more accurate peak\n",
    "    i = np.argmax(abs(f))  # Just use this for less-accurate, naive version\n",
    "    true_i = parabolic(np.log(abs(f)), i)[0]\n",
    "\n",
    "    # Convert to equivalent frequency\n",
    "    return fs * true_i / len(windowed)"
   ]
  },
  {
   "cell_type": "code",
   "execution_count": null,
   "metadata": {},
   "outputs": [],
   "source": [
    "fs = 125\n",
    "t = 100\n",
    "x = np.linspace(-np.pi, t * np.pi, 1000)\n",
    "x = np.sin(x)\n",
    "pd.Series(x).plot()\n",
    "\n",
    "freq_from_fft(x, 125)"
   ]
  },
  {
   "cell_type": "code",
   "execution_count": null,
   "metadata": {},
   "outputs": [],
   "source": [
    "freq_from_fft(abp, 125)"
   ]
  },
  {
   "cell_type": "code",
   "execution_count": null,
   "metadata": {},
   "outputs": [],
   "source": [
    "freq_from_autocorr(abp, 125)"
   ]
  },
  {
   "cell_type": "code",
   "execution_count": null,
   "metadata": {},
   "outputs": [],
   "source": [
    "abp = abp - np.mean(abp)\n",
    "freq_from_crossings(abp, 125)"
   ]
  },
  {
   "cell_type": "code",
   "execution_count": null,
   "metadata": {},
   "outputs": [],
   "source": [
    "60 * 1.7"
   ]
  },
  {
   "cell_type": "code",
   "execution_count": null,
   "metadata": {},
   "outputs": [],
   "source": [
    "pd.Series(abp[0:1250]).plot()"
   ]
  },
  {
   "cell_type": "code",
   "execution_count": null,
   "metadata": {},
   "outputs": [],
   "source": [
    "pleth, _ = hp.load_exampledata(0)\n",
    "pleth = pleth + np.random.normal(0,100,2483)\n",
    "pd.Series(pleth).plot()"
   ]
  },
  {
   "cell_type": "code",
   "execution_count": null,
   "metadata": {},
   "outputs": [],
   "source": [
    "from scipy import signal, integrate\n",
    "\n",
    "fs = 100\n",
    "win = fs * 5\n",
    "low, high = 0.3, 30\n",
    "\n",
    "btr = signal.butter(4, [low, high], btype='bandpass', output='sos', fs=fs)\n",
    "pleth = signal.sosfiltfilt(btr, pleth, padtype=None)\n",
    "\n",
    "# Signal power\n",
    "freqs, psd = signal.welch(pleth, fs, nperseg=win)\n",
    "freq_res = freqs[1] - freqs[0]\n",
    "\n",
    "idx_delta = np.logical_and(freqs >= 0.5, freqs <= 8)\n",
    "p_sig = integrate.simps(psd[idx_delta], dx=freq_res)\n",
    "\n",
    "# Signal noise\n",
    "freqs, psd = signal.welch(pleth, fs, nperseg=win)\n",
    "freq_res = freqs[1] - freqs[0]\n",
    "\n",
    "idx_delta = freqs < 0.5\n",
    "p1 = integrate.simps(psd[idx_delta], dx=freq_res)\n",
    "idx_delta = freqs > 8\n",
    "p2 = integrate.simps(psd[idx_delta], dx=freq_res)\n",
    "p_noise = p1 + p2\n",
    "\n",
    "snr = 10 * np.log10(p_sig / p_noise)\n",
    "snr"
   ]
  }
 ],
 "metadata": {
  "kernelspec": {
   "display_name": "Python 3.10.7 ('ml-dev': venv)",
   "language": "python",
   "name": "python3"
  },
  "language_info": {
   "codemirror_mode": {
    "name": "ipython",
    "version": 3
   },
   "file_extension": ".py",
   "mimetype": "text/x-python",
   "name": "python",
   "nbconvert_exporter": "python",
   "pygments_lexer": "ipython3",
   "version": "3.10.7"
  },
  "vscode": {
   "interpreter": {
    "hash": "6260f58c11287286df5f9d02dfa410d3de0ac782705a55dbe46b1570f8ff9e3e"
   }
  }
 },
 "nbformat": 4,
 "nbformat_minor": 2
}
