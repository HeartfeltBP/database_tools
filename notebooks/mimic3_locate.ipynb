{
 "cells": [
  {
   "cell_type": "code",
   "execution_count": null,
   "metadata": {},
   "outputs": [],
   "source": [
    "from database_tools.io.records import locate_valid_records\n",
    "\n",
    "signals = ['PLETH', 'ABP']\n",
    "min_length = 75000  # 10 min in samples (125 Hz)\n",
    "n_segments = 50\n",
    "\n",
    "valid_segs = locate_valid_records(signals, min_length, n_segments)"
   ]
  },
  {
   "cell_type": "code",
   "execution_count": null,
   "metadata": {},
   "outputs": [],
   "source": [
    "from database_tools.io.records import get_data_record\n",
    "\n",
    "num = get_data_record('30/3000063/3000063', record_type='numerics')"
   ]
  },
  {
   "cell_type": "code",
   "execution_count": null,
   "metadata": {},
   "outputs": [],
   "source": [
    "from database_tools.io.records import get_data_record\n",
    "from database_tools.datastores import WaveformRecord\n",
    "\n",
    "tmp = get_data_record('30/3000063/3000063_0016', record_type='waveforms')\n",
    "rcd = WaveformRecord(tmp)"
   ]
  },
  {
   "cell_type": "code",
   "execution_count": null,
   "metadata": {},
   "outputs": [],
   "source": [
    "rcd.PLETH.plot(mode='line', **dict(name='PLETH', showlegend=True))"
   ]
  },
  {
   "cell_type": "code",
   "execution_count": 37,
   "metadata": {},
   "outputs": [],
   "source": [
    "from dataclasses import dataclass, InitVar, field\n",
    "from database_tools.datastores import SignalStore\n",
    "from database_tools.io.records import get_data_record\n",
    "\n",
    "SIG_MAP = {\n",
    "    'PLETH': 'ppg',\n",
    "    'ABP': 'abp',\n",
    "    'II': 'ecg_ii',\n",
    "}\n",
    "\n",
    "@dataclass\n",
    "class SignalGroup:\n",
    "\n",
    "    signals: InitVar[dict]\n",
    "    ppg: SignalStore = field(init=False)\n",
    "    abp: SignalStore = field(init=False)\n",
    "    ecg_ii: SignalStore = field(init=False)\n",
    "    _names: list = field(init=False)\n",
    "\n",
    "    def __post_init__(self, signals):\n",
    "        names = []\n",
    "        for sig, store in signals.items():\n",
    "            setattr(self, SIG_MAP[sig], store)\n",
    "            names.append(SIG_MAP[sig])\n",
    "        setattr(self, '_names', names)\n",
    "\n",
    "    def info(self):\n",
    "        out = ''\n",
    "        for sig in self._names:\n",
    "            store = getattr(self, sig)\n",
    "            out += f'{sig: <7}- '\n",
    "            out += f'Format {store.fmt}, Length of {store.shape[0]} samples\\n'\n",
    "        print(out)\n",
    "\n",
    "rcd = get_data_record('30/3000063/3000063_0016', 'waveforms')"
   ]
  },
  {
   "cell_type": "code",
   "execution_count": 38,
   "metadata": {},
   "outputs": [],
   "source": [
    "signals = {sig: SignalStore(rcd.p_signal[:, i], rcd.fmt[i]) for i, sig in enumerate(rcd.sig_name)}"
   ]
  },
  {
   "cell_type": "code",
   "execution_count": 39,
   "metadata": {},
   "outputs": [],
   "source": [
    "group = SignalGroup(signals)"
   ]
  },
  {
   "cell_type": "code",
   "execution_count": 40,
   "metadata": {},
   "outputs": [
    {
     "name": "stdout",
     "output_type": "stream",
     "text": [
      "ecg_ii -Format 80, Length of 1001537 samples\n",
      "abp    -Format 80, Length of 1001537 samples\n",
      "ppg    -Format 80, Length of 1001537 samples\n",
      "\n"
     ]
    }
   ],
   "source": [
    "group.info()"
   ]
  }
 ],
 "metadata": {
  "kernelspec": {
   "display_name": "heartfelt-tools-Qo_l_FwJ-py3.9",
   "language": "python",
   "name": "python3"
  },
  "language_info": {
   "codemirror_mode": {
    "name": "ipython",
    "version": 3
   },
   "file_extension": ".py",
   "mimetype": "text/x-python",
   "name": "python",
   "nbconvert_exporter": "python",
   "pygments_lexer": "ipython3",
   "version": "3.9.16"
  },
  "orig_nbformat": 4,
  "vscode": {
   "interpreter": {
    "hash": "11be1819121c33cfc84416af11ffbdbeaf074b50fda951b7acc91346a1aaeb2e"
   }
  }
 },
 "nbformat": 4,
 "nbformat_minor": 2
}
