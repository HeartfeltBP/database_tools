{
 "cells": [
  {
   "cell_type": "code",
   "execution_count": null,
   "metadata": {},
   "outputs": [],
   "source": [
    "from database_tools.io.records import locate_valid_records\n",
    "\n",
    "signals = ['PLETH', 'ABP']\n",
    "min_length = 75000  # 10 min in samples (125 Hz)\n",
    "n_segments = 50\n",
    "\n",
    "valid_segs = locate_valid_records(signals, min_length, n_segments)"
   ]
  },
  {
   "cell_type": "code",
   "execution_count": null,
   "metadata": {},
   "outputs": [],
   "source": [
    "from database_tools.io.records import get_data_record\n",
    "\n",
    "num = get_data_record('30/3000063/3000063', record_type='numerics')"
   ]
  },
  {
   "cell_type": "code",
   "execution_count": null,
   "metadata": {},
   "outputs": [],
   "source": [
    "from database_tools.io.records import get_data_record\n",
    "from database_tools.datastores import WaveformRecord\n",
    "\n",
    "tmp = get_data_record('30/3000063/3000063_0016', record_type='waveforms')\n",
    "rcd = WaveformRecord(tmp)"
   ]
  },
  {
   "cell_type": "code",
   "execution_count": null,
   "metadata": {},
   "outputs": [],
   "source": [
    "rcd.PLETH.plot(mode='line', **dict(name='PLETH', showlegend=True))"
   ]
  }
 ],
 "metadata": {
  "kernelspec": {
   "display_name": "heartfelt-tools-Qo_l_FwJ-py3.9",
   "language": "python",
   "name": "python3"
  },
  "language_info": {
   "codemirror_mode": {
    "name": "ipython",
    "version": 3
   },
   "file_extension": ".py",
   "mimetype": "text/x-python",
   "name": "python",
   "nbconvert_exporter": "python",
   "pygments_lexer": "ipython3",
   "version": "3.9.16"
  },
  "orig_nbformat": 4,
  "vscode": {
   "interpreter": {
    "hash": "11be1819121c33cfc84416af11ffbdbeaf074b50fda951b7acc91346a1aaeb2e"
   }
  }
 },
 "nbformat": 4,
 "nbformat_minor": 2
}
