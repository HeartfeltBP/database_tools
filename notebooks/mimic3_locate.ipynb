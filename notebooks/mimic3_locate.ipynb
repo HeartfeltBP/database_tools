{
 "cells": [
  {
   "cell_type": "code",
   "execution_count": null,
   "metadata": {},
   "outputs": [],
   "source": [
    "from tqdm.notebook import tqdm\n",
    "from database_tools.io.records import generate_record_paths, get_header_record\n",
    "from database_tools.filtering.exclusion import header_has_signals"
   ]
  },
  {
   "cell_type": "code",
   "execution_count": null,
   "metadata": {},
   "outputs": [],
   "source": [
    "signals = ['PLETH', 'ABP']\n",
    "min_length = 75000  # 10 min in samples (125 Hz)\n",
    "\n",
    "valid_segs = []\n",
    "for path in tqdm(generate_record_paths(name='adults')):\n",
    "    layout = get_header_record(path=path, record_type='layout')\n",
    "    if layout is None: continue\n",
    "    if not header_has_signals(layout, signals): continue\n",
    "\n",
    "    master = get_header_record(path=path, record_type='data')\n",
    "    if master is None: continue\n",
    "\n",
    "    segments = []\n",
    "    for seg_name, n_samples in zip(master.seg_name, master.seg_len):\n",
    "        if (n_samples > min_length) & (seg_name != '~'):\n",
    "            seg_path = path + '/' + seg_name\n",
    "            hea = get_header_record(path=seg_path, record_type='data')\n",
    "            if hea is None: continue\n",
    "            if header_has_signals(hea, signals):\n",
    "                segments.append(seg_path)\n",
    "    valid_segs += segments\n",
    "    if len(valid_segs) > 100:\n",
    "        break"
   ]
  }
 ],
 "metadata": {
  "kernelspec": {
   "display_name": "heartfelt-tools-yHaj6fLI-py3.9",
   "language": "python",
   "name": "python3"
  },
  "language_info": {
   "codemirror_mode": {
    "name": "ipython",
    "version": 3
   },
   "file_extension": ".py",
   "mimetype": "text/x-python",
   "name": "python",
   "nbconvert_exporter": "python",
   "pygments_lexer": "ipython3",
   "version": "3.9.13"
  },
  "orig_nbformat": 4,
  "vscode": {
   "interpreter": {
    "hash": "132c743df4140e26ae0992ed5a08d62fa655732ef826eedcd961bcd3b30468db"
   }
  }
 },
 "nbformat": 4,
 "nbformat_minor": 2
}
