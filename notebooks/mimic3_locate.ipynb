{
 "cells": [
  {
   "cell_type": "code",
   "execution_count": null,
   "metadata": {},
   "outputs": [],
   "source": [
    "from database_tools.io.records import generate_record_paths, get_header_record, header_has_signals\n",
    "from typing import List\n",
    "from alive_progress import alive_bar\n",
    "\n",
    "def locate_valid_records(signals: List[str], min_length: int, n_segments: int, shuffle: bool = True) -> List[str]:\n",
    "    \"\"\"Locate valid data records. Exclusion is performed based on a list of signals\n",
    "       the records must contain and a minimum length of the signals.\n",
    "\n",
    "    Args:\n",
    "        signals (List[str]): One or more of ['PLETH', 'ABP', ...]  TODO: add other signals\n",
    "        min_length (int): Minimum length of data records to be considered valid.\n",
    "        n_records (int): Maximum number of records to find.\n",
    "        shuffle (bool): If True records list is shuffled.\n",
    "\n",
    "    Returns:\n",
    "        valid_segs (List[str]): _description_\n",
    "    \"\"\"\n",
    "    valid_segs = []\n",
    "    with alive_bar(total=n_segments, bar='brackets', force_tty=True) as bar:\n",
    "        for path in generate_record_paths(name='adults', shuffle=shuffle):\n",
    "\n",
    "            # get patient layout header\n",
    "            layout = get_header_record(path=path, record_type='layout')\n",
    "            if layout is None: continue  # fx returns None if file DNE\n",
    "\n",
    "            # check if header has provided signals\n",
    "            if not header_has_signals(layout, signals): continue\n",
    "\n",
    "            # get patient master header\n",
    "            master = get_header_record(path=path, record_type='data')\n",
    "            if master is None: continue\n",
    "\n",
    "            # zip segment names and lengths\n",
    "            for seg_name, n_samples in zip(master.seg_name, master.seg_len):\n",
    "            \n",
    "                # check segment length\n",
    "                if (n_samples > min_length) & (seg_name != '~'):  # '~' indicates data is missing\n",
    "                    seg_path = path + '/' + seg_name\n",
    "\n",
    "                    # Get segment header\n",
    "                    hea = get_header_record(path=seg_path, record_type='data')\n",
    "                    if hea is None: continue\n",
    "\n",
    "                    # Check if segment has provided signals and append\n",
    "                    if header_has_signals(hea, signals):\n",
    "                        valid_segs.append(seg_path)\n",
    "                        if len(valid_segs) > n_segments:\n",
    "                            return valid_segs\n",
    "                        bar()  # iterate loading bar"
   ]
  },
  {
   "cell_type": "code",
   "execution_count": null,
   "metadata": {},
   "outputs": [],
   "source": [
    "signals = ['PLETH', 'ABP']\n",
    "min_length = 75000  # 10 min in samples (125 Hz)\n",
    "n_segments = 50\n",
    "\n",
    "valid_segs = locate_valid_records(signals, min_length, n_segments)"
   ]
  },
  {
   "cell_type": "code",
   "execution_count": null,
   "metadata": {},
   "outputs": [],
   "source": [
    "len(valid_segs)"
   ]
  }
 ],
 "metadata": {
  "kernelspec": {
   "display_name": "heartfelt-tools-Qo_l_FwJ-py3.9",
   "language": "python",
   "name": "python3"
  },
  "language_info": {
   "codemirror_mode": {
    "name": "ipython",
    "version": 3
   },
   "file_extension": ".py",
   "mimetype": "text/x-python",
   "name": "python",
   "nbconvert_exporter": "python",
   "pygments_lexer": "ipython3",
   "version": "3.9.16"
  },
  "orig_nbformat": 4,
  "vscode": {
   "interpreter": {
    "hash": "11be1819121c33cfc84416af11ffbdbeaf074b50fda951b7acc91346a1aaeb2e"
   }
  }
 },
 "nbformat": 4,
 "nbformat_minor": 2
}
