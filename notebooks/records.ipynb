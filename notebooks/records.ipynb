{
 "cells": [
  {
   "cell_type": "code",
   "execution_count": null,
   "metadata": {},
   "outputs": [],
   "source": [
    "import os\n",
    "from database_tools.tools import RecordsHandler\n",
    "\n",
    "repo_dir = '/media/cam/CAPSTONEDB/database_tools/'\n",
    "os.chdir(repo_dir)\n",
    "\n",
    "worker = RecordsHandler(data_dir='data-2022-10-12/mimic3/')\n",
    "df = worker.generate_records()"
   ]
  }
 ],
 "metadata": {
  "kernelspec": {
   "display_name": "Python 3.10.7 ('database-tools-lEqFc-LH-py3.10')",
   "language": "python",
   "name": "python3"
  },
  "language_info": {
   "codemirror_mode": {
    "name": "ipython",
    "version": 3
   },
   "file_extension": ".py",
   "mimetype": "text/x-python",
   "name": "python",
   "nbconvert_exporter": "python",
   "pygments_lexer": "ipython3",
   "version": "3.10.7"
  },
  "orig_nbformat": 4,
  "vscode": {
   "interpreter": {
    "hash": "60d30ecd6d8786643e320bb29fdffb5a2cbfa6f742dbb159ae5883824975ab68"
   }
  }
 },
 "nbformat": 4,
 "nbformat_minor": 2
}
