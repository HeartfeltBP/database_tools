{
 "cells": [
  {
   "cell_type": "code",
   "execution_count": null,
   "metadata": {},
   "outputs": [],
   "source": [
    "import os\n",
    "from database_tools.tools import RecordsHandler\n",
    "\n",
    "repo_dir = '/media/cam/CAPSTONEDB/database_tools/'\n",
    "os.chdir(repo_dir)\n",
    "\n",
    "worker = RecordsHandler(data_dir='data-2022-10-17/mimic3/')"
   ]
  },
  {
   "cell_type": "code",
   "execution_count": null,
   "metadata": {},
   "outputs": [],
   "source": [
    "worker.generate_records()"
   ]
  },
  {
   "cell_type": "code",
   "execution_count": null,
   "metadata": {},
   "outputs": [],
   "source": [
    "import tensorflow as tf\n",
    "\n",
    "dataset = worker.read_records(n_cores=10, AUTOTUNE=tf.data.AUTOTUNE)\n",
    "train = dataset['train']\n",
    "val = dataset['val']\n",
    "test = dataset['test']"
   ]
  },
  {
   "cell_type": "code",
   "execution_count": null,
   "metadata": {},
   "outputs": [],
   "source": [
    "import numpy as np\n",
    "import pandas as pd\n",
    "\n",
    "i = 1\n",
    "for sample in dataset['test'].take(i):\n",
    "    ppg = np.array(sample['ppg'])\n",
    "    abp = np.array(sample['abp'])"
   ]
  },
  {
   "cell_type": "code",
   "execution_count": null,
   "metadata": {},
   "outputs": [],
   "source": [
    "pd.Series(ppg).plot()"
   ]
  }
 ],
 "metadata": {
  "kernelspec": {
   "display_name": "Python 3.10.7 ('database-tools-lEqFc-LH-py3.10')",
   "language": "python",
   "name": "python3"
  },
  "language_info": {
   "codemirror_mode": {
    "name": "ipython",
    "version": 3
   },
   "file_extension": ".py",
   "mimetype": "text/x-python",
   "name": "python",
   "nbconvert_exporter": "python",
   "pygments_lexer": "ipython3",
   "version": "3.10.8"
  },
  "orig_nbformat": 4,
  "vscode": {
   "interpreter": {
    "hash": "60d30ecd6d8786643e320bb29fdffb5a2cbfa6f742dbb159ae5883824975ab68"
   }
  }
 },
 "nbformat": 4,
 "nbformat_minor": 2
}
