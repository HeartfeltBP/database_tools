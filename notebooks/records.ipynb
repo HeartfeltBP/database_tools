{
 "cells": [
  {
   "cell_type": "code",
   "execution_count": null,
   "metadata": {},
   "outputs": [],
   "source": [
    "import os\n",
    "from database_tools.tools import RecordsHandler\n",
    "\n",
    "repo_dir = '/home/cam/Documents/database_tools/'\n",
    "os.chdir(repo_dir)\n",
    "\n",
    "worker = RecordsHandler(data_dir='data-2022-10-28/mimic3/')"
   ]
  },
  {
   "cell_type": "code",
   "execution_count": null,
   "metadata": {},
   "outputs": [],
   "source": [
    "worker.generate_records(split_strategy=(0.7, 0.15, 0.15), max_samples=50000, normalize='Standard')"
   ]
  },
  {
   "cell_type": "code",
   "execution_count": null,
   "metadata": {},
   "outputs": [],
   "source": [
    "import tensorflow as tf\n",
    "\n",
    "dataset = worker.read_records(n_cores=10, AUTOTUNE=tf.data.AUTOTUNE)\n",
    "train = dataset['train']\n",
    "val = dataset['val']\n",
    "test = dataset['test']"
   ]
  },
  {
   "cell_type": "code",
   "execution_count": null,
   "metadata": {},
   "outputs": [],
   "source": [
    "import numpy as np\n",
    "\n",
    "ppg, abp = [], []\n",
    "for p, a in test.as_numpy_iterator():\n",
    "    ppg.append(p)\n",
    "    abp.append(a)\n",
    "ppg = np.array(ppg)\n",
    "abp = np.array(abp)"
   ]
  },
  {
   "cell_type": "code",
   "execution_count": null,
   "metadata": {},
   "outputs": [],
   "source": [
    "from sklearn.metrics import mean_absolute_error\n",
    "\n",
    "mean_absolute_error(sample, sample2)"
   ]
  },
  {
   "cell_type": "code",
   "execution_count": null,
   "metadata": {},
   "outputs": [],
   "source": [
    "import pickle as pkl\n",
    "\n",
    "with open('../Enceladus/data-2022-10-28/mimic3/abp_scaler.pkl', 'rb') as f:\n",
    "    scaler = pkl.load(f)"
   ]
  },
  {
   "cell_type": "code",
   "execution_count": null,
   "metadata": {},
   "outputs": [],
   "source": [
    "sample = scaler.inverse_transform(sample.reshape(1, -1))\n",
    "sample2 = scaler.inverse_transform(sample2.reshape(1, -1))"
   ]
  },
  {
   "cell_type": "code",
   "execution_count": null,
   "metadata": {},
   "outputs": [],
   "source": [
    "import plotly.graph_objects as go\n",
    "\n",
    "fig = go.FigureWidget()\n",
    "fig.add_scatter(y=sample.reshape(-1))\n",
    "fig.add_scatter(y=sample2.reshape(-1))\n",
    "fig.update_layout(\n",
    "    template='plotly_dark',\n",
    ")"
   ]
  }
 ],
 "metadata": {
  "kernelspec": {
   "display_name": "Python 3.8.13 ('database-tools-Qo_l_FwJ-py3.8')",
   "language": "python",
   "name": "python3"
  },
  "language_info": {
   "codemirror_mode": {
    "name": "ipython",
    "version": 3
   },
   "file_extension": ".py",
   "mimetype": "text/x-python",
   "name": "python",
   "nbconvert_exporter": "python",
   "pygments_lexer": "ipython3",
   "version": "3.8.13"
  },
  "orig_nbformat": 4,
  "vscode": {
   "interpreter": {
    "hash": "c826fe4c3072c6c8679b0c2c5bfc4e59fc902350ea20ac6cce5df13884cb183b"
   }
  }
 },
 "nbformat": 4,
 "nbformat_minor": 2
}
