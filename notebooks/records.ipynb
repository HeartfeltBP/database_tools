{
 "cells": [
  {
   "cell_type": "code",
   "execution_count": null,
   "metadata": {},
   "outputs": [],
   "source": [
    "import os\n",
    "from database_tools.tools import RecordsHandlerV2\n",
    "\n",
    "repo_dir = '/home/cam/Documents/database_tools/'\n",
    "os.chdir(repo_dir)\n",
    "\n",
    "worker = RecordsHandlerV2(data_dir='data-2022-11-08/mimic3/')"
   ]
  },
  {
   "cell_type": "code",
   "execution_count": null,
   "metadata": {},
   "outputs": [],
   "source": [
    "worker.generate_records(labels=['ppg', 'vpg', 'apg', 'abp'], split_strategy=(0.7, 0.15, 0.15), max_samples=50000)"
   ]
  },
  {
   "cell_type": "code",
   "execution_count": null,
   "metadata": {},
   "outputs": [],
   "source": [
    "import tensorflow as tf\n",
    "\n",
    "dataset = worker.read_records(splits=['train', 'val', 'test'], labels=['ppg', 'vpg', 'apg', 'abp'], n_cores=10, AUTOTUNE=tf.data.AUTOTUNE)\n",
    "train = dataset['train']\n",
    "val = dataset['val']\n",
    "test = dataset['test']"
   ]
  },
  {
   "cell_type": "code",
   "execution_count": null,
   "metadata": {},
   "outputs": [],
   "source": [
    "import pickle as pkl\n",
    "\n",
    "with open('data-2022-11-08/mimic3/scaler_1668110859190591977.pkl', 'rb') as f:\n",
    "    scalers = pkl.load(f)"
   ]
  },
  {
   "cell_type": "code",
   "execution_count": null,
   "metadata": {},
   "outputs": [],
   "source": [
    "for i in train.take(1):\n",
    "    ppg = i[0]['ppg']\n",
    "    vpg = i[0]['vpg']\n",
    "    apg = i[0]['apg']"
   ]
  },
  {
   "cell_type": "code",
   "execution_count": null,
   "metadata": {},
   "outputs": [],
   "source": [
    "import numpy as np\n",
    "\n",
    "ppg = scalers['ppg'].inverse_transform(np.array(ppg).reshape(1, -1)).reshape(-1)\n",
    "vpg = scalers['vpg'].inverse_transform(np.array(vpg).reshape(1, -1)).reshape(-1)\n",
    "apg = scalers['apg'].inverse_transform(np.array(apg).reshape(1, -1)).reshape(-1)"
   ]
  },
  {
   "cell_type": "code",
   "execution_count": null,
   "metadata": {},
   "outputs": [],
   "source": [
    "import pandas as pd\n",
    "\n",
    "pd.options.plotting.backend = 'plotly'\n",
    "\n",
    "pd.DataFrame(dict(p=ppg, v=vpg, a=apg)).plot()"
   ]
  }
 ],
 "metadata": {
  "kernelspec": {
   "display_name": "Python 3.8.13 ('database-tools-Qo_l_FwJ-py3.8')",
   "language": "python",
   "name": "python3"
  },
  "language_info": {
   "codemirror_mode": {
    "name": "ipython",
    "version": 3
   },
   "file_extension": ".py",
   "mimetype": "text/x-python",
   "name": "python",
   "nbconvert_exporter": "python",
   "pygments_lexer": "ipython3",
   "version": "3.8.13"
  },
  "orig_nbformat": 4,
  "vscode": {
   "interpreter": {
    "hash": "c826fe4c3072c6c8679b0c2c5bfc4e59fc902350ea20ac6cce5df13884cb183b"
   }
  }
 },
 "nbformat": 4,
 "nbformat_minor": 2
}
