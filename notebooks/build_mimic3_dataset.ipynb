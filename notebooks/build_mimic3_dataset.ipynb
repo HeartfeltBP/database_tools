{
 "cells": [
  {
   "cell_type": "code",
   "execution_count": null,
   "metadata": {},
   "outputs": [],
   "source": [
    "import os\n",
    "from database_tools.tools import BuildDatabase\n",
    "from database_tools.preprocessing.SignalProcessor import ConfigMapper\n",
    "\n",
    "repo_dir = os.getcwd().split('notebooks')[0]\n",
    "os.chdir(repo_dir)\n",
    "\n",
    "\n",
    "\n",
    "worker = BuildDatabase(\n",
    "    data_dir='/home/cam/Documents/database_tools/mimic3-data-20230205/',\n",
    "    samples_per_file=2500,\n",
    "    samples_per_patient=500,\n",
    "    max_samples=100,\n",
    ")\n",
    "\n",
    "worker.run()"
   ]
  }
 ],
 "metadata": {
  "kernelspec": {
   "display_name": "database-tools-Qo_l_FwJ-py3.8",
   "language": "python",
   "name": "python3"
  },
  "language_info": {
   "name": "python",
   "version": "3.8.13 (default, Mar 28 2022, 11:38:47) \n[GCC 7.5.0]"
  },
  "orig_nbformat": 4,
  "vscode": {
   "interpreter": {
    "hash": "c826fe4c3072c6c8679b0c2c5bfc4e59fc902350ea20ac6cce5df13884cb183b"
   }
  }
 },
 "nbformat": 4,
 "nbformat_minor": 2
}
