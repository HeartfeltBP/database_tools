{
 "cells": [
  {
   "cell_type": "code",
   "execution_count": null,
   "metadata": {},
   "outputs": [],
   "source": [
    "import wandb\n",
    "import keras\n",
    "import numpy as np\n",
    "import pandas as pd\n",
    "import pickle as pkl\n",
    "import tensorflow as tf\n",
    "from database_tools.tools import RecordsHandler\n",
    "\n",
    "pd.options.plotting.backend = 'plotly'\n",
    "\n",
    "def read_test_data(data_dir, n_cores):\n",
    "    handler = RecordsHandler(data_dir=data_dir)\n",
    "\n",
    "    dataset = handler.read_records(n_cores=n_cores, AUTOTUNE=tf.data.AUTOTUNE)\n",
    "    test = dataset['test']\n",
    "    \n",
    "    ppg = []\n",
    "    abp = []\n",
    "    for p, a in test.as_numpy_iterator():\n",
    "        ppg.append(p)\n",
    "        abp.append(a)\n",
    "    ppg = np.array(ppg).reshape(-1, 256)\n",
    "    abp = np.array(abp).reshape(-1, 256)\n",
    "    return dict(ppg=ppg, abp=abp)\n",
    "\n",
    "with open('/home/cam/Documents/database_tools/data-2022-10-28/mimic3/abp_scaler.pkl', 'rb') as f:\n",
    "    scaler = pkl.load(f)\n",
    "\n",
    "# run = wandb.init()\n",
    "# artifact = run.use_artifact('heartfelt/model-registry/Enceladus:v1', type='model')\n",
    "# artifact_dir = artifact.download()\n",
    "# wandb.finish()"
   ]
  },
  {
   "cell_type": "code",
   "execution_count": 4,
   "metadata": {},
   "outputs": [
    {
     "ename": "UnicodeDecodeError",
     "evalue": "'utf-8' codec can't decode byte 0x80 in position 0: invalid start byte",
     "output_type": "error",
     "traceback": [
      "\u001b[0;31m---------------------------------------------------------------------------\u001b[0m",
      "\u001b[0;31mUnicodeDecodeError\u001b[0m                        Traceback (most recent call last)",
      "Cell \u001b[0;32mIn [4], line 4\u001b[0m\n\u001b[1;32m      2\u001b[0m \u001b[39mimport\u001b[39;00m \u001b[39mpandas\u001b[39;00m \u001b[39mas\u001b[39;00m \u001b[39mpd\u001b[39;00m\n\u001b[1;32m      3\u001b[0m \u001b[39mwith\u001b[39;00m \u001b[39mopen\u001b[39m(\u001b[39m'\u001b[39m\u001b[39m/home/cam/Documents/database_tools/data-2022-12-11/used_segs.pkl\u001b[39m\u001b[39m'\u001b[39m, \u001b[39m'\u001b[39m\u001b[39mrb\u001b[39m\u001b[39m'\u001b[39m) \u001b[39mas\u001b[39;00m f:\n\u001b[0;32m----> 4\u001b[0m     pd\u001b[39m.\u001b[39;49mread_csv(f)\n",
      "File \u001b[0;32m~/.cache/pypoetry/virtualenvs/database-tools-Qo_l_FwJ-py3.8/lib/python3.8/site-packages/pandas/util/_decorators.py:211\u001b[0m, in \u001b[0;36mdeprecate_kwarg.<locals>._deprecate_kwarg.<locals>.wrapper\u001b[0;34m(*args, **kwargs)\u001b[0m\n\u001b[1;32m    209\u001b[0m     \u001b[39melse\u001b[39;00m:\n\u001b[1;32m    210\u001b[0m         kwargs[new_arg_name] \u001b[39m=\u001b[39m new_arg_value\n\u001b[0;32m--> 211\u001b[0m \u001b[39mreturn\u001b[39;00m func(\u001b[39m*\u001b[39;49margs, \u001b[39m*\u001b[39;49m\u001b[39m*\u001b[39;49mkwargs)\n",
      "File \u001b[0;32m~/.cache/pypoetry/virtualenvs/database-tools-Qo_l_FwJ-py3.8/lib/python3.8/site-packages/pandas/util/_decorators.py:331\u001b[0m, in \u001b[0;36mdeprecate_nonkeyword_arguments.<locals>.decorate.<locals>.wrapper\u001b[0;34m(*args, **kwargs)\u001b[0m\n\u001b[1;32m    325\u001b[0m \u001b[39mif\u001b[39;00m \u001b[39mlen\u001b[39m(args) \u001b[39m>\u001b[39m num_allow_args:\n\u001b[1;32m    326\u001b[0m     warnings\u001b[39m.\u001b[39mwarn(\n\u001b[1;32m    327\u001b[0m         msg\u001b[39m.\u001b[39mformat(arguments\u001b[39m=\u001b[39m_format_argument_list(allow_args)),\n\u001b[1;32m    328\u001b[0m         \u001b[39mFutureWarning\u001b[39;00m,\n\u001b[1;32m    329\u001b[0m         stacklevel\u001b[39m=\u001b[39mfind_stack_level(),\n\u001b[1;32m    330\u001b[0m     )\n\u001b[0;32m--> 331\u001b[0m \u001b[39mreturn\u001b[39;00m func(\u001b[39m*\u001b[39;49margs, \u001b[39m*\u001b[39;49m\u001b[39m*\u001b[39;49mkwargs)\n",
      "File \u001b[0;32m~/.cache/pypoetry/virtualenvs/database-tools-Qo_l_FwJ-py3.8/lib/python3.8/site-packages/pandas/io/parsers/readers.py:950\u001b[0m, in \u001b[0;36mread_csv\u001b[0;34m(filepath_or_buffer, sep, delimiter, header, names, index_col, usecols, squeeze, prefix, mangle_dupe_cols, dtype, engine, converters, true_values, false_values, skipinitialspace, skiprows, skipfooter, nrows, na_values, keep_default_na, na_filter, verbose, skip_blank_lines, parse_dates, infer_datetime_format, keep_date_col, date_parser, dayfirst, cache_dates, iterator, chunksize, compression, thousands, decimal, lineterminator, quotechar, quoting, doublequote, escapechar, comment, encoding, encoding_errors, dialect, error_bad_lines, warn_bad_lines, on_bad_lines, delim_whitespace, low_memory, memory_map, float_precision, storage_options)\u001b[0m\n\u001b[1;32m    935\u001b[0m kwds_defaults \u001b[39m=\u001b[39m _refine_defaults_read(\n\u001b[1;32m    936\u001b[0m     dialect,\n\u001b[1;32m    937\u001b[0m     delimiter,\n\u001b[0;32m   (...)\u001b[0m\n\u001b[1;32m    946\u001b[0m     defaults\u001b[39m=\u001b[39m{\u001b[39m\"\u001b[39m\u001b[39mdelimiter\u001b[39m\u001b[39m\"\u001b[39m: \u001b[39m\"\u001b[39m\u001b[39m,\u001b[39m\u001b[39m\"\u001b[39m},\n\u001b[1;32m    947\u001b[0m )\n\u001b[1;32m    948\u001b[0m kwds\u001b[39m.\u001b[39mupdate(kwds_defaults)\n\u001b[0;32m--> 950\u001b[0m \u001b[39mreturn\u001b[39;00m _read(filepath_or_buffer, kwds)\n",
      "File \u001b[0;32m~/.cache/pypoetry/virtualenvs/database-tools-Qo_l_FwJ-py3.8/lib/python3.8/site-packages/pandas/io/parsers/readers.py:605\u001b[0m, in \u001b[0;36m_read\u001b[0;34m(filepath_or_buffer, kwds)\u001b[0m\n\u001b[1;32m    602\u001b[0m _validate_names(kwds\u001b[39m.\u001b[39mget(\u001b[39m\"\u001b[39m\u001b[39mnames\u001b[39m\u001b[39m\"\u001b[39m, \u001b[39mNone\u001b[39;00m))\n\u001b[1;32m    604\u001b[0m \u001b[39m# Create the parser.\u001b[39;00m\n\u001b[0;32m--> 605\u001b[0m parser \u001b[39m=\u001b[39m TextFileReader(filepath_or_buffer, \u001b[39m*\u001b[39;49m\u001b[39m*\u001b[39;49mkwds)\n\u001b[1;32m    607\u001b[0m \u001b[39mif\u001b[39;00m chunksize \u001b[39mor\u001b[39;00m iterator:\n\u001b[1;32m    608\u001b[0m     \u001b[39mreturn\u001b[39;00m parser\n",
      "File \u001b[0;32m~/.cache/pypoetry/virtualenvs/database-tools-Qo_l_FwJ-py3.8/lib/python3.8/site-packages/pandas/io/parsers/readers.py:1442\u001b[0m, in \u001b[0;36mTextFileReader.__init__\u001b[0;34m(self, f, engine, **kwds)\u001b[0m\n\u001b[1;32m   1439\u001b[0m     \u001b[39mself\u001b[39m\u001b[39m.\u001b[39moptions[\u001b[39m\"\u001b[39m\u001b[39mhas_index_names\u001b[39m\u001b[39m\"\u001b[39m] \u001b[39m=\u001b[39m kwds[\u001b[39m\"\u001b[39m\u001b[39mhas_index_names\u001b[39m\u001b[39m\"\u001b[39m]\n\u001b[1;32m   1441\u001b[0m \u001b[39mself\u001b[39m\u001b[39m.\u001b[39mhandles: IOHandles \u001b[39m|\u001b[39m \u001b[39mNone\u001b[39;00m \u001b[39m=\u001b[39m \u001b[39mNone\u001b[39;00m\n\u001b[0;32m-> 1442\u001b[0m \u001b[39mself\u001b[39m\u001b[39m.\u001b[39m_engine \u001b[39m=\u001b[39m \u001b[39mself\u001b[39;49m\u001b[39m.\u001b[39;49m_make_engine(f, \u001b[39mself\u001b[39;49m\u001b[39m.\u001b[39;49mengine)\n",
      "File \u001b[0;32m~/.cache/pypoetry/virtualenvs/database-tools-Qo_l_FwJ-py3.8/lib/python3.8/site-packages/pandas/io/parsers/readers.py:1753\u001b[0m, in \u001b[0;36mTextFileReader._make_engine\u001b[0;34m(self, f, engine)\u001b[0m\n\u001b[1;32m   1750\u001b[0m     \u001b[39mraise\u001b[39;00m \u001b[39mValueError\u001b[39;00m(msg)\n\u001b[1;32m   1752\u001b[0m \u001b[39mtry\u001b[39;00m:\n\u001b[0;32m-> 1753\u001b[0m     \u001b[39mreturn\u001b[39;00m mapping[engine](f, \u001b[39m*\u001b[39;49m\u001b[39m*\u001b[39;49m\u001b[39mself\u001b[39;49m\u001b[39m.\u001b[39;49moptions)\n\u001b[1;32m   1754\u001b[0m \u001b[39mexcept\u001b[39;00m \u001b[39mException\u001b[39;00m:\n\u001b[1;32m   1755\u001b[0m     \u001b[39mif\u001b[39;00m \u001b[39mself\u001b[39m\u001b[39m.\u001b[39mhandles \u001b[39mis\u001b[39;00m \u001b[39mnot\u001b[39;00m \u001b[39mNone\u001b[39;00m:\n",
      "File \u001b[0;32m~/.cache/pypoetry/virtualenvs/database-tools-Qo_l_FwJ-py3.8/lib/python3.8/site-packages/pandas/io/parsers/c_parser_wrapper.py:79\u001b[0m, in \u001b[0;36mCParserWrapper.__init__\u001b[0;34m(self, src, **kwds)\u001b[0m\n\u001b[1;32m     76\u001b[0m     kwds\u001b[39m.\u001b[39mpop(key, \u001b[39mNone\u001b[39;00m)\n\u001b[1;32m     78\u001b[0m kwds[\u001b[39m\"\u001b[39m\u001b[39mdtype\u001b[39m\u001b[39m\"\u001b[39m] \u001b[39m=\u001b[39m ensure_dtype_objs(kwds\u001b[39m.\u001b[39mget(\u001b[39m\"\u001b[39m\u001b[39mdtype\u001b[39m\u001b[39m\"\u001b[39m, \u001b[39mNone\u001b[39;00m))\n\u001b[0;32m---> 79\u001b[0m \u001b[39mself\u001b[39m\u001b[39m.\u001b[39m_reader \u001b[39m=\u001b[39m parsers\u001b[39m.\u001b[39;49mTextReader(src, \u001b[39m*\u001b[39;49m\u001b[39m*\u001b[39;49mkwds)\n\u001b[1;32m     81\u001b[0m \u001b[39mself\u001b[39m\u001b[39m.\u001b[39munnamed_cols \u001b[39m=\u001b[39m \u001b[39mself\u001b[39m\u001b[39m.\u001b[39m_reader\u001b[39m.\u001b[39munnamed_cols\n\u001b[1;32m     83\u001b[0m \u001b[39m# error: Cannot determine type of 'names'\u001b[39;00m\n",
      "File \u001b[0;32m~/.cache/pypoetry/virtualenvs/database-tools-Qo_l_FwJ-py3.8/lib/python3.8/site-packages/pandas/_libs/parsers.pyx:547\u001b[0m, in \u001b[0;36mpandas._libs.parsers.TextReader.__cinit__\u001b[0;34m()\u001b[0m\n",
      "File \u001b[0;32m~/.cache/pypoetry/virtualenvs/database-tools-Qo_l_FwJ-py3.8/lib/python3.8/site-packages/pandas/_libs/parsers.pyx:636\u001b[0m, in \u001b[0;36mpandas._libs.parsers.TextReader._get_header\u001b[0;34m()\u001b[0m\n",
      "File \u001b[0;32m~/.cache/pypoetry/virtualenvs/database-tools-Qo_l_FwJ-py3.8/lib/python3.8/site-packages/pandas/_libs/parsers.pyx:852\u001b[0m, in \u001b[0;36mpandas._libs.parsers.TextReader._tokenize_rows\u001b[0;34m()\u001b[0m\n",
      "File \u001b[0;32m~/.cache/pypoetry/virtualenvs/database-tools-Qo_l_FwJ-py3.8/lib/python3.8/site-packages/pandas/_libs/parsers.pyx:1965\u001b[0m, in \u001b[0;36mpandas._libs.parsers.raise_parser_error\u001b[0;34m()\u001b[0m\n",
      "\u001b[0;31mUnicodeDecodeError\u001b[0m: 'utf-8' codec can't decode byte 0x80 in position 0: invalid start byte"
     ]
    }
   ],
   "source": [
    "import pickle as pkl\n",
    "import pandas as pd\n",
    "with open('/home/cam/Documents/database_tools/data-2022-12-11/used_segs.pkl', 'rb') as f:\n",
    "    pd.read_csv(f)\n"
   ]
  },
  {
   "cell_type": "code",
   "execution_count": 41,
   "metadata": {},
   "outputs": [
    {
     "data": {
      "application/vnd.jupyter.widget-view+json": {
       "model_id": "d21f934f74494a06bf9a83c159b7226e",
       "version_major": 2,
       "version_minor": 0
      },
      "text/plain": [
       "FigureWidget({\n",
       "    'data': [{'type': 'scatter',\n",
       "              'uid': '2878b5f9-e0b9-42bf-8865-9a7a380e05f6',\n",
       " …"
      ]
     },
     "metadata": {},
     "output_type": "display_data"
    }
   ],
   "source": [
    "import json\n",
    "import numpy as np\n",
    "import pandas as pd\n",
    "import plotly.graph_objects as go\n",
    "\n",
    "sig = []\n",
    "with open(f'../data-2022-11-08/mimic3/lines/mimic3_0000045.jsonlines', 'r') as f:\n",
    "    for sample in f:\n",
    "        sample = json.loads(sample)\n",
    "        sig.append(sample['abp'])\n",
    "sig = np.array(sig)\n",
    "\n",
    "x = sig[2400, :]\n",
    "\n",
    "fig = go.FigureWidget()\n",
    "fig.update_layout(template='plotly_dark')\n",
    "fig.add_scatter(\n",
    "    y=x,\n",
    ")\n",
    "fig"
   ]
  },
  {
   "cell_type": "code",
   "execution_count": 33,
   "metadata": {},
   "outputs": [
    {
     "data": {
      "text/plain": [
       "1819"
      ]
     },
     "execution_count": 33,
     "metadata": {},
     "output_type": "execute_result"
    }
   ],
   "source": [
    "import pickle as pkl\n",
    "\n",
    "with open('../data-2022-11-08/used_records.pkl', 'rb') as f:\n",
    "    used_records = pkl.load(f)\n",
    "len(used_records)"
   ]
  },
  {
   "cell_type": "code",
   "execution_count": null,
   "metadata": {},
   "outputs": [],
   "source": [
    "model = keras.models.load_model('artifacts/model-restful-eon-16:v16/')\n",
    "\n",
    "test = read_test_data('/home/cam/Documents/database_tools/data-2022-10-28/mimic3/', 10)\n",
    "true = test['abp']\n",
    "pred = model.predict(test['ppg']).reshape(-1, 256)\n",
    "\n",
    "true = scaler.inverse_transform(true).reshape(-1, 256)\n",
    "pred = scaler.inverse_transform(pred).reshape(-1, 256)"
   ]
  },
  {
   "cell_type": "code",
   "execution_count": null,
   "metadata": {},
   "outputs": [],
   "source": [
    "from sklearn.metrics import mean_absolute_error\n",
    "from heartpy.preprocessing import flip_signal\n",
    "from neurokit2.ppg import ppg_findpeaks\n",
    "from tqdm import tqdm\n",
    "\n",
    "sbp_err = []\n",
    "dbp_err = []\n",
    "sbp = []\n",
    "sbp_predictions = []\n",
    "dbp = []\n",
    "dbp_predictions = []\n",
    "for t, p in tqdm(zip(true, pred), total=true.shape[0]):\n",
    "    try:\n",
    "        t_peaks = ppg_findpeaks(t, sampling_rate=125)['PPG_Peaks']\n",
    "        p_peaks = ppg_findpeaks(p, sampling_rate=125)['PPG_Peaks']\n",
    "        t_valleys = ppg_findpeaks(flip_signal(t), sampling_rate=125)['PPG_Peaks']\n",
    "        p_valleys = ppg_findpeaks(flip_signal(p), sampling_rate=125)['PPG_Peaks']\n",
    "\n",
    "        sbp_true = np.mean(t[t_peaks])\n",
    "        dbp_true = np.mean(t[t_valleys])\n",
    "        sbp_pred = np.mean(p[p_peaks])\n",
    "        dbp_pred = np.mean(p[p_valleys])\n",
    "\n",
    "        sbp.append(sbp_true)\n",
    "        sbp_predictions.append(sbp_pred)\n",
    "\n",
    "        dbp.append(dbp_true)\n",
    "        dbp_predictions.append(dbp_pred)\n",
    "\n",
    "        sbp_err.append(mean_absolute_error(sbp_true.reshape(-1, 1), sbp_pred.reshape(-1, 1)))\n",
    "        dbp_err.append(mean_absolute_error(dbp_true.reshape(-1, 1), dbp_pred.reshape(-1, 1)))\n",
    "    except:\n",
    "        continue\n",
    "sbp_err = np.array(sbp_err)\n",
    "dbp_err = np.array(dbp_err)"
   ]
  },
  {
   "cell_type": "code",
   "execution_count": null,
   "metadata": {},
   "outputs": [],
   "source": [
    "fig = pd.DataFrame(dict(true=sbp, pred=sbp_predictions)).plot.scatter(x='true', y='pred')\n",
    "fig.update_layout(\n",
    "    xaxis=dict(\n",
    "        range=[0, 230],\n",
    "    ),\n",
    "    yaxis=dict(\n",
    "        range=[0, 230],\n",
    "    ),\n",
    ")"
   ]
  },
  {
   "cell_type": "code",
   "execution_count": null,
   "metadata": {},
   "outputs": [],
   "source": [
    "import numpy as np\n",
    "import plotly.graph_objects as go\n",
    "\n",
    "def bland_altman_plot(data1, data2, *args, **kwargs):\n",
    "    data1     = np.asarray(data1)\n",
    "    data2     = np.asarray(data2)\n",
    "    mean      = np.mean([data1, data2], axis=0)\n",
    "    diff      = data1 - data2                   # Difference between data1 and data2\n",
    "    md        = np.mean(diff)                   # Mean of the difference\n",
    "    sd        = np.std(diff, axis=0)            # Standard deviation of the difference\n",
    "\n",
    "    fig = go.Figure()\n",
    "    fig.add_scatter(x=mean, y=diff, mode='markers')\n",
    "    fig.add_hline(y=md)\n",
    "    for i in [5, 10, 15]:\n",
    "        fig.add_hline(y=md + i, line_dash='dot')\n",
    "        fig.add_hline(y=md - i, line_dash='dot')\n",
    "    fig.update_layout(\n",
    "        yaxis=dict(\n",
    "            range=[-55, 55],\n",
    "        )\n",
    "    )\n",
    "    return fig\n",
    "\n",
    "fig = bland_altman_plot(dbp, dbp_predictions)\n",
    "fig"
   ]
  },
  {
   "cell_type": "code",
   "execution_count": null,
   "metadata": {},
   "outputs": [],
   "source": [
    "fig = pd.Series(sbp_err).plot.hist(nbins=100)\n",
    "print(f'{len(sbp_err[sbp_err < 15]) / len(sbp_err) * 100:.{3}}% < 15mmHg')\n",
    "print(f'{len(sbp_err[sbp_err < 10]) / len(sbp_err) * 100:.{3}}% < 10mmHg')\n",
    "print(f'{len(sbp_err[sbp_err < 5]) / len(sbp_err) * 100:.{3}}% < 5mmHg')\n",
    "fig"
   ]
  },
  {
   "cell_type": "code",
   "execution_count": null,
   "metadata": {},
   "outputs": [],
   "source": [
    "fig = pd.Series(dbp_err).plot.hist(nbins=100)\n",
    "print(f'{len(dbp_err[dbp_err < 15]) / len(dbp_err) * 100:.{3}}% < 15mmHg')\n",
    "print(f'{len(dbp_err[dbp_err < 10]) / len(dbp_err) * 100:.{3}}% < 10mmHg')\n",
    "print(f'{len(dbp_err[dbp_err < 5]) / len(dbp_err) * 100:.{3}}% < 5mmHg')\n",
    "fig"
   ]
  }
 ],
 "metadata": {
  "kernelspec": {
   "display_name": "Python 3.8.13 ('database-tools-Qo_l_FwJ-py3.8')",
   "language": "python",
   "name": "python3"
  },
  "language_info": {
   "codemirror_mode": {
    "name": "ipython",
    "version": 3
   },
   "file_extension": ".py",
   "mimetype": "text/x-python",
   "name": "python",
   "nbconvert_exporter": "python",
   "pygments_lexer": "ipython3",
   "version": "3.8.13 (default, Mar 28 2022, 11:38:47) \n[GCC 7.5.0]"
  },
  "orig_nbformat": 4,
  "vscode": {
   "interpreter": {
    "hash": "c826fe4c3072c6c8679b0c2c5bfc4e59fc902350ea20ac6cce5df13884cb183b"
   }
  }
 },
 "nbformat": 4,
 "nbformat_minor": 2
}
