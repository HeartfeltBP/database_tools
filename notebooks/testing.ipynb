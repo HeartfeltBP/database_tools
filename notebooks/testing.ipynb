{
 "cells": [
  {
   "cell_type": "code",
   "execution_count": null,
   "metadata": {},
   "outputs": [],
   "source": [
    "from sklearn.metrics import mean_absolute_error\n",
    "from heartpy.preprocessing import flip_signal\n",
    "from neurokit2.ppg import ppg_findpeaks\n",
    "from tqdm import tqdm\n",
    "\n",
    "sbp_err = []\n",
    "dbp_err = []\n",
    "sbp = []\n",
    "sbp_predictions = []\n",
    "dbp = []\n",
    "dbp_predictions = []\n",
    "for t, p in tqdm(zip(true, pred), total=true.shape[0]):\n",
    "    try:\n",
    "        t_peaks = ppg_findpeaks(t, sampling_rate=125)['PPG_Peaks']\n",
    "        p_peaks = ppg_findpeaks(p, sampling_rate=125)['PPG_Peaks']\n",
    "        t_valleys = ppg_findpeaks(flip_signal(t), sampling_rate=125)['PPG_Peaks']\n",
    "        p_valleys = ppg_findpeaks(flip_signal(p), sampling_rate=125)['PPG_Peaks']\n",
    "\n",
    "        sbp_true = np.mean(t[t_peaks])\n",
    "        dbp_true = np.mean(t[t_valleys])\n",
    "        sbp_pred = np.mean(p[p_peaks])\n",
    "        dbp_pred = np.mean(p[p_valleys])\n",
    "\n",
    "        sbp.append(sbp_true)\n",
    "        sbp_predictions.append(sbp_pred)\n",
    "\n",
    "        dbp.append(dbp_true)\n",
    "        dbp_predictions.append(dbp_pred)\n",
    "\n",
    "        sbp_err.append(mean_absolute_error(sbp_true.reshape(-1, 1), sbp_pred.reshape(-1, 1)))\n",
    "        dbp_err.append(mean_absolute_error(dbp_true.reshape(-1, 1), dbp_pred.reshape(-1, 1)))\n",
    "    except:\n",
    "        continue\n",
    "sbp_err = np.array(sbp_err)\n",
    "dbp_err = np.array(dbp_err)"
   ]
  },
  {
   "cell_type": "code",
   "execution_count": null,
   "metadata": {},
   "outputs": [],
   "source": [
    "fig = pd.DataFrame(dict(true=sbp, pred=sbp_predictions)).plot.scatter(x='true', y='pred')\n",
    "fig.update_layout(\n",
    "    xaxis=dict(\n",
    "        range=[0, 230],\n",
    "    ),\n",
    "    yaxis=dict(\n",
    "        range=[0, 230],\n",
    "    ),\n",
    ")"
   ]
  },
  {
   "cell_type": "code",
   "execution_count": null,
   "metadata": {},
   "outputs": [],
   "source": [
    "import numpy as np\n",
    "import plotly.graph_objects as go\n",
    "\n",
    "def bland_altman_plot(data1, data2, *args, **kwargs):\n",
    "    data1     = np.asarray(data1)\n",
    "    data2     = np.asarray(data2)\n",
    "    mean      = np.mean([data1, data2], axis=0)\n",
    "    diff      = data1 - data2                   # Difference between data1 and data2\n",
    "    md        = np.mean(diff)                   # Mean of the difference\n",
    "    sd        = np.std(diff, axis=0)            # Standard deviation of the difference\n",
    "\n",
    "    fig = go.Figure()\n",
    "    fig.add_scatter(x=mean, y=diff, mode='markers')\n",
    "    fig.add_hline(y=md)\n",
    "    for i in [5, 10, 15]:\n",
    "        fig.add_hline(y=md + i, line_dash='dot')\n",
    "        fig.add_hline(y=md - i, line_dash='dot')\n",
    "    fig.update_layout(\n",
    "        yaxis=dict(\n",
    "            range=[-55, 55],\n",
    "        )\n",
    "    )\n",
    "    return fig\n",
    "\n",
    "fig = bland_altman_plot(dbp, dbp_predictions)\n",
    "fig"
   ]
  },
  {
   "cell_type": "code",
   "execution_count": null,
   "metadata": {},
   "outputs": [],
   "source": [
    "fig = pd.Series(sbp_err).plot.hist(nbins=100)\n",
    "print(f'{len(sbp_err[sbp_err < 15]) / len(sbp_err) * 100:.{3}}% < 15mmHg')\n",
    "print(f'{len(sbp_err[sbp_err < 10]) / len(sbp_err) * 100:.{3}}% < 10mmHg')\n",
    "print(f'{len(sbp_err[sbp_err < 5]) / len(sbp_err) * 100:.{3}}% < 5mmHg')\n",
    "fig"
   ]
  },
  {
   "cell_type": "code",
   "execution_count": null,
   "metadata": {},
   "outputs": [],
   "source": [
    "fig = pd.Series(dbp_err).plot.hist(nbins=100)\n",
    "print(f'{len(dbp_err[dbp_err < 15]) / len(dbp_err) * 100:.{3}}% < 15mmHg')\n",
    "print(f'{len(dbp_err[dbp_err < 10]) / len(dbp_err) * 100:.{3}}% < 10mmHg')\n",
    "print(f'{len(dbp_err[dbp_err < 5]) / len(dbp_err) * 100:.{3}}% < 5mmHg')\n",
    "fig"
   ]
  }
 ],
 "metadata": {
  "kernelspec": {
   "display_name": "Python 3.8.13 ('database-tools-Qo_l_FwJ-py3.8')",
   "language": "python",
   "name": "python3"
  },
  "language_info": {
   "codemirror_mode": {
    "name": "ipython",
    "version": 3
   },
   "file_extension": ".py",
   "mimetype": "text/x-python",
   "name": "python",
   "nbconvert_exporter": "python",
   "pygments_lexer": "ipython3",
   "version": "3.8.13"
  },
  "orig_nbformat": 4,
  "vscode": {
   "interpreter": {
    "hash": "c826fe4c3072c6c8679b0c2c5bfc4e59fc902350ea20ac6cce5df13884cb183b"
   }
  }
 },
 "nbformat": 4,
 "nbformat_minor": 2
}
