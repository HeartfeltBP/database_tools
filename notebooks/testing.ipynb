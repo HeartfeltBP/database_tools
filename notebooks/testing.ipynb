{
 "cells": [
  {
   "cell_type": "code",
   "execution_count": 1,
   "metadata": {},
   "outputs": [],
   "source": [
    "import wandb\n",
    "import keras\n",
    "import numpy as np\n",
    "import pandas as pd\n",
    "import pickle as pkl\n",
    "import tensorflow as tf\n",
    "from database_tools.tools import RecordsHandler\n",
    "\n",
    "pd.options.plotting.backend = 'plotly'\n",
    "\n",
    "def read_test_data(data_dir, n_cores):\n",
    "    handler = RecordsHandler(data_dir=data_dir)\n",
    "\n",
    "    dataset = handler.read_records(n_cores=n_cores, AUTOTUNE=tf.data.AUTOTUNE)\n",
    "    test = dataset['test']\n",
    "    \n",
    "    ppg = []\n",
    "    abp = []\n",
    "    for p, a in test.as_numpy_iterator():\n",
    "        ppg.append(p)\n",
    "        abp.append(a)\n",
    "    ppg = np.array(ppg).reshape(-1, 256)\n",
    "    abp = np.array(abp).reshape(-1, 256)\n",
    "    return dict(ppg=ppg, abp=abp)\n",
    "\n",
    "with open('/home/cam/Documents/database_tools/data-2022-10-28/mimic3/abp_scaler.pkl', 'rb') as f:\n",
    "    scaler = pkl.load(f)\n",
    "\n",
    "# run = wandb.init()\n",
    "# artifact = run.use_artifact('heartfelt/model-registry/Enceladus:v1', type='model')\n",
    "# artifact_dir = artifact.download()\n",
    "# wandb.finish()"
   ]
  },
  {
   "cell_type": "code",
   "execution_count": 2,
   "metadata": {},
   "outputs": [
    {
     "name": "stderr",
     "output_type": "stream",
     "text": [
      "2022-11-02 19:46:54.692101: I tensorflow/stream_executor/cuda/cuda_gpu_executor.cc:975] successful NUMA node read from SysFS had negative value (-1), but there must be at least one NUMA node, so returning NUMA node zero\n",
      "2022-11-02 19:46:54.708229: I tensorflow/stream_executor/cuda/cuda_gpu_executor.cc:975] successful NUMA node read from SysFS had negative value (-1), but there must be at least one NUMA node, so returning NUMA node zero\n",
      "2022-11-02 19:46:54.708425: I tensorflow/stream_executor/cuda/cuda_gpu_executor.cc:975] successful NUMA node read from SysFS had negative value (-1), but there must be at least one NUMA node, so returning NUMA node zero\n",
      "2022-11-02 19:46:54.708936: I tensorflow/core/platform/cpu_feature_guard.cc:193] This TensorFlow binary is optimized with oneAPI Deep Neural Network Library (oneDNN) to use the following CPU instructions in performance-critical operations:  AVX2 FMA\n",
      "To enable them in other operations, rebuild TensorFlow with the appropriate compiler flags.\n",
      "2022-11-02 19:46:54.709783: I tensorflow/stream_executor/cuda/cuda_gpu_executor.cc:975] successful NUMA node read from SysFS had negative value (-1), but there must be at least one NUMA node, so returning NUMA node zero\n",
      "2022-11-02 19:46:54.710019: I tensorflow/stream_executor/cuda/cuda_gpu_executor.cc:975] successful NUMA node read from SysFS had negative value (-1), but there must be at least one NUMA node, so returning NUMA node zero\n",
      "2022-11-02 19:46:54.710177: I tensorflow/stream_executor/cuda/cuda_gpu_executor.cc:975] successful NUMA node read from SysFS had negative value (-1), but there must be at least one NUMA node, so returning NUMA node zero\n",
      "2022-11-02 19:46:55.051612: I tensorflow/stream_executor/cuda/cuda_gpu_executor.cc:975] successful NUMA node read from SysFS had negative value (-1), but there must be at least one NUMA node, so returning NUMA node zero\n",
      "2022-11-02 19:46:55.051832: I tensorflow/stream_executor/cuda/cuda_gpu_executor.cc:975] successful NUMA node read from SysFS had negative value (-1), but there must be at least one NUMA node, so returning NUMA node zero\n",
      "2022-11-02 19:46:55.051985: I tensorflow/stream_executor/cuda/cuda_gpu_executor.cc:975] successful NUMA node read from SysFS had negative value (-1), but there must be at least one NUMA node, so returning NUMA node zero\n",
      "2022-11-02 19:46:55.052112: I tensorflow/core/common_runtime/gpu/gpu_device.cc:1532] Created device /job:localhost/replica:0/task:0/device:GPU:0 with 1134 MB memory:  -> device: 0, name: NVIDIA GeForce RTX 3070, pci bus id: 0000:01:00.0, compute capability: 8.6\n"
     ]
    },
    {
     "name": "stdout",
     "output_type": "stream",
     "text": [
      "Reading train split.\n",
      "Reading val split.\n",
      "Reading test split.\n"
     ]
    },
    {
     "name": "stderr",
     "output_type": "stream",
     "text": [
      "2022-11-02 19:47:03.656563: E tensorflow/stream_executor/cuda/cuda_dnn.cc:389] Could not create cudnn handle: CUDNN_STATUS_NOT_INITIALIZED\n",
      "2022-11-02 19:47:03.656736: E tensorflow/stream_executor/cuda/cuda_dnn.cc:398] Possibly insufficient driver version: 470.141.3\n",
      "2022-11-02 19:47:03.656778: W tensorflow/core/framework/op_kernel.cc:1745] OP_REQUIRES failed at conv_ops.cc:1130 : UNIMPLEMENTED: DNN library is not found.\n"
     ]
    },
    {
     "ename": "UnimplementedError",
     "evalue": "Graph execution error:\n\nDetected at node 'unet/conv1d/Conv1D' defined at (most recent call last):\n    File \"/home/cam/miniconda3/envs/tf/lib/python3.8/runpy.py\", line 194, in _run_module_as_main\n      return _run_code(code, main_globals, None,\n    File \"/home/cam/miniconda3/envs/tf/lib/python3.8/runpy.py\", line 87, in _run_code\n      exec(code, run_globals)\n    File \"/home/cam/.cache/pypoetry/virtualenvs/database-tools-Qo_l_FwJ-py3.8/lib/python3.8/site-packages/ipykernel_launcher.py\", line 17, in <module>\n      app.launch_new_instance()\n    File \"/home/cam/.cache/pypoetry/virtualenvs/database-tools-Qo_l_FwJ-py3.8/lib/python3.8/site-packages/traitlets/config/application.py\", line 982, in launch_instance\n      app.start()\n    File \"/home/cam/.cache/pypoetry/virtualenvs/database-tools-Qo_l_FwJ-py3.8/lib/python3.8/site-packages/ipykernel/kernelapp.py\", line 712, in start\n      self.io_loop.start()\n    File \"/home/cam/.cache/pypoetry/virtualenvs/database-tools-Qo_l_FwJ-py3.8/lib/python3.8/site-packages/tornado/platform/asyncio.py\", line 215, in start\n      self.asyncio_loop.run_forever()\n    File \"/home/cam/miniconda3/envs/tf/lib/python3.8/asyncio/base_events.py\", line 570, in run_forever\n      self._run_once()\n    File \"/home/cam/miniconda3/envs/tf/lib/python3.8/asyncio/base_events.py\", line 1859, in _run_once\n      handle._run()\n    File \"/home/cam/miniconda3/envs/tf/lib/python3.8/asyncio/events.py\", line 81, in _run\n      self._context.run(self._callback, *self._args)\n    File \"/home/cam/.cache/pypoetry/virtualenvs/database-tools-Qo_l_FwJ-py3.8/lib/python3.8/site-packages/ipykernel/kernelbase.py\", line 510, in dispatch_queue\n      await self.process_one()\n    File \"/home/cam/.cache/pypoetry/virtualenvs/database-tools-Qo_l_FwJ-py3.8/lib/python3.8/site-packages/ipykernel/kernelbase.py\", line 499, in process_one\n      await dispatch(*args)\n    File \"/home/cam/.cache/pypoetry/virtualenvs/database-tools-Qo_l_FwJ-py3.8/lib/python3.8/site-packages/ipykernel/kernelbase.py\", line 406, in dispatch_shell\n      await result\n    File \"/home/cam/.cache/pypoetry/virtualenvs/database-tools-Qo_l_FwJ-py3.8/lib/python3.8/site-packages/ipykernel/kernelbase.py\", line 730, in execute_request\n      reply_content = await reply_content\n    File \"/home/cam/.cache/pypoetry/virtualenvs/database-tools-Qo_l_FwJ-py3.8/lib/python3.8/site-packages/ipykernel/ipkernel.py\", line 383, in do_execute\n      res = shell.run_cell(\n    File \"/home/cam/.cache/pypoetry/virtualenvs/database-tools-Qo_l_FwJ-py3.8/lib/python3.8/site-packages/ipykernel/zmqshell.py\", line 528, in run_cell\n      return super().run_cell(*args, **kwargs)\n    File \"/home/cam/.cache/pypoetry/virtualenvs/database-tools-Qo_l_FwJ-py3.8/lib/python3.8/site-packages/IPython/core/interactiveshell.py\", line 2940, in run_cell\n      result = self._run_cell(\n    File \"/home/cam/.cache/pypoetry/virtualenvs/database-tools-Qo_l_FwJ-py3.8/lib/python3.8/site-packages/IPython/core/interactiveshell.py\", line 2995, in _run_cell\n      return runner(coro)\n    File \"/home/cam/.cache/pypoetry/virtualenvs/database-tools-Qo_l_FwJ-py3.8/lib/python3.8/site-packages/IPython/core/async_helpers.py\", line 129, in _pseudo_sync_runner\n      coro.send(None)\n    File \"/home/cam/.cache/pypoetry/virtualenvs/database-tools-Qo_l_FwJ-py3.8/lib/python3.8/site-packages/IPython/core/interactiveshell.py\", line 3194, in run_cell_async\n      has_raised = await self.run_ast_nodes(code_ast.body, cell_name,\n    File \"/home/cam/.cache/pypoetry/virtualenvs/database-tools-Qo_l_FwJ-py3.8/lib/python3.8/site-packages/IPython/core/interactiveshell.py\", line 3373, in run_ast_nodes\n      if await self.run_code(code, result, async_=asy):\n    File \"/home/cam/.cache/pypoetry/virtualenvs/database-tools-Qo_l_FwJ-py3.8/lib/python3.8/site-packages/IPython/core/interactiveshell.py\", line 3433, in run_code\n      exec(code_obj, self.user_global_ns, self.user_ns)\n    File \"/tmp/ipykernel_58600/1810800377.py\", line 5, in <module>\n      pred = model.predict(test['ppg']).reshape(-1, 256)\n    File \"/home/cam/.cache/pypoetry/virtualenvs/database-tools-Qo_l_FwJ-py3.8/lib/python3.8/site-packages/keras/utils/traceback_utils.py\", line 64, in error_handler\n      return fn(*args, **kwargs)\n    File \"/home/cam/.cache/pypoetry/virtualenvs/database-tools-Qo_l_FwJ-py3.8/lib/python3.8/site-packages/keras/engine/training.py\", line 2033, in predict\n      tmp_batch_outputs = self.predict_function(iterator)\n    File \"/home/cam/.cache/pypoetry/virtualenvs/database-tools-Qo_l_FwJ-py3.8/lib/python3.8/site-packages/keras/engine/training.py\", line 1845, in predict_function\n      return step_function(self, iterator)\n    File \"/home/cam/.cache/pypoetry/virtualenvs/database-tools-Qo_l_FwJ-py3.8/lib/python3.8/site-packages/keras/engine/training.py\", line 1834, in step_function\n      outputs = model.distribute_strategy.run(run_step, args=(data,))\n    File \"/home/cam/.cache/pypoetry/virtualenvs/database-tools-Qo_l_FwJ-py3.8/lib/python3.8/site-packages/keras/engine/training.py\", line 1823, in run_step\n      outputs = model.predict_step(data)\n    File \"/home/cam/.cache/pypoetry/virtualenvs/database-tools-Qo_l_FwJ-py3.8/lib/python3.8/site-packages/keras/engine/training.py\", line 1791, in predict_step\n      return self(x, training=False)\n    File \"/home/cam/.cache/pypoetry/virtualenvs/database-tools-Qo_l_FwJ-py3.8/lib/python3.8/site-packages/keras/utils/traceback_utils.py\", line 64, in error_handler\n      return fn(*args, **kwargs)\n    File \"/home/cam/.cache/pypoetry/virtualenvs/database-tools-Qo_l_FwJ-py3.8/lib/python3.8/site-packages/keras/engine/training.py\", line 490, in __call__\n      return super().__call__(*args, **kwargs)\n    File \"/home/cam/.cache/pypoetry/virtualenvs/database-tools-Qo_l_FwJ-py3.8/lib/python3.8/site-packages/keras/utils/traceback_utils.py\", line 64, in error_handler\n      return fn(*args, **kwargs)\n    File \"/home/cam/.cache/pypoetry/virtualenvs/database-tools-Qo_l_FwJ-py3.8/lib/python3.8/site-packages/keras/engine/base_layer.py\", line 1014, in __call__\n      outputs = call_fn(inputs, *args, **kwargs)\n    File \"/home/cam/.cache/pypoetry/virtualenvs/database-tools-Qo_l_FwJ-py3.8/lib/python3.8/site-packages/keras/utils/traceback_utils.py\", line 92, in error_handler\n      return fn(*args, **kwargs)\n    File \"/home/cam/.cache/pypoetry/virtualenvs/database-tools-Qo_l_FwJ-py3.8/lib/python3.8/site-packages/keras/engine/functional.py\", line 458, in call\n      return self._run_internal_graph(\n    File \"/home/cam/.cache/pypoetry/virtualenvs/database-tools-Qo_l_FwJ-py3.8/lib/python3.8/site-packages/keras/engine/functional.py\", line 596, in _run_internal_graph\n      outputs = node.layer(*args, **kwargs)\n    File \"/home/cam/.cache/pypoetry/virtualenvs/database-tools-Qo_l_FwJ-py3.8/lib/python3.8/site-packages/keras/utils/traceback_utils.py\", line 64, in error_handler\n      return fn(*args, **kwargs)\n    File \"/home/cam/.cache/pypoetry/virtualenvs/database-tools-Qo_l_FwJ-py3.8/lib/python3.8/site-packages/keras/engine/base_layer.py\", line 1014, in __call__\n      outputs = call_fn(inputs, *args, **kwargs)\n    File \"/home/cam/.cache/pypoetry/virtualenvs/database-tools-Qo_l_FwJ-py3.8/lib/python3.8/site-packages/keras/utils/traceback_utils.py\", line 92, in error_handler\n      return fn(*args, **kwargs)\n    File \"/home/cam/.cache/pypoetry/virtualenvs/database-tools-Qo_l_FwJ-py3.8/lib/python3.8/site-packages/keras/layers/convolutional/base_conv.py\", line 250, in call\n      outputs = self.convolution_op(inputs, self.kernel)\n    File \"/home/cam/.cache/pypoetry/virtualenvs/database-tools-Qo_l_FwJ-py3.8/lib/python3.8/site-packages/keras/layers/convolutional/base_conv.py\", line 225, in convolution_op\n      return tf.nn.convolution(\nNode: 'unet/conv1d/Conv1D'\nDNN library is not found.\n\t [[{{node unet/conv1d/Conv1D}}]] [Op:__inference_predict_function_106846]",
     "output_type": "error",
     "traceback": [
      "\u001b[0;31m---------------------------------------------------------------------------\u001b[0m",
      "\u001b[0;31mUnimplementedError\u001b[0m                        Traceback (most recent call last)",
      "Cell \u001b[0;32mIn [2], line 5\u001b[0m\n\u001b[1;32m      3\u001b[0m test \u001b[39m=\u001b[39m read_test_data(\u001b[39m'\u001b[39m\u001b[39m/home/cam/Documents/database_tools/data-2022-10-28/mimic3/\u001b[39m\u001b[39m'\u001b[39m, \u001b[39m10\u001b[39m)\n\u001b[1;32m      4\u001b[0m true \u001b[39m=\u001b[39m test[\u001b[39m'\u001b[39m\u001b[39mabp\u001b[39m\u001b[39m'\u001b[39m]\n\u001b[0;32m----> 5\u001b[0m pred \u001b[39m=\u001b[39m model\u001b[39m.\u001b[39;49mpredict(test[\u001b[39m'\u001b[39;49m\u001b[39mppg\u001b[39;49m\u001b[39m'\u001b[39;49m])\u001b[39m.\u001b[39mreshape(\u001b[39m-\u001b[39m\u001b[39m1\u001b[39m, \u001b[39m256\u001b[39m)\n\u001b[1;32m      7\u001b[0m true \u001b[39m=\u001b[39m scaler\u001b[39m.\u001b[39minverse_transform(true)\u001b[39m.\u001b[39mreshape(\u001b[39m-\u001b[39m\u001b[39m1\u001b[39m, \u001b[39m256\u001b[39m)\n\u001b[1;32m      8\u001b[0m pred \u001b[39m=\u001b[39m scaler\u001b[39m.\u001b[39minverse_transform(pred)\u001b[39m.\u001b[39mreshape(\u001b[39m-\u001b[39m\u001b[39m1\u001b[39m, \u001b[39m256\u001b[39m)\n",
      "File \u001b[0;32m~/.cache/pypoetry/virtualenvs/database-tools-Qo_l_FwJ-py3.8/lib/python3.8/site-packages/keras/utils/traceback_utils.py:67\u001b[0m, in \u001b[0;36mfilter_traceback.<locals>.error_handler\u001b[0;34m(*args, **kwargs)\u001b[0m\n\u001b[1;32m     65\u001b[0m \u001b[39mexcept\u001b[39;00m \u001b[39mException\u001b[39;00m \u001b[39mas\u001b[39;00m e:  \u001b[39m# pylint: disable=broad-except\u001b[39;00m\n\u001b[1;32m     66\u001b[0m   filtered_tb \u001b[39m=\u001b[39m _process_traceback_frames(e\u001b[39m.\u001b[39m__traceback__)\n\u001b[0;32m---> 67\u001b[0m   \u001b[39mraise\u001b[39;00m e\u001b[39m.\u001b[39mwith_traceback(filtered_tb) \u001b[39mfrom\u001b[39;00m \u001b[39mNone\u001b[39m\n\u001b[1;32m     68\u001b[0m \u001b[39mfinally\u001b[39;00m:\n\u001b[1;32m     69\u001b[0m   \u001b[39mdel\u001b[39;00m filtered_tb\n",
      "File \u001b[0;32m~/.cache/pypoetry/virtualenvs/database-tools-Qo_l_FwJ-py3.8/lib/python3.8/site-packages/tensorflow/python/eager/execute.py:54\u001b[0m, in \u001b[0;36mquick_execute\u001b[0;34m(op_name, num_outputs, inputs, attrs, ctx, name)\u001b[0m\n\u001b[1;32m     52\u001b[0m \u001b[39mtry\u001b[39;00m:\n\u001b[1;32m     53\u001b[0m   ctx\u001b[39m.\u001b[39mensure_initialized()\n\u001b[0;32m---> 54\u001b[0m   tensors \u001b[39m=\u001b[39m pywrap_tfe\u001b[39m.\u001b[39mTFE_Py_Execute(ctx\u001b[39m.\u001b[39m_handle, device_name, op_name,\n\u001b[1;32m     55\u001b[0m                                       inputs, attrs, num_outputs)\n\u001b[1;32m     56\u001b[0m \u001b[39mexcept\u001b[39;00m core\u001b[39m.\u001b[39m_NotOkStatusException \u001b[39mas\u001b[39;00m e:\n\u001b[1;32m     57\u001b[0m   \u001b[39mif\u001b[39;00m name \u001b[39mis\u001b[39;00m \u001b[39mnot\u001b[39;00m \u001b[39mNone\u001b[39;00m:\n",
      "\u001b[0;31mUnimplementedError\u001b[0m: Graph execution error:\n\nDetected at node 'unet/conv1d/Conv1D' defined at (most recent call last):\n    File \"/home/cam/miniconda3/envs/tf/lib/python3.8/runpy.py\", line 194, in _run_module_as_main\n      return _run_code(code, main_globals, None,\n    File \"/home/cam/miniconda3/envs/tf/lib/python3.8/runpy.py\", line 87, in _run_code\n      exec(code, run_globals)\n    File \"/home/cam/.cache/pypoetry/virtualenvs/database-tools-Qo_l_FwJ-py3.8/lib/python3.8/site-packages/ipykernel_launcher.py\", line 17, in <module>\n      app.launch_new_instance()\n    File \"/home/cam/.cache/pypoetry/virtualenvs/database-tools-Qo_l_FwJ-py3.8/lib/python3.8/site-packages/traitlets/config/application.py\", line 982, in launch_instance\n      app.start()\n    File \"/home/cam/.cache/pypoetry/virtualenvs/database-tools-Qo_l_FwJ-py3.8/lib/python3.8/site-packages/ipykernel/kernelapp.py\", line 712, in start\n      self.io_loop.start()\n    File \"/home/cam/.cache/pypoetry/virtualenvs/database-tools-Qo_l_FwJ-py3.8/lib/python3.8/site-packages/tornado/platform/asyncio.py\", line 215, in start\n      self.asyncio_loop.run_forever()\n    File \"/home/cam/miniconda3/envs/tf/lib/python3.8/asyncio/base_events.py\", line 570, in run_forever\n      self._run_once()\n    File \"/home/cam/miniconda3/envs/tf/lib/python3.8/asyncio/base_events.py\", line 1859, in _run_once\n      handle._run()\n    File \"/home/cam/miniconda3/envs/tf/lib/python3.8/asyncio/events.py\", line 81, in _run\n      self._context.run(self._callback, *self._args)\n    File \"/home/cam/.cache/pypoetry/virtualenvs/database-tools-Qo_l_FwJ-py3.8/lib/python3.8/site-packages/ipykernel/kernelbase.py\", line 510, in dispatch_queue\n      await self.process_one()\n    File \"/home/cam/.cache/pypoetry/virtualenvs/database-tools-Qo_l_FwJ-py3.8/lib/python3.8/site-packages/ipykernel/kernelbase.py\", line 499, in process_one\n      await dispatch(*args)\n    File \"/home/cam/.cache/pypoetry/virtualenvs/database-tools-Qo_l_FwJ-py3.8/lib/python3.8/site-packages/ipykernel/kernelbase.py\", line 406, in dispatch_shell\n      await result\n    File \"/home/cam/.cache/pypoetry/virtualenvs/database-tools-Qo_l_FwJ-py3.8/lib/python3.8/site-packages/ipykernel/kernelbase.py\", line 730, in execute_request\n      reply_content = await reply_content\n    File \"/home/cam/.cache/pypoetry/virtualenvs/database-tools-Qo_l_FwJ-py3.8/lib/python3.8/site-packages/ipykernel/ipkernel.py\", line 383, in do_execute\n      res = shell.run_cell(\n    File \"/home/cam/.cache/pypoetry/virtualenvs/database-tools-Qo_l_FwJ-py3.8/lib/python3.8/site-packages/ipykernel/zmqshell.py\", line 528, in run_cell\n      return super().run_cell(*args, **kwargs)\n    File \"/home/cam/.cache/pypoetry/virtualenvs/database-tools-Qo_l_FwJ-py3.8/lib/python3.8/site-packages/IPython/core/interactiveshell.py\", line 2940, in run_cell\n      result = self._run_cell(\n    File \"/home/cam/.cache/pypoetry/virtualenvs/database-tools-Qo_l_FwJ-py3.8/lib/python3.8/site-packages/IPython/core/interactiveshell.py\", line 2995, in _run_cell\n      return runner(coro)\n    File \"/home/cam/.cache/pypoetry/virtualenvs/database-tools-Qo_l_FwJ-py3.8/lib/python3.8/site-packages/IPython/core/async_helpers.py\", line 129, in _pseudo_sync_runner\n      coro.send(None)\n    File \"/home/cam/.cache/pypoetry/virtualenvs/database-tools-Qo_l_FwJ-py3.8/lib/python3.8/site-packages/IPython/core/interactiveshell.py\", line 3194, in run_cell_async\n      has_raised = await self.run_ast_nodes(code_ast.body, cell_name,\n    File \"/home/cam/.cache/pypoetry/virtualenvs/database-tools-Qo_l_FwJ-py3.8/lib/python3.8/site-packages/IPython/core/interactiveshell.py\", line 3373, in run_ast_nodes\n      if await self.run_code(code, result, async_=asy):\n    File \"/home/cam/.cache/pypoetry/virtualenvs/database-tools-Qo_l_FwJ-py3.8/lib/python3.8/site-packages/IPython/core/interactiveshell.py\", line 3433, in run_code\n      exec(code_obj, self.user_global_ns, self.user_ns)\n    File \"/tmp/ipykernel_58600/1810800377.py\", line 5, in <module>\n      pred = model.predict(test['ppg']).reshape(-1, 256)\n    File \"/home/cam/.cache/pypoetry/virtualenvs/database-tools-Qo_l_FwJ-py3.8/lib/python3.8/site-packages/keras/utils/traceback_utils.py\", line 64, in error_handler\n      return fn(*args, **kwargs)\n    File \"/home/cam/.cache/pypoetry/virtualenvs/database-tools-Qo_l_FwJ-py3.8/lib/python3.8/site-packages/keras/engine/training.py\", line 2033, in predict\n      tmp_batch_outputs = self.predict_function(iterator)\n    File \"/home/cam/.cache/pypoetry/virtualenvs/database-tools-Qo_l_FwJ-py3.8/lib/python3.8/site-packages/keras/engine/training.py\", line 1845, in predict_function\n      return step_function(self, iterator)\n    File \"/home/cam/.cache/pypoetry/virtualenvs/database-tools-Qo_l_FwJ-py3.8/lib/python3.8/site-packages/keras/engine/training.py\", line 1834, in step_function\n      outputs = model.distribute_strategy.run(run_step, args=(data,))\n    File \"/home/cam/.cache/pypoetry/virtualenvs/database-tools-Qo_l_FwJ-py3.8/lib/python3.8/site-packages/keras/engine/training.py\", line 1823, in run_step\n      outputs = model.predict_step(data)\n    File \"/home/cam/.cache/pypoetry/virtualenvs/database-tools-Qo_l_FwJ-py3.8/lib/python3.8/site-packages/keras/engine/training.py\", line 1791, in predict_step\n      return self(x, training=False)\n    File \"/home/cam/.cache/pypoetry/virtualenvs/database-tools-Qo_l_FwJ-py3.8/lib/python3.8/site-packages/keras/utils/traceback_utils.py\", line 64, in error_handler\n      return fn(*args, **kwargs)\n    File \"/home/cam/.cache/pypoetry/virtualenvs/database-tools-Qo_l_FwJ-py3.8/lib/python3.8/site-packages/keras/engine/training.py\", line 490, in __call__\n      return super().__call__(*args, **kwargs)\n    File \"/home/cam/.cache/pypoetry/virtualenvs/database-tools-Qo_l_FwJ-py3.8/lib/python3.8/site-packages/keras/utils/traceback_utils.py\", line 64, in error_handler\n      return fn(*args, **kwargs)\n    File \"/home/cam/.cache/pypoetry/virtualenvs/database-tools-Qo_l_FwJ-py3.8/lib/python3.8/site-packages/keras/engine/base_layer.py\", line 1014, in __call__\n      outputs = call_fn(inputs, *args, **kwargs)\n    File \"/home/cam/.cache/pypoetry/virtualenvs/database-tools-Qo_l_FwJ-py3.8/lib/python3.8/site-packages/keras/utils/traceback_utils.py\", line 92, in error_handler\n      return fn(*args, **kwargs)\n    File \"/home/cam/.cache/pypoetry/virtualenvs/database-tools-Qo_l_FwJ-py3.8/lib/python3.8/site-packages/keras/engine/functional.py\", line 458, in call\n      return self._run_internal_graph(\n    File \"/home/cam/.cache/pypoetry/virtualenvs/database-tools-Qo_l_FwJ-py3.8/lib/python3.8/site-packages/keras/engine/functional.py\", line 596, in _run_internal_graph\n      outputs = node.layer(*args, **kwargs)\n    File \"/home/cam/.cache/pypoetry/virtualenvs/database-tools-Qo_l_FwJ-py3.8/lib/python3.8/site-packages/keras/utils/traceback_utils.py\", line 64, in error_handler\n      return fn(*args, **kwargs)\n    File \"/home/cam/.cache/pypoetry/virtualenvs/database-tools-Qo_l_FwJ-py3.8/lib/python3.8/site-packages/keras/engine/base_layer.py\", line 1014, in __call__\n      outputs = call_fn(inputs, *args, **kwargs)\n    File \"/home/cam/.cache/pypoetry/virtualenvs/database-tools-Qo_l_FwJ-py3.8/lib/python3.8/site-packages/keras/utils/traceback_utils.py\", line 92, in error_handler\n      return fn(*args, **kwargs)\n    File \"/home/cam/.cache/pypoetry/virtualenvs/database-tools-Qo_l_FwJ-py3.8/lib/python3.8/site-packages/keras/layers/convolutional/base_conv.py\", line 250, in call\n      outputs = self.convolution_op(inputs, self.kernel)\n    File \"/home/cam/.cache/pypoetry/virtualenvs/database-tools-Qo_l_FwJ-py3.8/lib/python3.8/site-packages/keras/layers/convolutional/base_conv.py\", line 225, in convolution_op\n      return tf.nn.convolution(\nNode: 'unet/conv1d/Conv1D'\nDNN library is not found.\n\t [[{{node unet/conv1d/Conv1D}}]] [Op:__inference_predict_function_106846]"
     ]
    }
   ],
   "source": [
    "model = keras.models.load_model('artifacts/model-restful-eon-16:v16/')\n",
    "\n",
    "test = read_test_data('/home/cam/Documents/database_tools/data-2022-10-28/mimic3/', 10)\n",
    "true = test['abp']\n",
    "pred = model.predict(test['ppg']).reshape(-1, 256)\n",
    "\n",
    "true = scaler.inverse_transform(true).reshape(-1, 256)\n",
    "pred = scaler.inverse_transform(pred).reshape(-1, 256)"
   ]
  },
  {
   "cell_type": "code",
   "execution_count": null,
   "metadata": {},
   "outputs": [],
   "source": [
    "from sklearn.metrics import mean_absolute_error\n",
    "\n",
    "err = []\n",
    "for t, p in zip(true, pred):\n",
    "    err.append(mean_absolute_error(t, p))\n",
    "err = np.array(err)"
   ]
  },
  {
   "cell_type": "code",
   "execution_count": null,
   "metadata": {},
   "outputs": [],
   "source": [
    "pd.Series(err).plot.hist(nbins=50)"
   ]
  },
  {
   "cell_type": "code",
   "execution_count": null,
   "metadata": {},
   "outputs": [],
   "source": [
    "len(err[err < 15]) / len(err)"
   ]
  },
  {
   "cell_type": "code",
   "execution_count": null,
   "metadata": {},
   "outputs": [],
   "source": [
    "len(err[err < 10]) / len(err)"
   ]
  },
  {
   "cell_type": "code",
   "execution_count": null,
   "metadata": {},
   "outputs": [],
   "source": [
    "len(err[err < 5]) / len(err)"
   ]
  }
 ],
 "metadata": {
  "kernelspec": {
   "display_name": "Python 3.8.13 ('database-tools-Qo_l_FwJ-py3.8')",
   "language": "python",
   "name": "python3"
  },
  "language_info": {
   "codemirror_mode": {
    "name": "ipython",
    "version": 3
   },
   "file_extension": ".py",
   "mimetype": "text/x-python",
   "name": "python",
   "nbconvert_exporter": "python",
   "pygments_lexer": "ipython3",
   "version": "3.8.13"
  },
  "orig_nbformat": 4,
  "vscode": {
   "interpreter": {
    "hash": "c826fe4c3072c6c8679b0c2c5bfc4e59fc902350ea20ac6cce5df13884cb183b"
   }
  }
 },
 "nbformat": 4,
 "nbformat_minor": 2
}
