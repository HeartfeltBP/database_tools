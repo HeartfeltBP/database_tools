{
 "cells": [
  {
   "cell_type": "code",
   "execution_count": null,
   "metadata": {},
   "outputs": [],
   "source": [
    "import os\n",
    "from database_tools.tools import BuildDatabase\n",
    "\n",
    "repo_dir = '/media/cam/CAPSTONEDB/database_tools/'\n",
    "os.chdir(repo_dir)\n",
    "\n",
    "config = dict(\n",
    "    low=0.5,\n",
    "    high=8.0,\n",
    "    sim1=0.8,\n",
    "    sim2=0.9,\n",
    "    snr_t=22.5,\n",
    "    hr_diff=1/6,\n",
    "    f0_low=0.667,\n",
    "    f0_high=3.0,\n",
    ")\n",
    "\n",
    "worker = BuildDatabase(\n",
    "    output_dir='data-2022-09-25/',\n",
    "    config=config,\n",
    "    win_len=1024,\n",
    "    fs=125,\n",
    "    samples_per_file=2500,\n",
    "    max_samples=300000,\n",
    "    data_dir='physionet.org/files/mimic3wdb/1.0/',\n",
    ")\n",
    "\n",
    "df = worker.run()"
   ]
  },
  {
   "cell_type": "code",
   "execution_count": null,
   "metadata": {},
   "outputs": [],
   "source": [
    "import os\n",
    "import pandas as pd\n",
    "from database_tools.tools import DataEvaluator\n",
    "\n",
    "repo_dir = '/media/cam/CAPSTONEDB/database_tools/'\n",
    "os.chdir(repo_dir)\n",
    "\n",
    "df = pd.read_csv('data-2022-09-23/mimic3_stats.csv')\n",
    "worker = DataEvaluator(stats=df)\n",
    "\n",
    "figs = worker.run()"
   ]
  },
  {
   "cell_type": "code",
   "execution_count": null,
   "metadata": {},
   "outputs": [],
   "source": [
    "df['valid'].value_counts()"
   ]
  },
  {
   "cell_type": "code",
   "execution_count": null,
   "metadata": {},
   "outputs": [],
   "source": [
    "182896 / (300000 + 182896)"
   ]
  },
  {
   "cell_type": "code",
   "execution_count": null,
   "metadata": {},
   "outputs": [],
   "source": [
    "figs['sim'].show()"
   ]
  },
  {
   "cell_type": "code",
   "execution_count": null,
   "metadata": {},
   "outputs": [],
   "source": [
    "figs['snr_abp'].show()"
   ]
  },
  {
   "cell_type": "code",
   "execution_count": null,
   "metadata": {},
   "outputs": [],
   "source": [
    "import glob\n",
    "import json\n",
    "import numpy as np\n",
    "\n",
    "ppg = []\n",
    "abp = []\n",
    "i = 0\n",
    "for file in glob.glob('../data-2022-09-23/mimic3/*.jsonlines'):\n",
    "    print(file)\n",
    "    with open(file, 'r') as f:\n",
    "        for sample in f:\n",
    "            sample = json.loads(sample)\n",
    "            ppg.append(sample['ppg'])\n",
    "            abp.append(sample['abp'])\n",
    "            i += 1\n",
    "    if i == 2500:\n",
    "        break\n",
    "ppg = np.array(ppg).flatten()\n",
    "abp = np.array(abp)"
   ]
  },
  {
   "cell_type": "code",
   "execution_count": null,
   "metadata": {},
   "outputs": [],
   "source": [
    "from time import sleep\n",
    "import plotly.graph_objects as go\n",
    "\n",
    "fig = go.FigureWidget()\n",
    "fig.add_scatter()\n",
    "fig"
   ]
  },
  {
   "cell_type": "code",
   "execution_count": null,
   "metadata": {},
   "outputs": [],
   "source": [
    "for i in range(625, len(ppg)):\n",
    "    sleep(.02)\n",
    "    fig.data[0].y = ppg[i-625:i]"
   ]
  },
  {
   "cell_type": "code",
   "execution_count": null,
   "metadata": {},
   "outputs": [],
   "source": [
    "for f in $files; do mongoimport --db MIMICDB --file $f; done"
   ]
  }
 ],
 "metadata": {
  "kernelspec": {
   "display_name": "Python 3.10.7 ('database-tools-lEqFc-LH-py3.10')",
   "language": "python",
   "name": "python3"
  },
  "language_info": {
   "codemirror_mode": {
    "name": "ipython",
    "version": 3
   },
   "file_extension": ".py",
   "mimetype": "text/x-python",
   "name": "python",
   "nbconvert_exporter": "python",
   "pygments_lexer": "ipython3",
   "version": "3.10.7"
  },
  "orig_nbformat": 4,
  "vscode": {
   "interpreter": {
    "hash": "60d30ecd6d8786643e320bb29fdffb5a2cbfa6f742dbb159ae5883824975ab68"
   }
  }
 },
 "nbformat": 4,
 "nbformat_minor": 2
}
