{
 "cells": [
  {
   "cell_type": "code",
   "execution_count": null,
   "metadata": {},
   "outputs": [],
   "source": [
    "import numpy as np\n",
    "import pandas as pd\n",
    "import pickle as pkl\n",
    "from mpl_toolkits.mplot3d import Axes3D\n",
    "import matplotlib.pyplot as plt\n",
    "from BuildDatabase import BuildDatabase\n",
    "\n",
    "pd.options.plotting.backend = 'plotly'\n",
    "\n",
    "config = dict(\n",
    "    low=0.5,\n",
    "    high=8.0,\n",
    "    sim1=0.7,\n",
    "    sim2=0.9,\n",
    "    snr_t=20,\n",
    "    hr_diff=1/6,\n",
    "    f0_low=0.667,\n",
    "    f0_high=3.0,\n",
    ")\n",
    "\n",
    "worker = BuildDatabase(\n",
    "    output_dir='data-2022-09-23/',\n",
    "    config=config,\n",
    "    win_len=1024,\n",
    "    fs=125,\n",
    "    data_dir='physionet.org/files/mimic3wdb/1.0/',\n",
    ")\n",
    "windows, n_excluded, sim, snr, hr, abp_max, abp_min = worker.run()\n",
    "\n",
    "with open('data.pkl', 'wb') as f:\n",
    "    pkl.dump([windows, n_excluded, sim, snr, hr, abp_max, abp_min], f)"
   ]
  },
  {
   "cell_type": "code",
   "execution_count": null,
   "metadata": {},
   "outputs": [],
   "source": [
    "from DataEvaluator import DataEvaluator\n",
    "\n",
    "with open('data.pkl', 'rb') as f:\n",
    "    windows, n_excluded, sim, snr, hr, abp_max, abp_min = pkl.load(f)\n",
    "\n",
    "eval = DataEvaluator(\n",
    "    sim=sim,\n",
    "    snr=snr,\n",
    "    hr=hr,\n",
    "    n_excluded=n_excluded,\n",
    ")"
   ]
  },
  {
   "cell_type": "code",
   "execution_count": null,
   "metadata": {},
   "outputs": [],
   "source": [
    "fig = eval.evaluate_sim(bins=25)\n",
    "fig.show()"
   ]
  },
  {
   "cell_type": "code",
   "execution_count": null,
   "metadata": {},
   "outputs": [],
   "source": [
    "fig = eval.evaluate_hr(bins=50)\n",
    "fig.show()"
   ]
  }
 ],
 "metadata": {
  "kernelspec": {
   "display_name": "Python 3.8.10 ('DeepLearning')",
   "language": "python",
   "name": "python3"
  },
  "language_info": {
   "codemirror_mode": {
    "name": "ipython",
    "version": 3
   },
   "file_extension": ".py",
   "mimetype": "text/x-python",
   "name": "python",
   "nbconvert_exporter": "python",
   "pygments_lexer": "ipython3",
   "version": "3.8.10"
  },
  "vscode": {
   "interpreter": {
    "hash": "246749377ead2fdda3952347e30ec15afb602bbe25c9b1f20f37c715b8d2d303"
   }
  }
 },
 "nbformat": 4,
 "nbformat_minor": 2
}
