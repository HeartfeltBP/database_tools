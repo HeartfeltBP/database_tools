{
 "cells": [
  {
   "cell_type": "code",
   "execution_count": null,
   "metadata": {},
   "outputs": [],
   "source": [
    "import os\n",
    "from database_tools.tools import BuildDatabase\n",
    "\n",
    "repo_dir = '/home/cam/Documents/database_tools/'\n",
    "os.chdir(repo_dir)\n",
    "\n",
    "config = dict(\n",
    "    low=0.5,                    # low bandpass frequency\n",
    "    high=8.0,                   # high bandpass frequency\n",
    "    sim=0.6,                    # similarity threshold\n",
    "    df=0.2,                     # one sided frequency delta for SNR calculation\n",
    "    snr_t=2.0,                  # SNR threshold\n",
    "    hr_diff=1/6,                # maximum heart rate difference between ppg, abp\n",
    "    f0_low=0.667,               # minimum valid HR in Hz\n",
    "    f0_high=3.0,                # maximum valid HR in Hz\n",
    "    abp_min_bounds=[20, 130],   # upper and lower threshold for DBP\n",
    "    abp_max_bounds=[50, 225],   # upper and lower threshold for SBP\n",
    "    windowsize=1,               # windowsize for rolling mean\n",
    "    ma_perc=20,                 # multiplier for peak detection\n",
    "    beat_sim=0.2,               # lower threshold for beat similarity\n",
    ")\n",
    "\n",
    "worker = BuildDatabase(\n",
    "    output_dir='data-2022-11-08/',\n",
    "    config=config,\n",
    "    win_len=256,\n",
    "    fs=125,\n",
    "    samples_per_file=2500,\n",
    "    max_samples=200000,\n",
    "    data_dir='physionet.org/files/mimic3wdb/1.0/',\n",
    ")\n",
    "\n",
    "worker.run()"
   ]
  },
  {
   "cell_type": "code",
   "execution_count": null,
   "metadata": {},
   "outputs": [],
   "source": [
    "import os\n",
    "import pandas as pd\n",
    "from database_tools.tools import DataEvaluator\n",
    "\n",
    "repo_dir = '/home/cam/Documents/database_tools/'\n",
    "os.chdir(repo_dir)\n",
    "\n",
    "pd.options.display.max_rows = 2500\n",
    "\n",
    "df = pd.read_csv('data-2022-11-08/mimic3_stats.csv')\n",
    "worker = DataEvaluator(stats=df)\n",
    "\n",
    "figs = worker.run()"
   ]
  },
  {
   "cell_type": "code",
   "execution_count": null,
   "metadata": {},
   "outputs": [],
   "source": [
    "import os\n",
    "import json\n",
    "import numpy as np\n",
    "import pandas as pd\n",
    "from tqdm import tqdm\n",
    "import plotly.graph_objects as go\n",
    "\n",
    "sig = []\n",
    "with open(f'../data-2022-11-08/mimic3/lines/mimic3_0000000.jsonlines', 'r') as f:\n",
    "    for sample in f:\n",
    "        sample = json.loads(sample)\n",
    "        sig.append(sample['abp'])\n",
    "sig = np.array(sig)\n",
    "\n",
    "i = 0\n",
    "x = sig[0, :]\n",
    "\n",
    "fig = go.FigureWidget()\n",
    "fig.update_layout(template='plotly_dark')\n",
    "fig.add_scatter(\n",
    "    y=x,\n",
    ")"
   ]
  },
  {
   "cell_type": "code",
   "execution_count": null,
   "metadata": {},
   "outputs": [],
   "source": [
    "import vitaldb\n",
    "\n",
    "caseids = vitaldb.find_cases(['ART', 'PLETH'])\n",
    "len(caseids)"
   ]
  },
  {
   "cell_type": "code",
   "execution_count": null,
   "metadata": {},
   "outputs": [],
   "source": [
    "import plotly.graph_objects as go\n",
    "\n",
    "data = vitaldb.load_case(caseids[0], ['ART', 'PLETH'], 0.002)\n",
    "\n",
    "abp = data[:, 0]\n",
    "ppg = data[:, 1]"
   ]
  },
  {
   "cell_type": "code",
   "execution_count": null,
   "metadata": {},
   "outputs": [],
   "source": [
    "len(ppg)"
   ]
  },
  {
   "cell_type": "code",
   "execution_count": null,
   "metadata": {},
   "outputs": [],
   "source": [
    "fig = go.FigureWidget()\n",
    "fig.update_layout(template='plotly_dark')\n",
    "fig.add_scatter(\n",
    "    y=abp,\n",
    ")"
   ]
  }
 ],
 "metadata": {
  "kernelspec": {
   "display_name": "Python 3.8.13 ('database-tools-Qo_l_FwJ-py3.8')",
   "language": "python",
   "name": "python3"
  },
  "language_info": {
   "codemirror_mode": {
    "name": "ipython",
    "version": 3
   },
   "file_extension": ".py",
   "mimetype": "text/x-python",
   "name": "python",
   "nbconvert_exporter": "python",
   "pygments_lexer": "ipython3",
   "version": "3.8.13"
  },
  "orig_nbformat": 4,
  "vscode": {
   "interpreter": {
    "hash": "c826fe4c3072c6c8679b0c2c5bfc4e59fc902350ea20ac6cce5df13884cb183b"
   }
  }
 },
 "nbformat": 4,
 "nbformat_minor": 2
}
