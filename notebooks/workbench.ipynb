{
 "cells": [
  {
   "cell_type": "code",
   "execution_count": null,
   "metadata": {},
   "outputs": [],
   "source": [
    "import os\n",
    "from SignalProcessor import SignalProcessor\n",
    "\n",
    "repo_dir = '/home/camhpj/database_tools/'\n",
    "os.chdir(repo_dir)\n",
    "\n",
    "worker = SignalProcessor(\n",
    "    files=['physionet.org/files/mimic3wdb/1.0/30/3000480/3000480_0018'],\n",
    "    win_len=1024,\n",
    "    fs=125,\n",
    ")\n",
    "\n",
    "windows = worker.run(\n",
    "    sim1=0.6,\n",
    "    sim2=0.9,\n",
    "    snr_t=2,\n",
    "    hr_diff=10,\n",
    ")"
   ]
  },
  {
   "cell_type": "code",
   "execution_count": null,
   "metadata": {},
   "outputs": [],
   "source": [
    "len(windows)"
   ]
  },
  {
   "cell_type": "code",
   "execution_count": null,
   "metadata": {},
   "outputs": [],
   "source": [
    "import pandas as pd\n",
    "from sklearn.preprocessing import MinMaxScaler\n",
    "\n",
    "pd.options.plotting.backend = 'plotly'\n",
    "\n",
    "i = 0\n",
    "x, y = windows[i][0], windows[i][1]\n",
    "\n",
    "scaler = MinMaxScaler(feature_range=(60, 120))\n",
    "x = scaler.fit_transform(x.reshape(-1, 1)).reshape(-1,)\n",
    "\n",
    "df = pd.DataFrame(\n",
    "    dict(\n",
    "        pleth=x,\n",
    "        abp=y,\n",
    "    )\n",
    ")\n",
    "\n",
    "df.plot()"
   ]
  }
 ],
 "metadata": {
  "kernelspec": {
   "display_name": "Python 3.10.7 ('ml-dev': venv)",
   "language": "python",
   "name": "python3"
  },
  "language_info": {
   "codemirror_mode": {
    "name": "ipython",
    "version": 3
   },
   "file_extension": ".py",
   "mimetype": "text/x-python",
   "name": "python",
   "nbconvert_exporter": "python",
   "pygments_lexer": "ipython3",
   "version": "3.10.7"
  },
  "vscode": {
   "interpreter": {
    "hash": "6260f58c11287286df5f9d02dfa410d3de0ac782705a55dbe46b1570f8ff9e3e"
   }
  }
 },
 "nbformat": 4,
 "nbformat_minor": 2
}
