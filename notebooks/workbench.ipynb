{
 "cells": [
  {
   "cell_type": "code",
   "execution_count": null,
   "metadata": {},
   "outputs": [],
   "source": [
    "import os\n",
    "from database_tools.tools import BuildDatabase\n",
    "\n",
    "repo_dir = '/home/cam/Documents/database_tools/'\n",
    "os.chdir(repo_dir)\n",
    "\n",
    "config = dict(\n",
    "    low=0.5,                    # low bandpass frequency\n",
    "    high=8.0,                   # high bandpass frequency\n",
    "    sim=0.6,                    # similarity threshold\n",
    "    df=0.2,                     # one sided frequency delta for SNR calculation\n",
    "    snr_t=2.0,                  # SNR threshold\n",
    "    hr_diff=1/6,                # Maximum heart rate difference between ppg, abp\n",
    "    f0_low=0.667,               # Minimum valid HR in Hz\n",
    "    f0_high=3.0,                # Maximum valid HR in Hz\n",
    "    abp_min_bounds=[40, 100],   # Upper and lower threshold for DBP\n",
    "    abp_max_bounds=[70, 190],   # Upper and lower threshold for SBP\n",
    ")\n",
    "\n",
    "worker = BuildDatabase(\n",
    "    output_dir='data-2022-10-20/',\n",
    "    config=config,\n",
    "    win_len=256,\n",
    "    fs=125,\n",
    "    samples_per_file=2500,\n",
    "    samples_per_patient=500,\n",
    "    max_samples=1000,\n",
    "    data_dir='physionet.org/files/mimic3wdb/1.0/',\n",
    ")\n",
    "\n",
    "worker.run()"
   ]
  },
  {
   "cell_type": "code",
   "execution_count": null,
   "metadata": {},
   "outputs": [],
   "source": [
    "import os\n",
    "import pandas as pd\n",
    "from database_tools.tools import DataEvaluator\n",
    "\n",
    "pd.options.display.max_rows = 2500\n",
    "\n",
    "df = pd.read_csv('../data-2022-10-20/mimic3_stats.csv')\n",
    "worker = DataEvaluator(stats=df)\n",
    "\n",
    "figs = worker.run()"
   ]
  },
  {
   "cell_type": "code",
   "execution_count": null,
   "metadata": {},
   "outputs": [],
   "source": [
    "import os\n",
    "import time\n",
    "import glob\n",
    "import json\n",
    "import numpy as np\n",
    "import pandas as pd\n",
    "import plotly.graph_objects as go\n",
    "\n",
    "pd.options.plotting.backend = 'plotly'\n",
    "\n",
    "repo_dir = '/media/cam/CAPSTONEDB/database_tools/'\n",
    "os.chdir(repo_dir)\n",
    "\n",
    "ppg = []\n",
    "abp = []\n",
    "with open('data-2022-10-20/mimic3/lines/mimic3_0000000.jsonlines', 'r') as f:\n",
    "    for sample in f:\n",
    "        sample = json.loads(sample)\n",
    "        ppg.append(sample['ppg'])\n",
    "        abp.append(sample['abp'])\n",
    "\n",
    "ppg = np.array(ppg)\n",
    "abp = np.array(abp)\n",
    "\n",
    "fig = go.FigureWidget()\n",
    "fig.add_scatter()\n",
    "fig.update_layout(\n",
    "    template='plotly_dark',\n",
    ")"
   ]
  },
  {
   "cell_type": "code",
   "execution_count": null,
   "metadata": {},
   "outputs": [],
   "source": [
    "for i in range(0, 2500):\n",
    "    fig.data[0].y = ppg[i, :]\n",
    "    time.sleep(0.75)"
   ]
  }
 ],
 "metadata": {
  "kernelspec": {
   "display_name": "Python 3.8.13 ('database-tools-Qo_l_FwJ-py3.8')",
   "language": "python",
   "name": "python3"
  },
  "language_info": {
   "codemirror_mode": {
    "name": "ipython",
    "version": 3
   },
   "file_extension": ".py",
   "mimetype": "text/x-python",
   "name": "python",
   "nbconvert_exporter": "python",
   "pygments_lexer": "ipython3",
   "version": "3.8.13"
  },
  "orig_nbformat": 4,
  "vscode": {
   "interpreter": {
    "hash": "c826fe4c3072c6c8679b0c2c5bfc4e59fc902350ea20ac6cce5df13884cb183b"
   }
  }
 },
 "nbformat": 4,
 "nbformat_minor": 2
}
