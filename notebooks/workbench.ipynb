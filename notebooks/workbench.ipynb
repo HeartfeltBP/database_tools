{
 "cells": [
  {
   "cell_type": "code",
   "execution_count": null,
   "metadata": {},
   "outputs": [],
   "source": [
    "import os\n",
    "from database_tools import BuildDatabase\n",
    "from database_tools.utils.build_empty_database import build_empty_database\n",
    "\n",
    "# repo_dir = '/home/cam/Documents/database_tools/'\n",
    "# os.chdir(repo_dir)\n",
    "\n",
    "# build_empty_database()"
   ]
  },
  {
   "cell_type": "code",
   "execution_count": null,
   "metadata": {},
   "outputs": [],
   "source": [
    "worker = BuildDatabase(records_path='data/RECORDS-adults',\n",
    "                       data_profile_csv='data/sample_count_data.csv',\n",
    "                       pleth_csv='data/pleth_data.csv',\n",
    "                       abp_csv='data/abp_data.csv',\n",
    "                       max_records=200)\n",
    "worker.run()"
   ]
  },
  {
   "cell_type": "code",
   "execution_count": null,
   "metadata": {},
   "outputs": [],
   "source": [
    "import pandas as pd\n",
    "\n",
    "pleth = pd.read_csv('../data/pleth_data.csv')\n",
    "abp = pd.read_csv('../data/abp_data.csv')"
   ]
  },
  {
   "cell_type": "code",
   "execution_count": null,
   "metadata": {},
   "outputs": [],
   "source": [
    "len(pleth)"
   ]
  }
 ],
 "metadata": {
  "kernelspec": {
   "display_name": "Python 3.10.7 ('ml-dev': venv)",
   "language": "python",
   "name": "python3"
  },
  "language_info": {
   "codemirror_mode": {
    "name": "ipython",
    "version": 3
   },
   "file_extension": ".py",
   "mimetype": "text/x-python",
   "name": "python",
   "nbconvert_exporter": "python",
   "pygments_lexer": "ipython3",
   "version": "3.10.7"
  },
  "vscode": {
   "interpreter": {
    "hash": "6260f58c11287286df5f9d02dfa410d3de0ac782705a55dbe46b1570f8ff9e3e"
   }
  }
 },
 "nbformat": 4,
 "nbformat_minor": 2
}
