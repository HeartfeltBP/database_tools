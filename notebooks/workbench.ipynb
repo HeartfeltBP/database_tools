{
 "cells": [
  {
   "cell_type": "code",
   "execution_count": null,
   "metadata": {},
   "outputs": [],
   "source": [
    "import os\n",
    "from database_tools import BuildDatabase\n",
    "from database_tools.utils import build_empty_database\n",
    "\n",
    "repo_dir = '/home/camhpj/database_tools/'\n",
    "os.chdir(repo_dir)\n",
    "\n",
    "build_empty_database()\n",
    "\n",
    "worker = BuildDatabase(records_path='data/RECORDS-adults',\n",
    "                       data_profile_csv='data/sample_count_data.csv',\n",
    "                       pleth_csv='data/pleth_data.csv',\n",
    "                       abp_csv='data/abp_data.csv',\n",
    "                       max_records=30)\n",
    "worker.run()"
   ]
  },
  {
   "cell_type": "code",
   "execution_count": null,
   "metadata": {},
   "outputs": [],
   "source": [
    "import pandas as pd\n",
    "import numpy as np\n",
    "\n",
    "df = pd.read_csv('../data/pleth_data.csv', index_col='index')"
   ]
  },
  {
   "cell_type": "code",
   "execution_count": null,
   "metadata": {},
   "outputs": [],
   "source": [
    "pleth = np.array(df.loc[1:8145, [f'sig_{str(i).zfill(3)}' for i in range(625)]]).flatten()"
   ]
  },
  {
   "cell_type": "code",
   "execution_count": null,
   "metadata": {},
   "outputs": [],
   "source": [
    "pd.options.plotting.backend = \"plotly\"\n",
    "\n",
    "pd.Series(pleth[0:100000]).plot()"
   ]
  },
  {
   "cell_type": "code",
   "execution_count": null,
   "metadata": {},
   "outputs": [],
   "source": [
    "df2 = pd.read_csv('../data/abp_data.csv', index_col='index')"
   ]
  },
  {
   "cell_type": "code",
   "execution_count": null,
   "metadata": {},
   "outputs": [],
   "source": [
    "df2"
   ]
  },
  {
   "cell_type": "code",
   "execution_count": null,
   "metadata": {},
   "outputs": [],
   "source": [
    "df2[['sbp', 'dbp']].plot.scatter(x='sbp', y='dbp')"
   ]
  },
  {
   "cell_type": "code",
   "execution_count": null,
   "metadata": {},
   "outputs": [],
   "source": [
    "len(df)"
   ]
  },
  {
   "cell_type": "code",
   "execution_count": null,
   "metadata": {},
   "outputs": [],
   "source": [
    "import os\n",
    "from shutil import rmtree\n",
    "\n",
    "rmtree(repo_dir + 'data/')\n",
    "# rmtree(repo_dir + 'physionet.org/files/mimic3wdb/1.0/')"
   ]
  },
  {
   "cell_type": "code",
   "execution_count": null,
   "metadata": {},
   "outputs": [],
   "source": [
    "import pandas as pd\n",
    "\n",
    "records = pd.read_csv('records/RECORDS-adults', names=['patient dir'])\n",
    "x = records['patient dir'].str.find('3000060')\n",
    "x.index[x != -1][0]"
   ]
  },
  {
   "cell_type": "code",
   "execution_count": null,
   "metadata": {},
   "outputs": [],
   "source": [
    "import pandas as pd\n",
    "import plotly.graph_objects as go\n",
    "from neurokit2.ppg import ppg_findpeaks\n",
    "from heartpy.preprocessing import flip_signal\n",
    "\n",
    "sig = None\n",
    "fig = go.Figure()\n",
    "fig.add_trace(go.Scatter(y=sig, mode='lines'))\n",
    "peaks = ppg_findpeaks(sig, sampling_rate=125)['PPG_Peaks']\n",
    "valleys = ppg_findpeaks(flip_signal(sig), sampling_rate=125)['PPG_Peaks']\n",
    "fig.add_trace(go.Scatter(x=peaks, y=sig[peaks], mode='markers'))\n",
    "fig.add_trace(go.Scatter(x=valleys, y=sig[valleys], mode='markers'))\n",
    "fig.show()"
   ]
  },
  {
   "cell_type": "code",
   "execution_count": null,
   "metadata": {},
   "outputs": [],
   "source": [
    "from database_tools.utils import build_empty_database\n",
    "\n",
    "build_empty_database()"
   ]
  },
  {
   "cell_type": "code",
   "execution_count": null,
   "metadata": {},
   "outputs": [],
   "source": [
    "from csv import writer\n",
    "\n",
    "data_profile_csv = '../data/sample_count_data.csv'\n",
    "\n",
    "with open(data_profile_csv, 'r') as f:\n",
    "    last_idx = int(f.readlines()[-1].split(',')[0])\n",
    "with open(data_profile_csv, 'a') as f:\n",
    "    w = writer(f)\n",
    "    row = [last_idx + 1, '001', 0, True]\n",
    "    w.writerow(row)"
   ]
  },
  {
   "cell_type": "code",
   "execution_count": null,
   "metadata": {},
   "outputs": [],
   "source": [
    "import pandas as pd\n",
    "\n",
    "df = pd.read_csv(data_profile_csv)\n",
    "df"
   ]
  },
  {
   "cell_type": "code",
   "execution_count": null,
   "metadata": {},
   "outputs": [],
   "source": [
    "start_idx = df.index.to_list()[-1] + 1\n",
    "for i, idx in enumerate(range(start_idx, start_idx + 10)):\n",
    "    print(i, idx)"
   ]
  }
 ],
 "metadata": {
  "kernelspec": {
   "display_name": "Python 3.10.7 ('ml-dev': venv)",
   "language": "python",
   "name": "python3"
  },
  "language_info": {
   "codemirror_mode": {
    "name": "ipython",
    "version": 3
   },
   "file_extension": ".py",
   "mimetype": "text/x-python",
   "name": "python",
   "nbconvert_exporter": "python",
   "pygments_lexer": "ipython3",
   "version": "3.10.7"
  },
  "vscode": {
   "interpreter": {
    "hash": "6260f58c11287286df5f9d02dfa410d3de0ac782705a55dbe46b1570f8ff9e3e"
   }
  }
 },
 "nbformat": 4,
 "nbformat_minor": 2
}
