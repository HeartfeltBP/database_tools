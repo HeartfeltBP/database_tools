{
 "cells": [
  {
   "cell_type": "code",
   "execution_count": null,
   "metadata": {},
   "outputs": [],
   "source": [
    "import os\n",
    "from database_tools.tools import BuildDatabase\n",
    "\n",
    "repo_dir = '/media/cam/CAPSTONEDB/database_tools/'\n",
    "os.chdir(repo_dir)\n",
    "\n",
    "config = dict(\n",
    "    low=0.5,\n",
    "    high=8.0,\n",
    "    sim1=0.6,\n",
    "    df=0.2,\n",
    "    snr_t=2.0,\n",
    "    hr_diff=1/6,\n",
    "    f0_low=0.667,\n",
    "    f0_high=3.0,\n",
    "    abp_min_bounds=[40, 100],\n",
    "    abp_max_bounds=[70, 190],\n",
    ")\n",
    "\n",
    "worker = BuildDatabase(\n",
    "    output_dir='data-2022-10-12/',\n",
    "    config=config,\n",
    "    win_len=256,\n",
    "    fs=125,\n",
    "    samples_per_file=2500,\n",
    "    samples_per_patient=500,\n",
    "    max_samples=300000,\n",
    "    data_dir='physionet.org/files/mimic3wdb/1.0/',\n",
    ")\n",
    "\n",
    "worker.run()"
   ]
  },
  {
   "cell_type": "code",
   "execution_count": null,
   "metadata": {},
   "outputs": [],
   "source": [
    "import os\n",
    "import pandas as pd\n",
    "from database_tools.tools import DataEvaluator\n",
    "\n",
    "pd.options.display.max_rows = 2500\n",
    "\n",
    "repo_dir = '/media/cam/CAPSTONEDB/database_tools/'\n",
    "os.chdir(repo_dir)\n",
    "\n",
    "df = pd.read_csv('data-2022-10-12/mimic3_stats.csv')\n",
    "worker = DataEvaluator(stats=df)\n",
    "\n",
    "figs = worker.run()"
   ]
  },
  {
   "cell_type": "code",
   "execution_count": null,
   "metadata": {},
   "outputs": [],
   "source": [
    "import os\n",
    "import time\n",
    "import glob\n",
    "import json\n",
    "import numpy as np\n",
    "import pandas as pd\n",
    "import plotly.graph_objects as go\n",
    "\n",
    "pd.options.plotting.backend = 'plotly'\n",
    "\n",
    "repo_dir = '/media/cam/CAPSTONEDB/database_tools/'\n",
    "os.chdir(repo_dir)\n",
    "\n",
    "ppg = []\n",
    "abp = []\n",
    "with open('data-2022-10-12/mimic3/lines/mimic3_0000000.jsonlines', 'r') as f:\n",
    "    for sample in f:\n",
    "        sample = json.loads(sample)\n",
    "        ppg.append(sample['ppg'])\n",
    "        abp.append(sample['abp'])\n",
    "\n",
    "ppg = np.array(ppg)\n",
    "abp = np.array(abp)\n",
    "\n",
    "fig = go.FigureWidget()\n",
    "fig.add_scatter()\n",
    "fig.update_layout(\n",
    "    template='plotly_dark',\n",
    ")"
   ]
  },
  {
   "cell_type": "code",
   "execution_count": null,
   "metadata": {},
   "outputs": [],
   "source": [
    "for i in range(0, 2500):\n",
    "    fig.data[0].y = ppg[i, :]\n",
    "    time.sleep(0.75)"
   ]
  },
  {
   "cell_type": "code",
   "execution_count": null,
   "metadata": {},
   "outputs": [],
   "source": [
    "# for f in $files; do mongoimport --db MIMICDB --file $f; done\n",
    "\n",
    "# from pymongo import MongoClient\n",
    "\n",
    "# uri = 'mongodb://127.0.0.1:27017/?directConnection=true&serverSelectionTimeoutMS=2000&appName=mongosh+1.6.0'\n",
    "# client = MongoClient(uri)\n",
    "\n",
    "# coll = client.MIMICDB.mimic3_0000067\n",
    "\n",
    "# cursor = coll.find()\n",
    "# for doc in cursor:\n",
    "#     print(doc)"
   ]
  }
 ],
 "metadata": {
  "kernelspec": {
   "display_name": "Python 3.10.7 ('database-tools-lEqFc-LH-py3.10')",
   "language": "python",
   "name": "python3"
  },
  "language_info": {
   "codemirror_mode": {
    "name": "ipython",
    "version": 3
   },
   "file_extension": ".py",
   "mimetype": "text/x-python",
   "name": "python",
   "nbconvert_exporter": "python",
   "pygments_lexer": "ipython3",
   "version": "3.10.7"
  },
  "orig_nbformat": 4,
  "vscode": {
   "interpreter": {
    "hash": "60d30ecd6d8786643e320bb29fdffb5a2cbfa6f742dbb159ae5883824975ab68"
   }
  }
 },
 "nbformat": 4,
 "nbformat_minor": 2
}
