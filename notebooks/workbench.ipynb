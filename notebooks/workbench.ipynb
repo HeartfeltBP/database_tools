{
 "cells": [
  {
   "cell_type": "code",
   "execution_count": null,
   "metadata": {},
   "outputs": [],
   "source": [
    "import os\n",
    "from database_tools.tools import BuildDatabase\n",
    "\n",
    "repo_dir = '/media/cam/CAPSTONEDB/database_tools/'\n",
    "os.chdir(repo_dir)\n",
    "\n",
    "config = dict(\n",
    "    low=0.5,\n",
    "    high=8.0,\n",
    "    sim1=0.7,\n",
    "    sim2=0.9,\n",
    "    snr_t=22.5,\n",
    "    hr_diff=1/6,\n",
    "    f0_low=0.667,\n",
    "    f0_high=3.0,\n",
    "    abp_min_bounds=[40, 100],  # this is largest possible range of valid bp values\n",
    "    abp_max_bounds=[70, 190],  # ^\n",
    ")\n",
    "\n",
    "worker = BuildDatabase(\n",
    "    output_dir='data-2022-09-29/',\n",
    "    config=config,\n",
    "    win_len=256,\n",
    "    fs=125,\n",
    "    samples_per_file=2500,\n",
    "    samples_per_patient=600,\n",
    "    max_samples=300000,\n",
    "    data_dir='physionet.org/files/mimic3wdb/1.0/',\n",
    ")\n",
    "\n",
    "df = worker.run()"
   ]
  },
  {
   "cell_type": "code",
   "execution_count": null,
   "metadata": {},
   "outputs": [],
   "source": [
    "import numpy as np\n",
    "\n",
    "low=0.5\n",
    "high=8.0\n",
    "sim1=0.7\n",
    "sim2=0.9\n",
    "snr_t=22.5\n",
    "hr_diff=1/6\n",
    "f0_low=0.667\n",
    "f0_high=3.0\n",
    "abp_min_bounds=[40, 100]\n",
    "abp_max_bounds=[70, 190]\n",
    "\n",
    "time_sim = 0.917812\n",
    "spec_sim = 0.982195\t\n",
    "snr_p = 31.567170\n",
    "snr_a = 18.929158\n",
    "f0_p = 124.640565 / 60\n",
    "f0_a = 124.300533 / 60\n",
    "f0 = np.array([f0_p, f0_a])\n",
    "min_ = 72.65625\n",
    "max_ = 140.62500\n",
    "\n",
    "valid = False\n",
    "if np.nan in [time_sim, spec_sim, snr_p, snr_a, f0_p, f0_a, min_, max_]:\n",
    "    pass\n",
    "elif (time_sim < sim1) | (spec_sim < sim1):\n",
    "    pass\n",
    "elif ( (snr_p < snr_t) | (snr_a < snr_t) ) & ( (time_sim < sim2) | (spec_sim < sim2) ):\n",
    "    pass\n",
    "elif ( np.abs(f0_p - f0_a) > hr_diff ) & ( (time_sim < sim2) | (spec_sim < sim2) ):\n",
    "    pass\n",
    "elif (f0 < f0_low).any() | (f0 > f0_high).any():\n",
    "    pass\n",
    "elif (min_ < abp_min_bounds[0]) | (max_ > abp_max_bounds[1]):\n",
    "    pass\n",
    "elif (max_ < abp_max_bounds[0]) | (max_ > abp_max_bounds[1]):\n",
    "    pass\n",
    "else:\n",
    "    valid = True\n",
    "valid"
   ]
  },
  {
   "cell_type": "code",
   "execution_count": null,
   "metadata": {},
   "outputs": [],
   "source": [
    "import os\n",
    "import pandas as pd\n",
    "from database_tools.tools import DataEvaluator\n",
    "\n",
    "pd.options.display.max_rows = 1000\n",
    "\n",
    "repo_dir = '/media/cam/CAPSTONEDB/database_tools/'\n",
    "os.chdir(repo_dir)\n",
    "\n",
    "df = pd.read_csv('data-2022-09-29/mimic3_stats.csv')\n",
    "worker = DataEvaluator(stats=df)\n",
    "\n",
    "figs = worker.run()"
   ]
  },
  {
   "cell_type": "code",
   "execution_count": null,
   "metadata": {},
   "outputs": [],
   "source": [
    "df.head(1000)"
   ]
  },
  {
   "cell_type": "code",
   "execution_count": null,
   "metadata": {},
   "outputs": [],
   "source": [
    "import glob\n",
    "import json\n",
    "import numpy as np\n",
    "\n",
    "ppg = []\n",
    "abp = []\n",
    "\n",
    "with open('../data-2022-09-29/mimic3/mimic3_0000000.jsonlines', 'r') as f:\n",
    "    for sample in f:\n",
    "        sample = json.loads(sample)\n",
    "        ppg.append(sample['ppg'])\n",
    "        abp.append(sample['abp'])\n",
    "\n",
    "\n",
    "ppg = np.array(ppg).flatten()\n",
    "abp = np.array(abp).flatten()"
   ]
  },
  {
   "cell_type": "code",
   "execution_count": null,
   "metadata": {},
   "outputs": [],
   "source": [
    "import plotly.graph_objects as go\n",
    "from sklearn.preprocessing import MinMaxScaler\n",
    "\n",
    "fig = go.FigureWidget()\n",
    "fig.add_scatter()\n",
    "fig.update_layout(\n",
    "    xaxis_title='Time',\n",
    "    yaxis_title='Amplitude',\n",
    "    width=1000,\n",
    "    height=800,\n",
    ")\n",
    "fig\n",
    "# fig.data[0].y = y"
   ]
  },
  {
   "cell_type": "code",
   "execution_count": null,
   "metadata": {},
   "outputs": [],
   "source": [
    "# for f in $files; do mongoimport --db MIMICDB --file $f; done\n",
    "\n",
    "# from pymongo import MongoClient\n",
    "\n",
    "# uri = 'mongodb://127.0.0.1:27017/?directConnection=true&serverSelectionTimeoutMS=2000&appName=mongosh+1.6.0'\n",
    "# client = MongoClient(uri)\n",
    "\n",
    "# coll = client.MIMICDB.mimic3_0000067\n",
    "\n",
    "# cursor = coll.find()\n",
    "# for doc in cursor:\n",
    "#     print(doc)"
   ]
  }
 ],
 "metadata": {
  "kernelspec": {
   "display_name": "Python 3.10.7 ('database-tools-lEqFc-LH-py3.10')",
   "language": "python",
   "name": "python3"
  },
  "language_info": {
   "codemirror_mode": {
    "name": "ipython",
    "version": 3
   },
   "file_extension": ".py",
   "mimetype": "text/x-python",
   "name": "python",
   "nbconvert_exporter": "python",
   "pygments_lexer": "ipython3",
   "version": "3.10.7"
  },
  "orig_nbformat": 4,
  "vscode": {
   "interpreter": {
    "hash": "60d30ecd6d8786643e320bb29fdffb5a2cbfa6f742dbb159ae5883824975ab68"
   }
  }
 },
 "nbformat": 4,
 "nbformat_minor": 2
}
