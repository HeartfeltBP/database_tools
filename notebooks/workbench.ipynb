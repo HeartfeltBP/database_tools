{
 "cells": [
  {
   "cell_type": "code",
   "execution_count": null,
   "metadata": {},
   "outputs": [],
   "source": [
    "import os\n",
    "from database_tools.tools import BuildDatabase\n",
    "from database_tools.utils import build_empty_database\n",
    "\n",
    "# repo_dir = '/home/cam/Documents/database_tools/'\n",
    "# os.chdir(repo_dir)\n",
    "\n",
    "# build_empty_database()"
   ]
  },
  {
   "cell_type": "code",
   "execution_count": null,
   "metadata": {},
   "outputs": [],
   "source": [
    "import os\n",
    "from database_tools.tools import BuildDatabase\n",
    "from database_tools.utils.compile import *\n",
    "\n",
    "repo_dir = '/home/cam/Documents/database_tools/'\n",
    "os.chdir(repo_dir)\n",
    "\n",
    "worker = BuildDatabase(records_path='data/RECORDS-adults',\n",
    "                       data_profile_csv='data/sample_count_data.csv',\n",
    "                       max_records=200,\n",
    "                       max_file_size=100,\n",
    "                       data_dir='physionet.org/files/mimic3wdb/1.0/',\n",
    "                       output_dir='data/mimic3/')\n",
    "worker.run()"
   ]
  },
  {
   "cell_type": "code",
   "execution_count": null,
   "metadata": {},
   "outputs": [],
   "source": [
    "from database_tools.utils.compile import read_dataset\n",
    "\n",
    "dataset = read_dataset('data/mimic3/')\n",
    "example = dataset.take(1)\n",
    "for feature in example:\n",
    "    print(feature)"
   ]
  }
 ],
 "metadata": {
  "kernelspec": {
   "display_name": "Python 3.10.7 ('ml-dev': venv)",
   "language": "python",
   "name": "python3"
  },
  "language_info": {
   "codemirror_mode": {
    "name": "ipython",
    "version": 3
   },
   "file_extension": ".py",
   "mimetype": "text/x-python",
   "name": "python",
   "nbconvert_exporter": "python",
   "pygments_lexer": "ipython3",
   "version": "3.10.7"
  },
  "vscode": {
   "interpreter": {
    "hash": "6260f58c11287286df5f9d02dfa410d3de0ac782705a55dbe46b1570f8ff9e3e"
   }
  }
 },
 "nbformat": 4,
 "nbformat_minor": 2
}
