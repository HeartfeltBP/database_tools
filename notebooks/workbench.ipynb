{
 "cells": [
  {
   "cell_type": "code",
   "execution_count": null,
   "metadata": {},
   "outputs": [],
   "source": [
    "import os\n",
    "import pandas as pd\n",
    "from SignalProcessor import SignalProcessor\n",
    "\n",
    "pd.options.plotting.backend = 'plotly'\n",
    "\n",
    "repo_dir = '/home/cam/Documents/database_tools/'\n",
    "os.chdir(repo_dir)\n",
    "\n",
    "worker = SignalProcessor(\n",
    "    files=['physionet.org/files/mimic3wdb/1.0/30/3000480/3000480_0018'],\n",
    "    win_len=1024,\n",
    "    fs=125,\n",
    ")\n",
    "\n",
    "windows, snr, hr = worker.run(\n",
    "    sim1=0.6,\n",
    "    sim2=0.9,\n",
    "    snr_t=20,\n",
    "    hr_diff=1/6,\n",
    "    f0_low=0.667,\n",
    "    f0_high=3.0\n",
    ")\n",
    "len(windows)"
   ]
  },
  {
   "cell_type": "code",
   "execution_count": null,
   "metadata": {},
   "outputs": [],
   "source": [
    "from sklearn.preprocessing import MinMaxScaler\n",
    "from Preprocessing.SignalLevelFiltering import get_snr\n",
    "\n",
    "i = 0\n",
    "x, y = windows[i][0], windows[i][1]\n",
    "\n",
    "scaler = MinMaxScaler(feature_range=(60, 120))\n",
    "x = scaler.fit_transform(x.reshape(-1, 1)).reshape(-1,)\n",
    "\n",
    "df = pd.DataFrame(\n",
    "    dict(\n",
    "        pleth=x,\n",
    "        abp=y,\n",
    "    )\n",
    ")\n",
    "\n",
    "df.plot()"
   ]
  },
  {
   "cell_type": "code",
   "execution_count": null,
   "metadata": {},
   "outputs": [],
   "source": [
    "import numpy as np\n",
    "\n",
    "x = np.array([0, 1, 2, 3])\n",
    "np.logical_and(x >= 1, x <= 2)"
   ]
  },
  {
   "cell_type": "code",
   "execution_count": null,
   "metadata": {},
   "outputs": [],
   "source": [
    "get_snr(y, low=0.5, high=8, fs=100)"
   ]
  },
  {
   "cell_type": "code",
   "execution_count": null,
   "metadata": {},
   "outputs": [],
   "source": [
    "from Preprocessing.SignalLevelFiltering import get_snr\n",
    "import heartpy as hp\n",
    "\n",
    "x = hp.load_exampledata()[0]\n",
    "pd.Series(x).plot()"
   ]
  },
  {
   "cell_type": "code",
   "execution_count": null,
   "metadata": {},
   "outputs": [],
   "source": []
  }
 ],
 "metadata": {
  "kernelspec": {
   "display_name": "Python 3.10.7 ('ml-dev': venv)",
   "language": "python",
   "name": "python3"
  },
  "language_info": {
   "codemirror_mode": {
    "name": "ipython",
    "version": 3
   },
   "file_extension": ".py",
   "mimetype": "text/x-python",
   "name": "python",
   "nbconvert_exporter": "python",
   "pygments_lexer": "ipython3",
   "version": "3.10.7"
  },
  "vscode": {
   "interpreter": {
    "hash": "6260f58c11287286df5f9d02dfa410d3de0ac782705a55dbe46b1570f8ff9e3e"
   }
  }
 },
 "nbformat": 4,
 "nbformat_minor": 2
}
