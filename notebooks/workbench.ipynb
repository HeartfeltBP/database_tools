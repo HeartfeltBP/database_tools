{
 "cells": [
  {
   "cell_type": "code",
   "execution_count": null,
   "metadata": {},
   "outputs": [],
   "source": [
    "from database_tools.io.records import get_header_record\n",
    "from database_tools.filtering.exclusion import layout_has_signals"
   ]
  },
  {
   "cell_type": "code",
   "execution_count": null,
   "metadata": {},
   "outputs": [],
   "source": [
    "hea = get_header_record(path='30/3000063', record_type='layout')\n",
    "layout_has_signals(hea, signals=['PLETH', 'IV'])"
   ]
  }
 ],
 "metadata": {
  "kernelspec": {
   "display_name": "heartfelt-tools-yHaj6fLI-py3.9",
   "language": "python",
   "name": "python3"
  },
  "language_info": {
   "codemirror_mode": {
    "name": "ipython",
    "version": 3
   },
   "file_extension": ".py",
   "mimetype": "text/x-python",
   "name": "python",
   "nbconvert_exporter": "python",
   "pygments_lexer": "ipython3",
   "version": "3.9.13"
  },
  "orig_nbformat": 4,
  "vscode": {
   "interpreter": {
    "hash": "132c743df4140e26ae0992ed5a08d62fa655732ef826eedcd961bcd3b30468db"
   }
  }
 },
 "nbformat": 4,
 "nbformat_minor": 2
}
