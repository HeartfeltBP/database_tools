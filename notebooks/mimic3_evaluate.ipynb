{
 "cells": [
  {
   "cell_type": "code",
   "execution_count": 1,
   "metadata": {},
   "outputs": [],
   "source": [
    "import os\n",
    "import numpy as np\n",
    "import pandas as pd\n",
    "import plotly.graph_objects as go\n",
    "from database_tools.tools import DataEvaluator\n",
    "\n",
    "data_dir = '/home/cam/Documents/database_tools/data/data-2022-11-08/'"
   ]
  },
  {
   "cell_type": "code",
   "execution_count": 2,
   "metadata": {},
   "outputs": [],
   "source": [
    "stats = pd.read_csv(data_dir + 'mimic3_stats.csv')\n",
    "eval = DataEvaluator(stats)\n",
    "figs = eval.run()"
   ]
  }
 ],
 "metadata": {
  "kernelspec": {
   "display_name": "database-tools-Qo_l_FwJ-py3.9",
   "language": "python",
   "name": "python3"
  },
  "language_info": {
   "codemirror_mode": {
    "name": "ipython",
    "version": 3
   },
   "file_extension": ".py",
   "mimetype": "text/x-python",
   "name": "python",
   "nbconvert_exporter": "python",
   "pygments_lexer": "ipython3",
   "version": "3.9.12"
  },
  "orig_nbformat": 4,
  "vscode": {
   "interpreter": {
    "hash": "114bae941a3f7811b2bbaf94e7986841e3e231b79fd4a0400432a0b4534f7ce6"
   }
  }
 },
 "nbformat": 4,
 "nbformat_minor": 2
}
