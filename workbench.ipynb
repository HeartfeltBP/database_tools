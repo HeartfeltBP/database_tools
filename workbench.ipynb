{
 "cells": [
  {
   "cell_type": "code",
   "execution_count": null,
   "metadata": {},
   "outputs": [],
   "source": [
    "from build_database import ExtractData\n",
    "\n",
    "worker = ExtractData(records_path='records/RECORDS-adults',\n",
    "                     sample_count_data_path='data/sample_count_data.csv',\n",
    "                     pleth_data_path='data/pleth_data.csv',\n",
    "                     abp_data_path='data/abp_data.csv',\n",
    "                     max_records=20)\n",
    "worker.run()"
   ]
  },
  {
   "cell_type": "code",
   "execution_count": null,
   "metadata": {},
   "outputs": [],
   "source": [
    "import pandas as pd\n",
    "\n",
    "records = pd.read_csv('records/RECORDS-adults', names=['patient dir'])\n",
    "x = records['patient dir'].str.find('3000060')\n",
    "x.index[x != -1][0]"
   ]
  },
  {
   "cell_type": "code",
   "execution_count": null,
   "metadata": {},
   "outputs": [],
   "source": [
    "import pandas as pd\n",
    "import plotly.graph_objects as go\n",
    "from neurokit2.ppg import ppg_findpeaks\n",
    "from heartpy.preprocessing import flip_signal\n",
    "\n",
    "sig = None\n",
    "fig = go.Figure()\n",
    "fig.add_trace(go.Scatter(y=sig, mode='lines'))\n",
    "peaks = ppg_findpeaks(sig, sampling_rate=125)['PPG_Peaks']\n",
    "valleys = ppg_findpeaks(flip_signal(sig), sampling_rate=125)['PPG_Peaks']\n",
    "fig.add_trace(go.Scatter(x=peaks, y=sig[peaks], mode='markers'))\n",
    "fig.add_trace(go.Scatter(x=valleys, y=sig[valleys], mode='markers'))\n",
    "fig.show()"
   ]
  },
  {
   "cell_type": "code",
   "execution_count": null,
   "metadata": {},
   "outputs": [],
   "source": [
    "from shutil import rmtree\n",
    "\n",
    "rmtree('physionet.org/files/mimic3wdb/1.0/')"
   ]
  }
 ],
 "metadata": {
  "kernelspec": {
   "display_name": "Python 3.8.10 ('DeepLearning')",
   "language": "python",
   "name": "python3"
  },
  "language_info": {
   "codemirror_mode": {
    "name": "ipython",
    "version": 3
   },
   "file_extension": ".py",
   "mimetype": "text/x-python",
   "name": "python",
   "nbconvert_exporter": "python",
   "pygments_lexer": "ipython3",
   "version": "3.8.10"
  },
  "orig_nbformat": 4,
  "vscode": {
   "interpreter": {
    "hash": "246749377ead2fdda3952347e30ec15afb602bbe25c9b1f20f37c715b8d2d303"
   }
  }
 },
 "nbformat": 4,
 "nbformat_minor": 2
}
