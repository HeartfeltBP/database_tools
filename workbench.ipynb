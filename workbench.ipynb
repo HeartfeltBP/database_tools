{
 "cells": [
  {
   "cell_type": "code",
   "execution_count": null,
   "metadata": {},
   "outputs": [],
   "source": [
    "# output -> RECORDS_<NUM>_1\n",
    "!python3 valid_signals.py"
   ]
  },
  {
   "cell_type": "code",
   "execution_count": null,
   "metadata": {},
   "outputs": [],
   "source": [
    "# output -> RECORDS_<NUM>_2\n",
    "!python3 valid_length.py"
   ]
  },
  {
   "cell_type": "code",
   "execution_count": null,
   "metadata": {},
   "outputs": [],
   "source": [
    "# output -> RECORDS_<NUM>_3\n",
    "!python3 valid_signals_length.py"
   ]
  },
  {
   "cell_type": "code",
   "execution_count": null,
   "metadata": {},
   "outputs": [],
   "source": [
    "import csv\n",
    "from tqdm import tqdm\n",
    "from utils import runcmd\n",
    "from wfdb import rdheader\n",
    "\n",
    "with open('MIMIC-III-RECORDS/RECORDS_30_2.csv', 'r') as f:\n",
    "    x = f.read().splitlines()\n",
    "f.close()\n",
    "\n",
    "OUTFILE = 'RECORDS_30_3'\n",
    "RECORDS = [i.split(',') for i in x]\n",
    "DIR_NUM = '30/'\n",
    "\n",
    "valid_patients = []\n",
    "base_dir = 'physionet.org/files/mimic3wdb/1.0/'\n",
    "for rec in RECORDS:\n",
    "    pid = rec[0]\n",
    "    valid_segments = []\n",
    "    for sid in rec[1::]:\n",
    "        path = base_dir + DIR_NUM + str(pid) + f'/{sid}'\n",
    "\n",
    "        runcmd('wget -r -np https://' + path + '.hea')\n",
    "        hea = rdheader(path)\n",
    "        if ('PLETH' in hea.sig_name) & ('ABP' in hea.sig_name):\n",
    "            valid_segments.append(sid)\n",
    "        runcmd('rm ' + path)\n",
    "    if len(valid_segments) != 0:\n",
    "        valid_segments.insert(0, pid)\n",
    "        valid_patients.append(valid_segments)\n",
    "\n",
    "with open(f'MIMIC-III-RECORDS/{OUTFILE}.csv', 'w') as f:\n",
    "    write = csv.writer(f)\n",
    "    write.writerows(valid_patients)\n",
    "f.close()"
   ]
  }
 ],
 "metadata": {
  "kernelspec": {
   "display_name": "Python 3.8.10 ('DeepLearning')",
   "language": "python",
   "name": "python3"
  },
  "language_info": {
   "codemirror_mode": {
    "name": "ipython",
    "version": 3
   },
   "file_extension": ".py",
   "mimetype": "text/x-python",
   "name": "python",
   "nbconvert_exporter": "python",
   "pygments_lexer": "ipython3",
   "version": "3.8.10"
  },
  "orig_nbformat": 4,
  "vscode": {
   "interpreter": {
    "hash": "246749377ead2fdda3952347e30ec15afb602bbe25c9b1f20f37c715b8d2d303"
   }
  }
 },
 "nbformat": 4,
 "nbformat_minor": 2
}
