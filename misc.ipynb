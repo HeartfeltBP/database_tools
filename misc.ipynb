{
 "cells": [
  {
   "cell_type": "code",
   "execution_count": null,
   "metadata": {},
   "outputs": [],
   "source": [
    "from wfdb.io import rdrecord\n",
    "import matplotlib.pyplot as plt\n",
    "\n",
    "p = 'physionet.org/files/mimic3wdb/1.0/31/3100038/3100038_0159'\n",
    "\n",
    "wav = rdrecord(p)\n",
    "print(wav.sig_name)\n",
    "\n",
    "abp = wav.p_signal[:, 1]\n",
    "pleth = wav.p_signal[:, 2]\n",
    "\n",
    "plt.plot(pleth[20000:21000])\n",
    "plt.show()\n",
    "\n",
    "plt.plot(abp[20000:21000])\n",
    "plt.show()"
   ]
  },
  {
   "cell_type": "code",
   "execution_count": null,
   "metadata": {},
   "outputs": [],
   "source": [
    "from py_compile import compile\n",
    "compile('valid_patients.py')"
   ]
  }
 ],
 "metadata": {
  "kernelspec": {
   "display_name": "Python 3.8.10 ('DeepLearning')",
   "language": "python",
   "name": "python3"
  },
  "language_info": {
   "codemirror_mode": {
    "name": "ipython",
    "version": 3
   },
   "file_extension": ".py",
   "mimetype": "text/x-python",
   "name": "python",
   "nbconvert_exporter": "python",
   "pygments_lexer": "ipython3",
   "version": "3.8.10"
  },
  "orig_nbformat": 4,
  "vscode": {
   "interpreter": {
    "hash": "246749377ead2fdda3952347e30ec15afb602bbe25c9b1f20f37c715b8d2d303"
   }
  }
 },
 "nbformat": 4,
 "nbformat_minor": 2
}
