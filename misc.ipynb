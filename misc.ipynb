{
 "cells": [
  {
   "cell_type": "code",
   "execution_count": null,
   "metadata": {},
   "outputs": [],
   "source": [
    "from wfdb.io import rdrecord\n",
    "import matplotlib.pyplot as plt\n",
    "\n",
    "p = 'physionet.org/files/mimic3wdb/1.0/31/3100038/3100038_0159'\n",
    "\n",
    "wav = rdrecord(p)\n",
    "print(wav.sig_name)\n",
    "\n",
    "abp = wav.p_signal[:, 1]\n",
    "pleth = wav.p_signal[:, 2]\n",
    "\n",
    "plt.plot(pleth[20000:21000])\n",
    "plt.show()\n",
    "\n",
    "plt.plot(abp[20000:21000])\n",
    "plt.show()"
   ]
  },
  {
   "cell_type": "code",
   "execution_count": null,
   "metadata": {},
   "outputs": [],
   "source": [
    "from py_compile import compile\n",
    "compile('valid_patients.py')"
   ]
  }
 ],
 "metadata": {
  "language_info": {
   "name": "python"
  },
  "orig_nbformat": 4
 },
 "nbformat": 4,
 "nbformat_minor": 2
}
